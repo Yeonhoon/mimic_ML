{
 "cells": [
  {
   "cell_type": "markdown",
   "metadata": {},
   "source": [
    "### Import Packages"
   ]
  },
  {
   "cell_type": "code",
   "execution_count": 1,
   "metadata": {},
   "outputs": [],
   "source": [
    "from sklearn.preprocessing import MinMaxScaler, StandardScaler, OneHotEncoder\n",
    "from sklearn.metrics import accuracy_score, confusion_matrix, f1_score, recall_score, precision_score\n",
    "from sklearn.model_selection import train_test_split, cross_validate\n",
    "import numpy as np\n",
    "import pandas as pd\n",
    "import os, sys\n"
   ]
  },
  {
   "cell_type": "code",
   "execution_count": 2,
   "metadata": {},
   "outputs": [
    {
     "data": {
      "text/plain": [
       "'c:\\\\Users\\\\user\\\\mimic\\\\mimic-iv\\\\ml'"
      ]
     },
     "execution_count": 2,
     "metadata": {},
     "output_type": "execute_result"
    }
   ],
   "source": [
    "os.getcwd()"
   ]
  },
  {
   "cell_type": "code",
   "execution_count": 3,
   "metadata": {},
   "outputs": [],
   "source": [
    "df = pd.read_csv('C:/Users/user/mimic/Mimic-iv/csv/df.csv')"
   ]
  },
  {
   "cell_type": "code",
   "execution_count": 4,
   "metadata": {},
   "outputs": [
    {
     "data": {
      "text/plain": [
       "0    13397\n",
       "1     4595\n",
       "Name: afib_within_7days, dtype: int64"
      ]
     },
     "execution_count": 4,
     "metadata": {},
     "output_type": "execute_result"
    }
   ],
   "source": [
    "df['afib_within_7days'].value_counts()"
   ]
  },
  {
   "cell_type": "code",
   "execution_count": 6,
   "metadata": {},
   "outputs": [],
   "source": [
    "exclude_vars = ['time','_id','duration','death','dod',\n",
    "'cvicu','first_careunit',\n",
    "'inhos','90','t2e','ethnicity','gender','crrt_after_afib','ventil_usage_before_afib',\n",
    "'ventil_usage','ventil_usage_after_afib','afib_newonset','after_afib','exclusion','weight','height',\n",
    "'crrt_usage','brady_count','hypo_count']\n",
    "expr = '|'.join(exclude_vars)\n",
    "\n",
    "mask= df.columns.str.contains(expr)==False\n",
    "df = df.iloc[:,mask]"
   ]
  },
  {
   "cell_type": "code",
   "execution_count": 7,
   "metadata": {},
   "outputs": [
    {
     "data": {
      "text/plain": [
       "0    14935\n",
       "1     3057\n",
       "Name: dex_usage, dtype: int64"
      ]
     },
     "execution_count": 7,
     "metadata": {},
     "output_type": "execute_result"
    }
   ],
   "source": [
    "df['dex_usage'].value_counts()"
   ]
  },
  {
   "cell_type": "markdown",
   "metadata": {},
   "source": [
    "### Preprocessing"
   ]
  },
  {
   "cell_type": "markdown",
   "metadata": {},
   "source": [
    "#### Outlier"
   ]
  },
  {
   "cell_type": "code",
   "execution_count": 8,
   "metadata": {},
   "outputs": [
    {
     "name": "stderr",
     "output_type": "stream",
     "text": [
      "C:\\Users\\user\\AppData\\Local\\Temp/ipykernel_3696/1495625771.py:8: SettingWithCopyWarning: \n",
      "A value is trying to be set on a copy of a slice from a DataFrame\n",
      "\n",
      "See the caveats in the documentation: https://pandas.pydata.org/pandas-docs/stable/user_guide/indexing.html#returning-a-view-versus-a-copy\n",
      "  if (df[i][j] < minimum) | (df[i][j]>maximum): df[i][j] = np.nan\n",
      "C:\\Users\\user\\miniconda3\\envs\\mimic4\\lib\\site-packages\\pandas\\core\\indexing.py:1732: SettingWithCopyWarning: \n",
      "A value is trying to be set on a copy of a slice from a DataFrame\n",
      "\n",
      "See the caveats in the documentation: https://pandas.pydata.org/pandas-docs/stable/user_guide/indexing.html#returning-a-view-versus-a-copy\n",
      "  self._setitem_single_block(indexer, value, name)\n"
     ]
    }
   ],
   "source": [
    "exception = ['afib_within_7days','dex_usage']\n",
    "for i in df.loc[:,df.dtypes!='object'].columns:\n",
    "    if i not in exception :\n",
    "        Q1, Q3 = df[i].quantile([0.25,0.75]).values\n",
    "        IQR = Q3 - Q1\n",
    "        minimum, maximum = (Q1-1.5*IQR), (Q3 + 1.5 * IQR)\n",
    "        for j in range(df[i].shape[0]):\n",
    "            if (df[i][j] < minimum) | (df[i][j]>maximum): df[i][j] = np.nan\n",
    "            "
   ]
  },
  {
   "cell_type": "code",
   "execution_count": 9,
   "metadata": {},
   "outputs": [
    {
     "data": {
      "text/plain": [
       "0    14935\n",
       "1     3057\n",
       "Name: dex_usage, dtype: int64"
      ]
     },
     "execution_count": 9,
     "metadata": {},
     "output_type": "execute_result"
    }
   ],
   "source": [
    "df['dex_usage'].value_counts()"
   ]
  },
  {
   "cell_type": "markdown",
   "metadata": {},
   "source": [
    "#### imputation"
   ]
  },
  {
   "cell_type": "code",
   "execution_count": 10,
   "metadata": {},
   "outputs": [
    {
     "data": {
      "text/plain": [
       "<AxesSubplot:xlabel='value', ylabel='count'>"
      ]
     },
     "execution_count": 10,
     "metadata": {},
     "output_type": "execute_result"
    },
    {
     "data": {
      "image/png": "[encoded data removed]",
      "text/plain": [
       "<Figure size 432x288 with 1 Axes>"
      ]
     },
     "metadata": {
      "needs_background": "light"
     },
     "output_type": "display_data"
    }
   ],
   "source": [
    "import seaborn as sns\n",
    "naDf = pd.DataFrame(df.isna().sum())\n",
    "naDf.index.name='value'\n",
    "naDf.rename(columns={0:'count'}, inplace=True)\n",
    "naDf.reset_index(inplace=True)\n",
    "naDf\n",
    "\n",
    "sns.barplot(data=naDf, x='value', y='count')"
   ]
  },
  {
   "cell_type": "code",
   "execution_count": 11,
   "metadata": {},
   "outputs": [
    {
     "name": "stderr",
     "output_type": "stream",
     "text": [
      "C:\\Users\\user\\AppData\\Local\\Temp/ipykernel_3696/3337489165.py:2: FutureWarning: Dropping of nuisance columns in DataFrame reductions (with 'numeric_only=None') is deprecated; in a future version this will raise TypeError.  Select only valid columns before calling the reduction.\n",
      "  df = df.fillna(df.median())\n"
     ]
    }
   ],
   "source": [
    "imputation_target = df.loc[:,df.isnull().sum()>0].columns\n",
    "df = df.fillna(df.median())"
   ]
  },
  {
   "cell_type": "markdown",
   "metadata": {},
   "source": [
    "\n",
    "#### Scaling\n",
    "- chr -> one-hot encoding\n",
    "- numeric -> standard scaler"
   ]
  },
  {
   "cell_type": "code",
   "execution_count": 12,
   "metadata": {},
   "outputs": [],
   "source": [
    "onehot_columns = df.loc[:,df.dtypes=='object'].columns\n",
    "\n",
    "for i in onehot_columns:\n",
    "    if i=='sex':\n",
    "        df[i] = np.where(df[i]=='Female',0,1)\n",
    "    elif len(df[i].unique())==2:\n",
    "        df[i] = np.where(df[i]=='Yes',1,0)\n",
    "    else:\n",
    "        pass\n"
   ]
  },
  {
   "cell_type": "code",
   "execution_count": 13,
   "metadata": {},
   "outputs": [
    {
     "data": {
      "text/plain": [
       "Index(['CCU', 'CVICU', 'ETC', 'MICU', 'SICU'], dtype='object')"
      ]
     },
     "execution_count": 13,
     "metadata": {},
     "output_type": "execute_result"
    }
   ],
   "source": [
    "onehot_encoder = OneHotEncoder()\n",
    "onehot_result = onehot_encoder.fit_transform(df[['icuunit']])\n",
    "\n",
    "# onehot_result\n",
    "onehot_result_df = pd.DataFrame(onehot_result.toarray(),columns=['CCU','CVICU','ETC','MICU','SICU'])\n",
    "onehot_result_df.columns"
   ]
  },
  {
   "cell_type": "code",
   "execution_count": 14,
   "metadata": {},
   "outputs": [],
   "source": [
    "df = df.drop('icuunit',axis=1)\n",
    "df = pd.concat([df, onehot_result_df],axis=1)"
   ]
  },
  {
   "cell_type": "code",
   "execution_count": 15,
   "metadata": {},
   "outputs": [
    {
     "data": {
      "text/plain": [
       "Index(['age', 'los_hospital', 'los_icu', 'cci', 'hemoglobin', 'platelet',\n",
       "       'wbc', 'bicarbonate', 'bun', 'creatinine', 'sodium', 'calcium',\n",
       "       'potassium', 'magnesium', 'chloride', 'lactate', 'heart_rate',\n",
       "       'resp_rate', 'temperature', 'spo2', 'map', 'sofa_score', 'sepsis',\n",
       "       'vis', 'sex', 'dex_usage', 'afib_within_7days', 'crrt_before_afib',\n",
       "       'ventilator', 'bmi', 'race', 'heart_surgery', 'cardioversion', 'CCU',\n",
       "       'CVICU', 'ETC', 'MICU', 'SICU'],\n",
       "      dtype='object')"
      ]
     },
     "execution_count": 15,
     "metadata": {},
     "output_type": "execute_result"
    }
   ],
   "source": [
    "df.columns"
   ]
  },
  {
   "cell_type": "markdown",
   "metadata": {},
   "source": [
    "#### CHECK VIF"
   ]
  },
  {
   "cell_type": "code",
   "execution_count": 16,
   "metadata": {},
   "outputs": [],
   "source": [
    "from statsmodels.stats.outliers_influence import variance_inflation_factor\n",
    "from patsy import dmatrices\n",
    "import statsmodels.api as sm"
   ]
  },
  {
   "cell_type": "code",
   "execution_count": 17,
   "metadata": {},
   "outputs": [
    {
     "name": "stderr",
     "output_type": "stream",
     "text": [
      "C:\\Users\\user\\miniconda3\\envs\\mimic4\\lib\\site-packages\\statsmodels\\regression\\linear_model.py:1715: RuntimeWarning: divide by zero encountered in double_scalars\n",
      "  return 1 - self.ssr/self.centered_tss\n",
      "C:\\Users\\user\\miniconda3\\envs\\mimic4\\lib\\site-packages\\statsmodels\\regression\\linear_model.py:1715: RuntimeWarning: invalid value encountered in double_scalars\n",
      "  return 1 - self.ssr/self.centered_tss\n",
      "C:\\Users\\user\\miniconda3\\envs\\mimic4\\lib\\site-packages\\statsmodels\\stats\\outliers_influence.py:193: RuntimeWarning: divide by zero encountered in double_scalars\n",
      "  vif = 1. / (1. - r_squared_i)\n"
     ]
    },
    {
     "data": {
      "text/html": [
       "<div>\n",
       "<style scoped>\n",
       "    .dataframe tbody tr th:only-of-type {\n",
       "        vertical-align: middle;\n",
       "    }\n",
       "\n",
       "    .dataframe tbody tr th {\n",
       "        vertical-align: top;\n",
       "    }\n",
       "\n",
       "    .dataframe thead th {\n",
       "        text-align: right;\n",
       "    }\n",
       "</style>\n",
       "<table border=\"1\" class=\"dataframe\">\n",
       "  <thead>\n",
       "    <tr style=\"text-align: right;\">\n",
       "      <th></th>\n",
       "      <th>VIF factor</th>\n",
       "      <th>features</th>\n",
       "    </tr>\n",
       "  </thead>\n",
       "  <tbody>\n",
       "    <tr>\n",
       "      <th>0</th>\n",
       "      <td>0.000000</td>\n",
       "      <td>Intercept</td>\n",
       "    </tr>\n",
       "    <tr>\n",
       "      <th>1</th>\n",
       "      <td>1.675628</td>\n",
       "      <td>age</td>\n",
       "    </tr>\n",
       "    <tr>\n",
       "      <th>2</th>\n",
       "      <td>1.173666</td>\n",
       "      <td>los_hospital</td>\n",
       "    </tr>\n",
       "    <tr>\n",
       "      <th>3</th>\n",
       "      <td>1.209767</td>\n",
       "      <td>los_icu</td>\n",
       "    </tr>\n",
       "    <tr>\n",
       "      <th>4</th>\n",
       "      <td>1.706014</td>\n",
       "      <td>cci</td>\n",
       "    </tr>\n",
       "    <tr>\n",
       "      <th>5</th>\n",
       "      <td>1.232115</td>\n",
       "      <td>hemoglobin</td>\n",
       "    </tr>\n",
       "    <tr>\n",
       "      <th>6</th>\n",
       "      <td>1.222540</td>\n",
       "      <td>platelet</td>\n",
       "    </tr>\n",
       "    <tr>\n",
       "      <th>7</th>\n",
       "      <td>1.134716</td>\n",
       "      <td>wbc</td>\n",
       "    </tr>\n",
       "    <tr>\n",
       "      <th>8</th>\n",
       "      <td>1.328156</td>\n",
       "      <td>bicarbonate</td>\n",
       "    </tr>\n",
       "    <tr>\n",
       "      <th>9</th>\n",
       "      <td>1.529040</td>\n",
       "      <td>bun</td>\n",
       "    </tr>\n",
       "    <tr>\n",
       "      <th>10</th>\n",
       "      <td>1.498240</td>\n",
       "      <td>creatinine</td>\n",
       "    </tr>\n",
       "    <tr>\n",
       "      <th>11</th>\n",
       "      <td>1.685827</td>\n",
       "      <td>sodium</td>\n",
       "    </tr>\n",
       "    <tr>\n",
       "      <th>12</th>\n",
       "      <td>1.242168</td>\n",
       "      <td>calcium</td>\n",
       "    </tr>\n",
       "    <tr>\n",
       "      <th>13</th>\n",
       "      <td>1.133147</td>\n",
       "      <td>potassium</td>\n",
       "    </tr>\n",
       "    <tr>\n",
       "      <th>14</th>\n",
       "      <td>1.147357</td>\n",
       "      <td>magnesium</td>\n",
       "    </tr>\n",
       "    <tr>\n",
       "      <th>15</th>\n",
       "      <td>2.055003</td>\n",
       "      <td>chloride</td>\n",
       "    </tr>\n",
       "    <tr>\n",
       "      <th>16</th>\n",
       "      <td>1.105734</td>\n",
       "      <td>lactate</td>\n",
       "    </tr>\n",
       "    <tr>\n",
       "      <th>17</th>\n",
       "      <td>1.107254</td>\n",
       "      <td>heart_rate</td>\n",
       "    </tr>\n",
       "    <tr>\n",
       "      <th>18</th>\n",
       "      <td>1.106659</td>\n",
       "      <td>resp_rate</td>\n",
       "    </tr>\n",
       "    <tr>\n",
       "      <th>19</th>\n",
       "      <td>1.011454</td>\n",
       "      <td>temperature</td>\n",
       "    </tr>\n",
       "    <tr>\n",
       "      <th>20</th>\n",
       "      <td>1.033068</td>\n",
       "      <td>spo2</td>\n",
       "    </tr>\n",
       "    <tr>\n",
       "      <th>21</th>\n",
       "      <td>1.065338</td>\n",
       "      <td>map</td>\n",
       "    </tr>\n",
       "    <tr>\n",
       "      <th>22</th>\n",
       "      <td>1.585083</td>\n",
       "      <td>sofa_score</td>\n",
       "    </tr>\n",
       "    <tr>\n",
       "      <th>23</th>\n",
       "      <td>1.231980</td>\n",
       "      <td>sepsis</td>\n",
       "    </tr>\n",
       "    <tr>\n",
       "      <th>24</th>\n",
       "      <td>1.126421</td>\n",
       "      <td>vis</td>\n",
       "    </tr>\n",
       "    <tr>\n",
       "      <th>25</th>\n",
       "      <td>1.103288</td>\n",
       "      <td>sex</td>\n",
       "    </tr>\n",
       "    <tr>\n",
       "      <th>26</th>\n",
       "      <td>1.098322</td>\n",
       "      <td>dex_usage</td>\n",
       "    </tr>\n",
       "    <tr>\n",
       "      <th>27</th>\n",
       "      <td>1.045820</td>\n",
       "      <td>crrt_before_afib</td>\n",
       "    </tr>\n",
       "    <tr>\n",
       "      <th>28</th>\n",
       "      <td>1.165909</td>\n",
       "      <td>ventilator</td>\n",
       "    </tr>\n",
       "    <tr>\n",
       "      <th>29</th>\n",
       "      <td>1.049950</td>\n",
       "      <td>bmi</td>\n",
       "    </tr>\n",
       "    <tr>\n",
       "      <th>30</th>\n",
       "      <td>NaN</td>\n",
       "      <td>race</td>\n",
       "    </tr>\n",
       "    <tr>\n",
       "      <th>31</th>\n",
       "      <td>1.088890</td>\n",
       "      <td>heart_surgery</td>\n",
       "    </tr>\n",
       "    <tr>\n",
       "      <th>32</th>\n",
       "      <td>1.100217</td>\n",
       "      <td>cardioversion</td>\n",
       "    </tr>\n",
       "    <tr>\n",
       "      <th>33</th>\n",
       "      <td>inf</td>\n",
       "      <td>CCU</td>\n",
       "    </tr>\n",
       "    <tr>\n",
       "      <th>34</th>\n",
       "      <td>inf</td>\n",
       "      <td>CVICU</td>\n",
       "    </tr>\n",
       "    <tr>\n",
       "      <th>35</th>\n",
       "      <td>inf</td>\n",
       "      <td>ETC</td>\n",
       "    </tr>\n",
       "    <tr>\n",
       "      <th>36</th>\n",
       "      <td>inf</td>\n",
       "      <td>MICU</td>\n",
       "    </tr>\n",
       "    <tr>\n",
       "      <th>37</th>\n",
       "      <td>inf</td>\n",
       "      <td>SICU</td>\n",
       "    </tr>\n",
       "  </tbody>\n",
       "</table>\n",
       "</div>"
      ],
      "text/plain": [
       "    VIF factor          features\n",
       "0     0.000000         Intercept\n",
       "1     1.675628               age\n",
       "2     1.173666      los_hospital\n",
       "3     1.209767           los_icu\n",
       "4     1.706014               cci\n",
       "5     1.232115        hemoglobin\n",
       "6     1.222540          platelet\n",
       "7     1.134716               wbc\n",
       "8     1.328156       bicarbonate\n",
       "9     1.529040               bun\n",
       "10    1.498240        creatinine\n",
       "11    1.685827            sodium\n",
       "12    1.242168           calcium\n",
       "13    1.133147         potassium\n",
       "14    1.147357         magnesium\n",
       "15    2.055003          chloride\n",
       "16    1.105734           lactate\n",
       "17    1.107254        heart_rate\n",
       "18    1.106659         resp_rate\n",
       "19    1.011454       temperature\n",
       "20    1.033068              spo2\n",
       "21    1.065338               map\n",
       "22    1.585083        sofa_score\n",
       "23    1.231980            sepsis\n",
       "24    1.126421               vis\n",
       "25    1.103288               sex\n",
       "26    1.098322         dex_usage\n",
       "27    1.045820  crrt_before_afib\n",
       "28    1.165909        ventilator\n",
       "29    1.049950               bmi\n",
       "30         NaN              race\n",
       "31    1.088890     heart_surgery\n",
       "32    1.100217     cardioversion\n",
       "33         inf               CCU\n",
       "34         inf             CVICU\n",
       "35         inf               ETC\n",
       "36         inf              MICU\n",
       "37         inf              SICU"
      ]
     },
     "execution_count": 17,
     "metadata": {},
     "output_type": "execute_result"
    }
   ],
   "source": [
    "target = 'afib_within_7days'\n",
    "x= list(df.columns)\n",
    "x.remove('afib_within_7days')\n",
    "xs = \"+\".join(x)\n",
    "form = target + \"~\" + xs\n",
    "\n",
    "Y,X = dmatrices(form, df, return_type='dataframe')\n",
    "vif =pd.DataFrame()\n",
    "vif['VIF factor'] = [variance_inflation_factor(X.values,i) for i in range(X.shape[1])]\n",
    "vif['features'] = X.columns\n",
    "vif"
   ]
  },
  {
   "cell_type": "markdown",
   "metadata": {},
   "source": [
    "### Modeling"
   ]
  },
  {
   "cell_type": "code",
   "execution_count": 18,
   "metadata": {},
   "outputs": [],
   "source": [
    "\n",
    "y = df['afib_within_7days']\n",
    "x = df.iloc[:,df.columns != 'afib_within_7days']\n",
    "x_train, x_test, y_train, y_test = train_test_split(x,y, random_state=7795, test_size=0.3)\n"
   ]
  },
  {
   "cell_type": "code",
   "execution_count": 19,
   "metadata": {},
   "outputs": [
    {
     "name": "stderr",
     "output_type": "stream",
     "text": [
      "C:\\Users\\user\\miniconda3\\envs\\mimic4\\lib\\site-packages\\sklearn\\linear_model\\_logistic.py:763: ConvergenceWarning: lbfgs failed to converge (status=1):\n",
      "STOP: TOTAL NO. of ITERATIONS REACHED LIMIT.\n",
      "\n",
      "Increase the number of iterations (max_iter) or scale the data as shown in:\n",
      "    https://scikit-learn.org/stable/modules/preprocessing.html\n",
      "Please also refer to the documentation for alternative solver options:\n",
      "    https://scikit-learn.org/stable/modules/linear_model.html#logistic-regression\n",
      "  n_iter_i = _check_optimize_result(\n",
      "C:\\Users\\user\\miniconda3\\envs\\mimic4\\lib\\site-packages\\xgboost\\sklearn.py:1212: UserWarning: The use of label encoder in XGBClassifier is deprecated and will be removed in a future release. To remove this warning, do the following: 1) Pass option use_label_encoder=False when constructing XGBClassifier object; and 2) Encode your labels (y) as integers starting with 0, i.e. 0, 1, 2, ..., [num_class - 1].\n",
      "  warnings.warn(label_encoder_deprecation_msg, UserWarning)\n"
     ]
    }
   ],
   "source": [
    "from sklearn.linear_model import LogisticRegression\n",
    "from sklearn.ensemble import RandomForestClassifier\n",
    "from xgboost import XGBClassifier\n",
    "from lightgbm import LGBMClassifier\n",
    "from sklearn.neural_network import MLPClassifier\n",
    "from sklearn.metrics import roc_auc_score, precision_recall_curve, auc, f1_score\n",
    "\n",
    "lr = LogisticRegression().fit(x_train,y_train)\n",
    "rf = RandomForestClassifier().fit(x_train,y_train)\n",
    "xgb = XGBClassifier().fit(x_train, y_train)\n",
    "lgbm = LGBMClassifier().fit(x_train,y_train)\n",
    "mlp = MLPClassifier().fit(x_train,y_train)\n",
    "\n",
    "lr_pred = lr.predict_proba(x_test)[:,1]\n",
    "rf_pred = rf.predict_proba(x_test)[:,1]\n",
    "xgb_pred = xgb.predict_proba(x_test)[:,1]\n",
    "lgbm_pred = lgbm.predict_proba(x_test)[:,1]\n",
    "mlp_pred = mlp.predict_proba(x_test)[:,1]\n",
    "\n",
    "lr_pred_exact = lr.predict(x_test)\n",
    "rf_pred_exact = rf.predict(x_test)\n",
    "xgb_pred_exact = xgb.predict(x_test)\n",
    "lgbm_pred_exact = lgbm.predict(x_test)\n",
    "mlp_pred_exact = mlp.predict(x_test)\n",
    "\n",
    "lr_f1 = f1_score(y_test, lr_pred_exact)\n",
    "rf_f1 = f1_score(y_test, rf_pred_exact)\n",
    "xgb_f1 = f1_score(y_test, xgb_pred_exact)\n",
    "lgbm_f1 = f1_score(y_test, lgbm_pred_exact)\n",
    "mlp_f1 = f1_score(y_test, mlp_pred_exact)\n",
    "\n",
    "\n",
    "precision, recall, th, = precision_recall_curve(y_test, rf_pred)\n",
    "rf_auprc = auc(recall, precision)\n",
    "\n",
    "precision, recall, th, = precision_recall_curve(y_test, lr_pred)\n",
    "lr_auprc = auc(recall, precision)\n",
    "\n",
    "precision, recall, th, = precision_recall_curve(y_test, xgb_pred)\n",
    "xgb_auprc = auc(recall, precision)\n",
    "\n",
    "precision, recall, th, = precision_recall_curve(y_test, lgbm_pred)\n",
    "lgbm_auprc = auc(recall, precision)\n",
    "\n",
    "precision, recall, th, = precision_recall_curve(y_test, mlp_pred)\n",
    "mlp_auprc = auc(recall, precision)\n",
    "\n",
    "\n",
    "\n",
    "lr_roc = roc_auc_score(y_test, lr_pred)\n",
    "rf_roc = roc_auc_score(y_test, rf_pred)\n",
    "xgb_roc = roc_auc_score(y_test,xgb_pred)\n",
    "lgbm_roc = roc_auc_score(y_test, lgbm_pred)\n",
    "mlp_roc = roc_auc_score(y_test, mlp_pred)\n",
    "\n",
    "\n",
    "\n"
   ]
  },
  {
   "cell_type": "code",
   "execution_count": 20,
   "metadata": {},
   "outputs": [],
   "source": [
    "from sklearn.metrics import confusion_matrix\n",
    "\n",
    "def calc_ppv_npv (y_true, y_predict):\n",
    "    tn, fp, fn, tp = confusion_matrix(y_true, y_predict).ravel()\n",
    "    \n",
    "    result = {}\n",
    "    result['PPV'] = tp / (tp + fp)\n",
    "    result['NPV'] = tn / (tn + fn)\n",
    "    result['sensitivity'] = tp / (tp + fn)\n",
    "    result['specificity'] = tn / (tn + fp)\n",
    "\n",
    "    return result\n",
    "\n",
    "lr_ppv, lr_npv, lr_sensitivity, lr_specificity = calc_ppv_npv(y_test, lr_pred_exact).values()\n",
    "rf_ppv, rf_npv, rf_sensitivity, rf_specificity = calc_ppv_npv(y_test, rf_pred_exact).values()\n",
    "xgb_ppv, xgb_npv, xgb_sensitivity, xgb_specificity = calc_ppv_npv(y_test, xgb_pred_exact).values()\n",
    "lgbm_ppv, lgbm_npv, lgbm_sensitivity, lgbm_specificity = calc_ppv_npv(y_test, lgbm_pred_exact).values()\n",
    "mlp_ppv, mlp_npv, mlp_sensitivity, mlp_specificity = calc_ppv_npv(y_test, mlp_pred_exact).values()\n",
    "\n"
   ]
  },
  {
   "cell_type": "code",
   "execution_count": 21,
   "metadata": {},
   "outputs": [
    {
     "data": {
      "text/html": [
       "<div>\n",
       "<style scoped>\n",
       "    .dataframe tbody tr th:only-of-type {\n",
       "        vertical-align: middle;\n",
       "    }\n",
       "\n",
       "    .dataframe tbody tr th {\n",
       "        vertical-align: top;\n",
       "    }\n",
       "\n",
       "    .dataframe thead th {\n",
       "        text-align: right;\n",
       "    }\n",
       "</style>\n",
       "<table border=\"1\" class=\"dataframe\">\n",
       "  <thead>\n",
       "    <tr style=\"text-align: right;\">\n",
       "      <th></th>\n",
       "      <th>AUROC</th>\n",
       "      <th>AUPRC</th>\n",
       "      <th>Sensitivity</th>\n",
       "      <th>Specificity</th>\n",
       "      <th>PPV</th>\n",
       "      <th>NPV</th>\n",
       "      <th>F1</th>\n",
       "    </tr>\n",
       "  </thead>\n",
       "  <tbody>\n",
       "    <tr>\n",
       "      <th>LR</th>\n",
       "      <td>0.932098</td>\n",
       "      <td>0.891871</td>\n",
       "      <td>0.744604</td>\n",
       "      <td>0.968313</td>\n",
       "      <td>0.890706</td>\n",
       "      <td>0.916195</td>\n",
       "      <td>0.811129</td>\n",
       "    </tr>\n",
       "    <tr>\n",
       "      <th>RF</th>\n",
       "      <td>0.943620</td>\n",
       "      <td>0.913179</td>\n",
       "      <td>0.728058</td>\n",
       "      <td>0.996756</td>\n",
       "      <td>0.987317</td>\n",
       "      <td>0.913560</td>\n",
       "      <td>0.838095</td>\n",
       "    </tr>\n",
       "    <tr>\n",
       "      <th>XGB</th>\n",
       "      <td>0.949369</td>\n",
       "      <td>0.914660</td>\n",
       "      <td>0.745324</td>\n",
       "      <td>0.985529</td>\n",
       "      <td>0.946984</td>\n",
       "      <td>0.917751</td>\n",
       "      <td>0.834138</td>\n",
       "    </tr>\n",
       "    <tr>\n",
       "      <th>LGBM</th>\n",
       "      <td>0.952327</td>\n",
       "      <td>0.918554</td>\n",
       "      <td>0.738849</td>\n",
       "      <td>0.990269</td>\n",
       "      <td>0.963415</td>\n",
       "      <td>0.916205</td>\n",
       "      <td>0.836319</td>\n",
       "    </tr>\n",
       "    <tr>\n",
       "      <th>MLP</th>\n",
       "      <td>0.950489</td>\n",
       "      <td>0.916335</td>\n",
       "      <td>0.717266</td>\n",
       "      <td>0.998503</td>\n",
       "      <td>0.994018</td>\n",
       "      <td>0.910580</td>\n",
       "      <td>0.833264</td>\n",
       "    </tr>\n",
       "  </tbody>\n",
       "</table>\n",
       "</div>"
      ],
      "text/plain": [
       "         AUROC     AUPRC  Sensitivity  Specificity       PPV       NPV  \\\n",
       "LR    0.932098  0.891871     0.744604     0.968313  0.890706  0.916195   \n",
       "RF    0.943620  0.913179     0.728058     0.996756  0.987317  0.913560   \n",
       "XGB   0.949369  0.914660     0.745324     0.985529  0.946984  0.917751   \n",
       "LGBM  0.952327  0.918554     0.738849     0.990269  0.963415  0.916205   \n",
       "MLP   0.950489  0.916335     0.717266     0.998503  0.994018  0.910580   \n",
       "\n",
       "            F1  \n",
       "LR    0.811129  \n",
       "RF    0.838095  \n",
       "XGB   0.834138  \n",
       "LGBM  0.836319  \n",
       "MLP   0.833264  "
      ]
     },
     "execution_count": 21,
     "metadata": {},
     "output_type": "execute_result"
    }
   ],
   "source": [
    "auroc_list = [lr_roc, rf_roc, xgb_roc, lgbm_roc, mlp_roc]\n",
    "auprc_list = [lr_auprc, rf_auprc, xgb_auprc, lgbm_auprc, mlp_auprc]\n",
    "f1_list = [lr_f1, rf_f1, xgb_f1, lgbm_f1, mlp_f1]\n",
    "ppv_list = [lr_ppv, rf_ppv, xgb_ppv, lgbm_ppv, mlp_ppv]\n",
    "npv_list = [lr_npv, rf_npv, xgb_npv, lgbm_npv, mlp_npv]\n",
    "sensitivity_list = [lr_sensitivity, rf_sensitivity, xgb_sensitivity, lgbm_sensitivity, mlp_sensitivity]\n",
    "specificity_list = [lr_specificity, rf_specificity, xgb_specificity, lgbm_specificity, mlp_specificity]\n",
    "\n",
    "\n",
    "result = pd.DataFrame([auroc_list, auprc_list, sensitivity_list, specificity_list, ppv_list, npv_list, f1_list], \n",
    "                    index=['AUROC','AUPRC','Sensitivity','Specificity','PPV','NPV', 'F1'], \n",
    "                                columns=['LR','RF','XGB','LGBM','MLP']).T\n",
    "result"
   ]
  },
  {
   "cell_type": "markdown",
   "metadata": {},
   "source": [
    "### Cross Validation with Parameter Tuning"
   ]
  },
  {
   "cell_type": "markdown",
   "metadata": {},
   "source": [
    "#### 1. Logistic Regression"
   ]
  },
  {
   "cell_type": "code",
   "execution_count": 25,
   "metadata": {},
   "outputs": [],
   "source": [
    "from sklearn.model_selection import KFold, RandomizedSearchCV\n",
    "kf = KFold(random_state=7795, n_splits=5, shuffle=True)"
   ]
  },
  {
   "cell_type": "code",
   "execution_count": 26,
   "metadata": {},
   "outputs": [
    {
     "name": "stderr",
     "output_type": "stream",
     "text": [
      "C:\\Users\\user\\miniconda3\\envs\\mimic4\\lib\\site-packages\\sklearn\\model_selection\\_search.py:922: UserWarning: One or more of the test scores are non-finite: [0.93187309        nan 0.93203186 0.91877162        nan        nan\n",
      " 0.88137314 0.92822038 0.91877162        nan]\n",
      "  warnings.warn(\n"
     ]
    },
    {
     "name": "stdout",
     "output_type": "stream",
     "text": [
      "AUPRC of LR: 0.9169925724334559\n",
      "AUROC of LR: 0.9507226554086072\n",
      "F1 Score of LR: 0.8364235681911827\n",
      "{'tol': 0.0007000000000000001, 'solver': 'liblinear', 'penalty': 'l1', 'multi_class': 'auto', 'max_iter': 400, 'C': 4.33}\n"
     ]
    }
   ],
   "source": [
    "lr = LogisticRegression()\n",
    "lr_params = {\n",
    "    'penalty':['l1','l2','elasticnet','none'],\n",
    "    'C':np.arange(0, 5 ,0.01),\n",
    "    'max_iter': np.arange(100,500, 100),\n",
    "    'multi_class':['auto','ovr','multinomial'],\n",
    "    'solver':['newton-cg','lbfgs','liblinear','sag','saga'],\n",
    "    'tol': np.arange(1e-4, 1e-3, 0.0001)\n",
    "}\n",
    "\n",
    "from sklearn.metrics import plot_roc_curve, plot_precision_recall_curve, roc_curve\n",
    "RSCV_lr = RandomizedSearchCV(lr, lr_params, cv=kf, n_jobs=-1, random_state=7795).fit(x_train,y_train)\n",
    "RSCV_lr_pred = RSCV_lr.predict_proba(x_test)[:,1]\n",
    "RSCV_lr_pred_exac = RSCV_lr.predict(x_test)\n",
    "fpr_lr, tpr_lr, t = roc_curve(y_true=y_test, y_score = RSCV_lr_pred)\n",
    "precision_lr, recall_lr, th, = precision_recall_curve(y_true=y_test, probas_pred=RSCV_lr_pred)\n",
    "RSCV_lr_auprc = auc(recall_lr, precision_lr)\n",
    "RSCV_lr_auroc = roc_auc_score(y_test, RSCV_lr_pred)\n",
    "RSCV_lr_f1 = f1_score(y_test, RSCV_lr_pred_exac)\n",
    "print(f\"AUPRC of LR: {RSCV_lr_auprc}\")\n",
    "print(f\"AUROC of LR: {RSCV_lr_auroc}\")\n",
    "print(f\"F1 Score of LR: {RSCV_lr_f1}\")\n",
    "print(RSCV_lr.best_params_)"
   ]
  },
  {
   "cell_type": "markdown",
   "metadata": {},
   "source": [
    "#### Support Vector Machine"
   ]
  },
  {
   "cell_type": "code",
   "execution_count": 21,
   "metadata": {},
   "outputs": [
    {
     "data": {
      "text/plain": [
       "{'C': 1.0,\n",
       " 'break_ties': False,\n",
       " 'cache_size': 200,\n",
       " 'class_weight': None,\n",
       " 'coef0': 0.0,\n",
       " 'decision_function_shape': 'ovr',\n",
       " 'degree': 3,\n",
       " 'gamma': 'scale',\n",
       " 'kernel': 'linear',\n",
       " 'max_iter': -1,\n",
       " 'probability': False,\n",
       " 'random_state': None,\n",
       " 'shrinking': True,\n",
       " 'tol': 0.001,\n",
       " 'verbose': False}"
      ]
     },
     "execution_count": 21,
     "metadata": {},
     "output_type": "execute_result"
    }
   ],
   "source": [
    "from sklearn.svm import SVC\n",
    "svm = SVC(kernel='linear')\n",
    "svm.get_params()"
   ]
  },
  {
   "cell_type": "code",
   "execution_count": 27,
   "metadata": {},
   "outputs": [
    {
     "ename": "NameError",
     "evalue": "name 'svm' is not defined",
     "output_type": "error",
     "traceback": [
      "\u001b[1;31m---------------------------------------------------------------------------\u001b[0m",
      "\u001b[1;31mNameError\u001b[0m                                 Traceback (most recent call last)",
      "\u001b[1;32m~\\AppData\\Local\\Temp/ipykernel_3696/3825063083.py\u001b[0m in \u001b[0;36m<module>\u001b[1;34m\u001b[0m\n\u001b[0;32m      6\u001b[0m }\n\u001b[0;32m      7\u001b[0m \u001b[1;32mfrom\u001b[0m \u001b[0msklearn\u001b[0m\u001b[1;33m.\u001b[0m\u001b[0mmetrics\u001b[0m \u001b[1;32mimport\u001b[0m \u001b[0mplot_roc_curve\u001b[0m\u001b[1;33m,\u001b[0m \u001b[0mplot_precision_recall_curve\u001b[0m\u001b[1;33m,\u001b[0m \u001b[0mroc_curve\u001b[0m\u001b[1;33m\u001b[0m\u001b[1;33m\u001b[0m\u001b[0m\n\u001b[1;32m----> 8\u001b[1;33m \u001b[0mRSCV_svm\u001b[0m \u001b[1;33m=\u001b[0m \u001b[0mRandomizedSearchCV\u001b[0m\u001b[1;33m(\u001b[0m\u001b[0msvm\u001b[0m\u001b[1;33m,\u001b[0m \u001b[0msvm_params\u001b[0m\u001b[1;33m,\u001b[0m \u001b[0mcv\u001b[0m\u001b[1;33m=\u001b[0m\u001b[0mkf\u001b[0m\u001b[1;33m,\u001b[0m \u001b[0mn_jobs\u001b[0m\u001b[1;33m=\u001b[0m\u001b[1;33m-\u001b[0m\u001b[1;36m1\u001b[0m\u001b[1;33m,\u001b[0m \u001b[0mrandom_state\u001b[0m\u001b[1;33m=\u001b[0m\u001b[1;36m7795\u001b[0m\u001b[1;33m)\u001b[0m\u001b[1;33m.\u001b[0m\u001b[0mfit\u001b[0m\u001b[1;33m(\u001b[0m\u001b[0mx_train\u001b[0m\u001b[1;33m,\u001b[0m\u001b[0my_train\u001b[0m\u001b[1;33m)\u001b[0m\u001b[1;33m\u001b[0m\u001b[1;33m\u001b[0m\u001b[0m\n\u001b[0m\u001b[0;32m      9\u001b[0m \u001b[0mRSCV_svm_pred\u001b[0m \u001b[1;33m=\u001b[0m \u001b[0mRSCV_svm\u001b[0m\u001b[1;33m.\u001b[0m\u001b[0mpredict_proba\u001b[0m\u001b[1;33m(\u001b[0m\u001b[0mx_test\u001b[0m\u001b[1;33m)\u001b[0m\u001b[1;33m[\u001b[0m\u001b[1;33m:\u001b[0m\u001b[1;33m,\u001b[0m\u001b[1;36m1\u001b[0m\u001b[1;33m]\u001b[0m\u001b[1;33m\u001b[0m\u001b[1;33m\u001b[0m\u001b[0m\n\u001b[0;32m     10\u001b[0m \u001b[0mRSCV_svm_pred_exac\u001b[0m \u001b[1;33m=\u001b[0m \u001b[0mRSCV_svm\u001b[0m\u001b[1;33m.\u001b[0m\u001b[0mpredict\u001b[0m\u001b[1;33m(\u001b[0m\u001b[0mx_test\u001b[0m\u001b[1;33m)\u001b[0m\u001b[1;33m\u001b[0m\u001b[1;33m\u001b[0m\u001b[0m\n",
      "\u001b[1;31mNameError\u001b[0m: name 'svm' is not defined"
     ]
    }
   ],
   "source": [
    "svm_params = {\n",
    "    'C':np.arange(0.0, 3.0 ,0.5),\n",
    "    'kernel' : ['linear','poly','rbf','sigmoid'],\n",
    "    'gamma' : ['sclae','auto'],\n",
    "    'decision_function_shape': ['ovo','ovr']\n",
    "}\n",
    "from sklearn.metrics import plot_roc_curve, plot_precision_recall_curve, roc_curve\n",
    "RSCV_svm = RandomizedSearchCV(svm, svm_params, cv=kf, n_jobs=-1, random_state=7795).fit(x_train,y_train)\n",
    "RSCV_svm_pred = RSCV_svm.predict_proba(x_test)[:,1]\n",
    "RSCV_svm_pred_exac = RSCV_svm.predict(x_test)\n",
    "fpr_svm, tpr_svm, t = roc_curve(y_true=y_test, y_score = RSCV_svm_pred)\n",
    "precision_svm, recall_svm, th, = precision_recall_curve(y_true=y_test, probas_pred=RSCV_svm_pred)\n",
    "RSCV_svm_auprc = auc(recall_svm, precision_svm)\n",
    "RSCV_svm_auroc = roc_auc_score(y_test, RSCV_svm_pred)\n",
    "RSCV_svm_f1 = f1_score(y_test, RSCV_svm_pred_exac)\n",
    "print(f\"AUPRC of svm: {RSCV_svm_auprc}\")\n",
    "print(f\"AUROC of svm: {RSCV_svm_auroc}\")\n",
    "print(f\"F1 Score of svm: {RSCV_svm_f1}\")\n",
    "print(RSCV_svm.best_params_)"
   ]
  },
  {
   "cell_type": "markdown",
   "metadata": {},
   "source": [
    "#### 2. Random Forest"
   ]
  },
  {
   "cell_type": "code",
   "execution_count": 28,
   "metadata": {},
   "outputs": [
    {
     "name": "stdout",
     "output_type": "stream",
     "text": [
      "AUPRC of RF: 0.9115032462618777\n",
      "AUROC of RF: 0.9430991434397391\n",
      "F1 score of RF: 0.836167565325591\n"
     ]
    }
   ],
   "source": [
    "rf = RandomForestClassifier()\n",
    "rf_params = {\n",
    "    'n_estimators': np.arange(10,100,10),\n",
    "    'criterion':['gini','entropy'],\n",
    "    'max_depth':np.arange(10,100,10),\n",
    "    'min_samples_leaf': np.arange(1,10,1),\n",
    "    'min_samples_split': np.arange(2,10,2),\n",
    "    'max_features':['auto','sqrt','log2'],\n",
    "    # 'min_impurity_decrease':np.arange(-1,1,0.1),\n",
    "    # 'class_weight':['balanced','balanced_subsample'],\n",
    "    # 'ccp_alpha':np.arange(0,1,0.1),\n",
    "    # 'min_weight_fraction_leaf':np.arange(0,1,0.1)\n",
    "}\n",
    "\n",
    "RSCV_rf = RandomizedSearchCV(rf, rf_params, cv=kf, n_jobs=-1, random_state=7795).fit(x_train,y_train)\n",
    "RSCV_rf_pred = RSCV_rf.predict_proba(x_test)[:,1]\n",
    "RSCV_rf_pred_exac = RSCV_rf.predict(x_test)\n",
    "fpr_rf, tpr_rf, th = roc_curve(y_test ,RSCV_rf_pred)\n",
    "precision_rf, recall_rf, th, = precision_recall_curve(y_test, RSCV_rf_pred)\n",
    "\n",
    "\n",
    "RSCV_rf_auprc = auc(recall_rf, precision_rf)\n",
    "RSCV_rf_auroc = roc_auc_score(y_test, RSCV_rf_pred)\n",
    "RSCV_rf_f1 = f1_score(y_test ,RSCV_rf_pred_exac)\n",
    "\n",
    "print(f\"AUPRC of RF: {RSCV_rf_auprc}\")\n",
    "print(f\"AUROC of RF: {RSCV_rf_auroc}\")\n",
    "print(f\"F1 score of RF: {RSCV_rf_f1}\")"
   ]
  },
  {
   "cell_type": "markdown",
   "metadata": {},
   "source": [
    "#### 3. XGBoost"
   ]
  },
  {
   "cell_type": "code",
   "execution_count": 29,
   "metadata": {},
   "outputs": [
    {
     "name": "stdout",
     "output_type": "stream",
     "text": [
      "AUPRC of XGB: 0.913028102795696\n",
      "AUROC of XGB: 0.9456808505291575\n",
      "F1 Score of XGB: 0.8353380340107839\n"
     ]
    }
   ],
   "source": [
    "xgb = XGBClassifier()\n",
    "xgb_params = {\n",
    "    'booster':['gbtree'],\n",
    "    'n_estimators': np.arange(10,500,20),\n",
    "    'learning_rate': np.arange(1e-3,1e-2,1e-3),\n",
    "    'gamma':[0,1,2,3,4,5,6,7,8,9,10],\n",
    "    'min_child_weight':np.arange(5,20,5),\n",
    "    'objective':['binary:logistic'],\n",
    "    # 'max_depth': np.arange(10,100,10),\n",
    "    # 'booster':['gbtree','gblinear','dart'],\n",
    "    # 'tree_method':['gpu_hist','auto','exact','approx','hist'],\n",
    "    'use_label_encoder':[False],\n",
    "    # 'sampling_method':['uniform','gradient_based']\n",
    "}\n",
    "\n",
    "RSCV_xgb = RandomizedSearchCV(xgb, xgb_params, cv=kf, n_jobs=-1, random_state=7795).fit(x_train,y_train)\n",
    "RSCV_xgb_pred = RSCV_xgb.predict_proba(x_test)[:,1]\n",
    "RSCV_xgb_pred_exac = RSCV_xgb.predict(x_test)\n",
    "fpr_xgb, tpr_xgb, th = roc_curve(y_test ,RSCV_xgb_pred)\n",
    "precision_xgb, recall_xgb, th, = precision_recall_curve(y_test, RSCV_xgb_pred)\n",
    "\n",
    "\n",
    "RSCV_xgb_auprc = auc(recall_xgb, precision_xgb)\n",
    "RSCV_xgb_auroc = roc_auc_score(y_test, RSCV_xgb_pred)\n",
    "RSCV_xgb_f1 = f1_score(y_test, RSCV_xgb_pred_exac)\n",
    "\n",
    "print(f\"AUPRC of XGB: {RSCV_xgb_auprc}\")\n",
    "print(f\"AUROC of XGB: {RSCV_xgb_auroc}\")\n",
    "print(f\"F1 Score of XGB: {RSCV_xgb_f1}\")"
   ]
  },
  {
   "cell_type": "markdown",
   "metadata": {},
   "source": [
    "#### 4. LightGBM"
   ]
  },
  {
   "cell_type": "code",
   "execution_count": 30,
   "metadata": {},
   "outputs": [
    {
     "name": "stderr",
     "output_type": "stream",
     "text": [
      "C:\\Users\\user\\miniconda3\\envs\\mimic4\\lib\\site-packages\\sklearn\\model_selection\\_search.py:922: UserWarning: One or more of the test scores are non-finite: [0.9227416  0.92012098 0.92655296 0.92631458 0.93107888 0.92972898\n",
      "        nan        nan        nan 0.73368418]\n",
      "  warnings.warn(\n"
     ]
    },
    {
     "name": "stdout",
     "output_type": "stream",
     "text": [
      "[LightGBM] [Warning] min_data_in_leaf is set=50, min_child_samples=20 will be ignored. Current value: min_data_in_leaf=50\n",
      "AUPRC of LGBM: 0.9200969801625902\n",
      "AUROC of LGBM: 0.9534465242177517\n",
      "F1 Score of LGBM: 0.8361998361998363\n",
      "{'num_leaves': 110, 'n_estimators': 290, 'min_data_in_leaf': 50, 'min_child_weight': 0.006, 'metric': 'binary_logloss', 'max_depth': 10, 'learning_rate': 0.022, 'boosting_type': 'goss'}\n"
     ]
    }
   ],
   "source": [
    "lgbm = LGBMClassifier()\n",
    "lgbm_params = {\n",
    "    'boosting_type':['gbdt','rf','goss'],\n",
    "    'learning_rate':np.arange(0.0,1, 0.002),\n",
    "    'n_estimators': np.arange(10,300,20),\n",
    "    'min_child_weight': np.arange(0.001,0.01, 0.001),\n",
    "    # 'min_child_samples': np.arange(10,100,10),\n",
    "    'num_leaves': np.arange(10,200,10),\n",
    "    'max_depth': np.append(np.arange(10,100,10),-1),\n",
    "    'metric':['binary_logloss'],\n",
    "    'min_data_in_leaf':[20,50,100,150,200],\n",
    "    'num_leaves': np.arange(10,200,10),\n",
    "    # 'early_stopping_round': [30],\n",
    "    # 'num_iterations': [500]\n",
    "}\n",
    "\n",
    "\n",
    "RSCV_lgbm = RandomizedSearchCV(lgbm, lgbm_params, cv=kf, n_jobs=-1, random_state=7795).fit(x_train,y_train)\n",
    "RSCV_lgbm_pred = RSCV_lgbm.predict_proba(x_test)[:,1]\n",
    "RSCV_lgbm_pred_exac = RSCV_lgbm.predict(x_test)\n",
    "fpr_lgbm, tpr_lgbm, th = roc_curve(y_test ,RSCV_lgbm_pred)\n",
    "precision_lgbm, recall_lgbm, th, = precision_recall_curve(y_test, RSCV_lgbm_pred)\n",
    "RSCV_lgbm_auprc = auc(recall_lgbm, precision_lgbm)\n",
    "RSCV_lgbm_auroc = roc_auc_score(y_test, RSCV_lgbm_pred)\n",
    "RSCV_lgbm_f1 = f1_score(y_test, RSCV_lgbm_pred_exac)\n",
    "\n",
    "print(f\"AUPRC of LGBM: {RSCV_lgbm_auprc}\")\n",
    "print(f\"AUROC of LGBM: {RSCV_lgbm_auroc}\")\n",
    "print(f\"F1 Score of LGBM: {RSCV_lgbm_f1}\")\n",
    "print(RSCV_lgbm.best_params_)"
   ]
  },
  {
   "cell_type": "markdown",
   "metadata": {},
   "source": [
    "#### 5. MLPClassifier"
   ]
  },
  {
   "cell_type": "code",
   "execution_count": 31,
   "metadata": {},
   "outputs": [
    {
     "name": "stdout",
     "output_type": "stream",
     "text": [
      "AUPRC of mlp: 0.9072573898773383\n",
      "AUROC of mlp: 0.9423403193612774\n",
      "F1 Score of mlp: 0.8310727496917385\n",
      "{'solver': 'lbfgs', 'n_iter_no_change': 20, 'momentum': 0.7, 'max_iter': 400, 'learning_rate_init': 1e-05, 'learning_rate': 'adaptive', 'hidden_layer_sizes': (100, 50, 50), 'early_stopping': True, 'batch_size': 100, 'alpha': 0.00016, 'activation': 'relu'}\n"
     ]
    },
    {
     "name": "stderr",
     "output_type": "stream",
     "text": [
      "C:\\Users\\user\\miniconda3\\envs\\mimic4\\lib\\site-packages\\sklearn\\neural_network\\_multilayer_perceptron.py:500: ConvergenceWarning: lbfgs failed to converge (status=1):\n",
      "STOP: TOTAL NO. of ITERATIONS REACHED LIMIT.\n",
      "\n",
      "Increase the number of iterations (max_iter) or scale the data as shown in:\n",
      "    https://scikit-learn.org/stable/modules/preprocessing.html\n",
      "  self.n_iter_ = _check_optimize_result(\"lbfgs\", opt_res, self.max_iter)\n"
     ]
    }
   ],
   "source": [
    "from sklearn.neural_network import MLPClassifier\n",
    "MLPClassifier._get_param_names()\n",
    "\n",
    "mlp = MLPClassifier()\n",
    "mlp_params = {\n",
    "    'hidden_layer_sizes':[(100,50,30),(100,50,50),(100,100,30),(100,100,50),(100,100,100)],\n",
    "    'activation':['identity','logistic','tanh','relu'],\n",
    "    'solver' : ['lbfgs','sgd','adam'],\n",
    "    'alpha': np.arange(1e-5, 1e-3, 5e-5),\n",
    "    'batch_size':np.arange(50,300, 50),\n",
    "    'learning_rate' : ['constant','invscaling','adaptive'],\n",
    "    'learning_rate_init':np.arange(1e-5, 1e-4,1e-1),\n",
    "    'momentum' : np.arange(0.5,0.9,0.1),\n",
    "    'early_stopping': [True],\n",
    "    'n_iter_no_change': [20],\n",
    "    'max_iter':np.arange(100,500,100)\n",
    "}\n",
    "\n",
    "\n",
    "RSCV_mlp = RandomizedSearchCV(mlp, mlp_params, cv=kf, n_jobs=-1, random_state=7795).fit(x_train,y_train)\n",
    "RSCV_mlp_pred = RSCV_mlp.predict_proba(x_test)[:,1]\n",
    "RSCV_mlp_pred_exac = RSCV_mlp.predict(x_test)\n",
    "fpr_mlp, tpr_mlp, th = roc_curve(y_test ,RSCV_mlp_pred)\n",
    "precision_mlp, recall_mlp, th, = precision_recall_curve(y_test, RSCV_mlp_pred)\n",
    "RSCV_mlp_auprc = auc(recall_mlp, precision_mlp)\n",
    "RSCV_mlp_auroc = roc_auc_score(y_test, RSCV_mlp_pred)\n",
    "RSCV_mlp_f1 = f1_score(y_test, RSCV_mlp_pred_exac)\n",
    "\n",
    "print(f\"AUPRC of mlp: {RSCV_mlp_auprc}\")\n",
    "print(f\"AUROC of mlp: {RSCV_mlp_auroc}\")\n",
    "print(f\"F1 Score of mlp: {RSCV_mlp_f1}\")\n",
    "print(RSCV_mlp.best_params_)\n"
   ]
  },
  {
   "cell_type": "markdown",
   "metadata": {},
   "source": [
    "### Performance scores"
   ]
  },
  {
   "cell_type": "code",
   "execution_count": 32,
   "metadata": {},
   "outputs": [
    {
     "data": {
      "text/html": [
       "<div>\n",
       "<style scoped>\n",
       "    .dataframe tbody tr th:only-of-type {\n",
       "        vertical-align: middle;\n",
       "    }\n",
       "\n",
       "    .dataframe tbody tr th {\n",
       "        vertical-align: top;\n",
       "    }\n",
       "\n",
       "    .dataframe thead th {\n",
       "        text-align: right;\n",
       "    }\n",
       "</style>\n",
       "<table border=\"1\" class=\"dataframe\">\n",
       "  <thead>\n",
       "    <tr style=\"text-align: right;\">\n",
       "      <th></th>\n",
       "      <th>AUROC</th>\n",
       "      <th>AUPRC</th>\n",
       "      <th>Sensitivity</th>\n",
       "      <th>Specificity</th>\n",
       "      <th>PPV</th>\n",
       "      <th>NPV</th>\n",
       "      <th>F1</th>\n",
       "    </tr>\n",
       "  </thead>\n",
       "  <tbody>\n",
       "    <tr>\n",
       "      <th>LR</th>\n",
       "      <td>0.932098</td>\n",
       "      <td>0.891871</td>\n",
       "      <td>0.744604</td>\n",
       "      <td>0.968313</td>\n",
       "      <td>0.890706</td>\n",
       "      <td>0.916195</td>\n",
       "      <td>0.811129</td>\n",
       "    </tr>\n",
       "    <tr>\n",
       "      <th>RF</th>\n",
       "      <td>0.943620</td>\n",
       "      <td>0.913179</td>\n",
       "      <td>0.728058</td>\n",
       "      <td>0.996756</td>\n",
       "      <td>0.987317</td>\n",
       "      <td>0.913560</td>\n",
       "      <td>0.838095</td>\n",
       "    </tr>\n",
       "    <tr>\n",
       "      <th>XGB</th>\n",
       "      <td>0.949369</td>\n",
       "      <td>0.914660</td>\n",
       "      <td>0.745324</td>\n",
       "      <td>0.985529</td>\n",
       "      <td>0.946984</td>\n",
       "      <td>0.917751</td>\n",
       "      <td>0.834138</td>\n",
       "    </tr>\n",
       "    <tr>\n",
       "      <th>LGBM</th>\n",
       "      <td>0.952327</td>\n",
       "      <td>0.918554</td>\n",
       "      <td>0.738849</td>\n",
       "      <td>0.990269</td>\n",
       "      <td>0.963415</td>\n",
       "      <td>0.916205</td>\n",
       "      <td>0.836319</td>\n",
       "    </tr>\n",
       "    <tr>\n",
       "      <th>MLP</th>\n",
       "      <td>0.950489</td>\n",
       "      <td>0.916335</td>\n",
       "      <td>0.717266</td>\n",
       "      <td>0.998503</td>\n",
       "      <td>0.994018</td>\n",
       "      <td>0.910580</td>\n",
       "      <td>0.833264</td>\n",
       "    </tr>\n",
       "  </tbody>\n",
       "</table>\n",
       "</div>"
      ],
      "text/plain": [
       "         AUROC     AUPRC  Sensitivity  Specificity       PPV       NPV  \\\n",
       "LR    0.932098  0.891871     0.744604     0.968313  0.890706  0.916195   \n",
       "RF    0.943620  0.913179     0.728058     0.996756  0.987317  0.913560   \n",
       "XGB   0.949369  0.914660     0.745324     0.985529  0.946984  0.917751   \n",
       "LGBM  0.952327  0.918554     0.738849     0.990269  0.963415  0.916205   \n",
       "MLP   0.950489  0.916335     0.717266     0.998503  0.994018  0.910580   \n",
       "\n",
       "            F1  \n",
       "LR    0.811129  \n",
       "RF    0.838095  \n",
       "XGB   0.834138  \n",
       "LGBM  0.836319  \n",
       "MLP   0.833264  "
      ]
     },
     "execution_count": 32,
     "metadata": {},
     "output_type": "execute_result"
    }
   ],
   "source": [
    "lr_ppv, lr_npv, lr_sensitivity, lr_specificity = calc_ppv_npv(y_test, RSCV_lr_pred_exac).values()\n",
    "rf_ppv, rf_npv, rf_sensitivity, rf_specificity = calc_ppv_npv(y_test, RSCV_rf_pred_exac).values()\n",
    "xgb_ppv, xgb_npv, xgb_sensitivity, xgb_specificity = calc_ppv_npv(y_test, RSCV_xgb_pred_exac).values()\n",
    "lgbm_ppv, lgbm_npv, lgbm_sensitivity, lgbm_specificity = calc_ppv_npv(y_test, RSCV_lgbm_pred_exac).values()\n",
    "mlp_ppv, mlp_npv, mlp_sensitivity, mlp_specificity = calc_ppv_npv(y_test, RSCV_mlp_pred_exac).values()\n",
    "\n",
    "auprc = [RSCV_lr_auprc, RSCV_rf_auprc, RSCV_xgb_auprc, RSCV_lgbm_auprc,RSCV_mlp_auprc]\n",
    "auroc = [RSCV_lr_auroc, RSCV_rf_auroc, RSCV_xgb_auroc, RSCV_lgbm_auroc, RSCV_mlp_auroc]\n",
    "f1 = [RSCV_lr_f1, RSCV_rf_f1, RSCV_xgb_f1, RSCV_lgbm_f1, RSCV_mlp_f1]\n",
    "ppv = [lr_ppv, rf_ppv, xgb_ppv, lgbm_ppv, mlp_ppv]\n",
    "npv = [lr_npv, rf_npv, xgb_npv, lgbm_npv, mlp_npv]\n",
    "sensitivity = [lr_sensitivity, rf_sensitivity, xgb_sensitivity, lgbm_sensitivity, mlp_sensitivity]\n",
    "specificity = [lr_specificity, rf_specificity, xgb_specificity, lgbm_specificity, mlp_specificity]\n",
    "\n",
    "\n",
    "result_rscv = pd.DataFrame([auroc, auprc, sensitivity, specificity, ppv, npv, f1], \n",
    "                    index=['AUROC','AUPRC','Sensitivity','Specificity','PPV','NPV', 'F1'], \n",
    "                                columns=['LR','RF','XGB','LGBM','MLP']).T\n",
    "\n",
    "\n",
    "result\n",
    "\n"
   ]
  },
  {
   "cell_type": "code",
   "execution_count": 34,
   "metadata": {},
   "outputs": [
    {
     "data": {
      "text/html": [
       "<div>\n",
       "<style scoped>\n",
       "    .dataframe tbody tr th:only-of-type {\n",
       "        vertical-align: middle;\n",
       "    }\n",
       "\n",
       "    .dataframe tbody tr th {\n",
       "        vertical-align: top;\n",
       "    }\n",
       "\n",
       "    .dataframe thead th {\n",
       "        text-align: right;\n",
       "    }\n",
       "</style>\n",
       "<table border=\"1\" class=\"dataframe\">\n",
       "  <thead>\n",
       "    <tr style=\"text-align: right;\">\n",
       "      <th></th>\n",
       "      <th>AUROC</th>\n",
       "      <th>AUPRC</th>\n",
       "      <th>Sensitivity</th>\n",
       "      <th>Specificity</th>\n",
       "      <th>PPV</th>\n",
       "      <th>NPV</th>\n",
       "      <th>F1</th>\n",
       "    </tr>\n",
       "  </thead>\n",
       "  <tbody>\n",
       "    <tr>\n",
       "      <th>LR</th>\n",
       "      <td>0.950723</td>\n",
       "      <td>0.916993</td>\n",
       "      <td>0.730216</td>\n",
       "      <td>0.994511</td>\n",
       "      <td>0.978785</td>\n",
       "      <td>0.914011</td>\n",
       "      <td>0.836424</td>\n",
       "    </tr>\n",
       "    <tr>\n",
       "      <th>RF</th>\n",
       "      <td>0.943099</td>\n",
       "      <td>0.911503</td>\n",
       "      <td>0.725180</td>\n",
       "      <td>0.996756</td>\n",
       "      <td>0.987267</td>\n",
       "      <td>0.912726</td>\n",
       "      <td>0.836168</td>\n",
       "    </tr>\n",
       "    <tr>\n",
       "      <th>XGB</th>\n",
       "      <td>0.945681</td>\n",
       "      <td>0.913028</td>\n",
       "      <td>0.724460</td>\n",
       "      <td>0.996507</td>\n",
       "      <td>0.986288</td>\n",
       "      <td>0.912497</td>\n",
       "      <td>0.835338</td>\n",
       "    </tr>\n",
       "    <tr>\n",
       "      <th>LGBM</th>\n",
       "      <td>0.953447</td>\n",
       "      <td>0.920097</td>\n",
       "      <td>0.734532</td>\n",
       "      <td>0.992265</td>\n",
       "      <td>0.970532</td>\n",
       "      <td>0.915094</td>\n",
       "      <td>0.836200</td>\n",
       "    </tr>\n",
       "    <tr>\n",
       "      <th>MLP</th>\n",
       "      <td>0.942340</td>\n",
       "      <td>0.907257</td>\n",
       "      <td>0.727338</td>\n",
       "      <td>0.992016</td>\n",
       "      <td>0.969319</td>\n",
       "      <td>0.912974</td>\n",
       "      <td>0.831073</td>\n",
       "    </tr>\n",
       "  </tbody>\n",
       "</table>\n",
       "</div>"
      ],
      "text/plain": [
       "         AUROC     AUPRC  Sensitivity  Specificity       PPV       NPV  \\\n",
       "LR    0.950723  0.916993     0.730216     0.994511  0.978785  0.914011   \n",
       "RF    0.943099  0.911503     0.725180     0.996756  0.987267  0.912726   \n",
       "XGB   0.945681  0.913028     0.724460     0.996507  0.986288  0.912497   \n",
       "LGBM  0.953447  0.920097     0.734532     0.992265  0.970532  0.915094   \n",
       "MLP   0.942340  0.907257     0.727338     0.992016  0.969319  0.912974   \n",
       "\n",
       "            F1  \n",
       "LR    0.836424  \n",
       "RF    0.836168  \n",
       "XGB   0.835338  \n",
       "LGBM  0.836200  \n",
       "MLP   0.831073  "
      ]
     },
     "execution_count": 34,
     "metadata": {},
     "output_type": "execute_result"
    }
   ],
   "source": [
    "result_rscv"
   ]
  },
  {
   "cell_type": "markdown",
   "metadata": {},
   "source": [
    "### ROC Curve"
   ]
  },
  {
   "cell_type": "code",
   "execution_count": 35,
   "metadata": {},
   "outputs": [
    {
     "data": {
      "image/png": "[encoded data removed]",
      "text/plain": [
       "<Figure size 864x720 with 1 Axes>"
      ]
     },
     "metadata": {
      "needs_background": "light"
     },
     "output_type": "display_data"
    }
   ],
   "source": [
    "import matplotlib.pyplot as plt\n",
    "\n",
    "# fig, ax = plt.subplots()\n",
    "# line = mlines.Line2D([0,1],[0,1], color='black', linestyle='--')\n",
    "\n",
    "plt.figure(figsize=(12,10))\n",
    "plt.plot(fpr_lr, tpr_lr, color='red', label='Logistic Regression')\n",
    "plt.plot(fpr_rf, tpr_rf, color='blue',label='Random Forest')\n",
    "plt.plot(fpr_xgb, tpr_xgb, color='green',label='XGBoost')\n",
    "plt.plot(fpr_lgbm, tpr_lgbm, color='orange',label='LightGBM')\n",
    "plt.plot(fpr_mlp, tpr_mlp, color='pink',label='MLP')\n",
    "plt.plot([0,1],[0,1], color='k',linestyle='--')\n",
    "plt.legend()\n",
    "plt.show()\n",
    "# plot_precision_recall_curve(RSCV_lr, x_test, y_test)\n",
    "\n"
   ]
  },
  {
   "cell_type": "markdown",
   "metadata": {},
   "source": [
    "### PRC Curve"
   ]
  },
  {
   "cell_type": "code",
   "execution_count": 36,
   "metadata": {},
   "outputs": [
    {
     "data": {
      "image/png": "[encoded data removed]",
      "text/plain": [
       "<Figure size 864x720 with 1 Axes>"
      ]
     },
     "metadata": {
      "needs_background": "light"
     },
     "output_type": "display_data"
    }
   ],
   "source": [
    "\n",
    "plt.figure(figsize=(12,10))\n",
    "plt.plot(recall_lr, precision_lr, color='red', label='Logistic Regression')\n",
    "plt.plot(recall_rf, precision_rf, color='blue',label='RandomForest')\n",
    "plt.plot(recall_xgb, precision_xgb, color='green',label='XGBoost')\n",
    "plt.plot(recall_lgbm, precision_lgbm, color='orange',label='LightGBM')\n",
    "plt.plot(recall_mlp, precision_mlp, color='pink',label='MLP')\n",
    "no_skill = len(y_test[y_test==1]) / len(y_test)\n",
    "\n",
    "plt.plot([0,1],[no_skill,no_skill], linestyle='--')\n",
    "plt.xlabel('Recall')\n",
    "plt.ylabel('Precision')\n",
    "plt.legend()\n",
    "plt.show()"
   ]
  },
  {
   "cell_type": "markdown",
   "metadata": {},
   "source": [
    "### Calibration plot"
   ]
  },
  {
   "cell_type": "code",
   "execution_count": 37,
   "metadata": {},
   "outputs": [],
   "source": [
    "from sklearn.calibration import calibration_curve\n",
    "\n",
    "lr_y, lr_x = calibration_curve(y_test, RSCV_lr_pred, n_bins=10)\n",
    "rf_y, rf_x = calibration_curve(y_test, RSCV_rf_pred, n_bins=10)\n",
    "xgb_y, xgb_x = calibration_curve(y_test, RSCV_xgb_pred, n_bins=10, strategy='quantile')\n",
    "lgbm_y, lgbm_x = calibration_curve(y_test, RSCV_lgbm_pred, n_bins=10)\n",
    "mlp_y, mlp_x = calibration_curve(y_test, RSCV_mlp_pred, n_bins=10)"
   ]
  },
  {
   "cell_type": "code",
   "execution_count": 38,
   "metadata": {},
   "outputs": [
    {
     "data": {
      "image/png": "[encoded data removed]",
      "text/plain": [
       "<Figure size 864x720 with 1 Axes>"
      ]
     },
     "metadata": {
      "needs_background": "light"
     },
     "output_type": "display_data"
    }
   ],
   "source": [
    "import matplotlib.pyplot as plt\n",
    "import matplotlib.lines as mlines\n",
    "import matplotlib.transforms as mtransforms\n",
    "\n",
    "plt.figure(figsize=(12,10))\n",
    "plt.plot(lr_x, lr_y, marker ='o', linewidth=1, label='LR')\n",
    "plt.plot(rf_x, rf_y, marker ='o', linewidth=1, label='RF')\n",
    "plt.plot(lgbm_x, lgbm_y, marker ='o', linewidth=1, label='LGBM')\n",
    "plt.plot(xgb_x, xgb_y, marker ='o', linewidth=1, label='XGB')\n",
    "plt.plot(mlp_x, mlp_y, marker ='o', linewidth=1, label='MLP')\n",
    "\n",
    "plt.plot([0,1],[0,1], color='black')\n",
    "plt.xlabel('Predicted probability')\n",
    "plt.ylabel('True probability in each bin')\n",
    "# line = mlines.Line2D([0,1],[0,1], color='black')\n",
    "# transform = ax.transAxes\n",
    "# line.set_transform(transform)\n",
    "# ax.add_line(line)\n",
    "# ax.set_xlabel('Predicted probability')\n",
    "# ax.set_ylabel('True probability in each bin')\n",
    "plt.suptitle('Calibration plot for MIMIC-AF data')\n",
    "\n",
    "plt.legend(prop={'size':15})\n",
    "plt.show()"
   ]
  },
  {
   "cell_type": "markdown",
   "metadata": {},
   "source": [
    "### SHAP plot"
   ]
  },
  {
   "cell_type": "code",
   "execution_count": 39,
   "metadata": {},
   "outputs": [
    {
     "ename": "AttributeError",
     "evalue": "module 'tensorflow.python.util.dispatch' has no attribute 'add_fallback_dispatch_list'",
     "output_type": "error",
     "traceback": [
      "\u001b[1;31m---------------------------------------------------------------------------\u001b[0m",
      "\u001b[1;31mAttributeError\u001b[0m                            Traceback (most recent call last)",
      "\u001b[1;32m~\\AppData\\Local\\Temp/ipykernel_3696/3173241046.py\u001b[0m in \u001b[0;36m<module>\u001b[1;34m\u001b[0m\n\u001b[1;32m----> 1\u001b[1;33m \u001b[1;32mimport\u001b[0m \u001b[0mshap\u001b[0m\u001b[1;33m\u001b[0m\u001b[1;33m\u001b[0m\u001b[0m\n\u001b[0m\u001b[0;32m      2\u001b[0m \u001b[1;32mimport\u001b[0m \u001b[0mmatplotlib\u001b[0m\u001b[1;33m.\u001b[0m\u001b[0mpyplot\u001b[0m \u001b[1;32mas\u001b[0m \u001b[0mplt\u001b[0m\u001b[1;33m\u001b[0m\u001b[1;33m\u001b[0m\u001b[0m\n",
      "\u001b[1;32m~\\miniconda3\\envs\\mimic4\\lib\\site-packages\\shap\\__init__.py\u001b[0m in \u001b[0;36m<module>\u001b[1;34m\u001b[0m\n\u001b[0;32m     13\u001b[0m \u001b[1;33m\u001b[0m\u001b[0m\n\u001b[0;32m     14\u001b[0m \u001b[1;31m# explainers\u001b[0m\u001b[1;33m\u001b[0m\u001b[1;33m\u001b[0m\u001b[0m\n\u001b[1;32m---> 15\u001b[1;33m \u001b[1;32mfrom\u001b[0m \u001b[1;33m.\u001b[0m\u001b[0mexplainers\u001b[0m\u001b[1;33m.\u001b[0m\u001b[0m_explainer\u001b[0m \u001b[1;32mimport\u001b[0m \u001b[0mExplainer\u001b[0m\u001b[1;33m\u001b[0m\u001b[1;33m\u001b[0m\u001b[0m\n\u001b[0m\u001b[0;32m     16\u001b[0m \u001b[1;32mfrom\u001b[0m \u001b[1;33m.\u001b[0m\u001b[0mexplainers\u001b[0m\u001b[1;33m.\u001b[0m\u001b[0m_kernel\u001b[0m \u001b[1;32mimport\u001b[0m \u001b[0mKernel\u001b[0m \u001b[1;32mas\u001b[0m \u001b[0mKernelExplainer\u001b[0m\u001b[1;33m\u001b[0m\u001b[1;33m\u001b[0m\u001b[0m\n\u001b[0;32m     17\u001b[0m \u001b[1;32mfrom\u001b[0m \u001b[1;33m.\u001b[0m\u001b[0mexplainers\u001b[0m\u001b[1;33m.\u001b[0m\u001b[0m_sampling\u001b[0m \u001b[1;32mimport\u001b[0m \u001b[0mSampling\u001b[0m \u001b[1;32mas\u001b[0m \u001b[0mSamplingExplainer\u001b[0m\u001b[1;33m\u001b[0m\u001b[1;33m\u001b[0m\u001b[0m\n",
      "\u001b[1;32m~\\miniconda3\\envs\\mimic4\\lib\\site-packages\\shap\\explainers\\__init__.py\u001b[0m in \u001b[0;36m<module>\u001b[1;34m\u001b[0m\n\u001b[1;32m----> 1\u001b[1;33m \u001b[1;32mfrom\u001b[0m \u001b[1;33m.\u001b[0m\u001b[0m_permutation\u001b[0m \u001b[1;32mimport\u001b[0m \u001b[0mPermutation\u001b[0m\u001b[1;33m\u001b[0m\u001b[1;33m\u001b[0m\u001b[0m\n\u001b[0m\u001b[0;32m      2\u001b[0m \u001b[1;32mfrom\u001b[0m \u001b[1;33m.\u001b[0m\u001b[0m_partition\u001b[0m \u001b[1;32mimport\u001b[0m \u001b[0mPartition\u001b[0m\u001b[1;33m\u001b[0m\u001b[1;33m\u001b[0m\u001b[0m\n\u001b[0;32m      3\u001b[0m \u001b[1;32mfrom\u001b[0m \u001b[1;33m.\u001b[0m\u001b[0m_tree\u001b[0m \u001b[1;32mimport\u001b[0m \u001b[0mTree\u001b[0m\u001b[1;33m\u001b[0m\u001b[1;33m\u001b[0m\u001b[0m\n\u001b[0;32m      4\u001b[0m \u001b[1;32mfrom\u001b[0m \u001b[1;33m.\u001b[0m\u001b[0m_gpu_tree\u001b[0m \u001b[1;32mimport\u001b[0m \u001b[0mGPUTree\u001b[0m\u001b[1;33m\u001b[0m\u001b[1;33m\u001b[0m\u001b[0m\n\u001b[0;32m      5\u001b[0m \u001b[1;32mfrom\u001b[0m \u001b[1;33m.\u001b[0m\u001b[0m_exact\u001b[0m \u001b[1;32mimport\u001b[0m \u001b[0mExact\u001b[0m\u001b[1;33m\u001b[0m\u001b[1;33m\u001b[0m\u001b[0m\n",
      "\u001b[1;32m~\\miniconda3\\envs\\mimic4\\lib\\site-packages\\shap\\explainers\\_permutation.py\u001b[0m in \u001b[0;36m<module>\u001b[1;34m\u001b[0m\n\u001b[0;32m      1\u001b[0m \u001b[1;32mfrom\u001b[0m \u001b[1;33m.\u001b[0m\u001b[1;33m.\u001b[0m\u001b[0mutils\u001b[0m \u001b[1;32mimport\u001b[0m \u001b[0mpartition_tree_shuffle\u001b[0m\u001b[1;33m,\u001b[0m \u001b[0mMaskedModel\u001b[0m\u001b[1;33m\u001b[0m\u001b[1;33m\u001b[0m\u001b[0m\n\u001b[0;32m      2\u001b[0m \u001b[1;32mfrom\u001b[0m \u001b[1;33m.\u001b[0m\u001b[1;33m.\u001b[0m\u001b[0m_explanation\u001b[0m \u001b[1;32mimport\u001b[0m \u001b[0mExplanation\u001b[0m\u001b[1;33m\u001b[0m\u001b[1;33m\u001b[0m\u001b[0m\n\u001b[1;32m----> 3\u001b[1;33m \u001b[1;32mfrom\u001b[0m \u001b[1;33m.\u001b[0m\u001b[0m_explainer\u001b[0m \u001b[1;32mimport\u001b[0m \u001b[0mExplainer\u001b[0m\u001b[1;33m\u001b[0m\u001b[1;33m\u001b[0m\u001b[0m\n\u001b[0m\u001b[0;32m      4\u001b[0m \u001b[1;32mimport\u001b[0m \u001b[0mnumpy\u001b[0m \u001b[1;32mas\u001b[0m \u001b[0mnp\u001b[0m\u001b[1;33m\u001b[0m\u001b[1;33m\u001b[0m\u001b[0m\n\u001b[0;32m      5\u001b[0m \u001b[1;32mimport\u001b[0m \u001b[0mpandas\u001b[0m \u001b[1;32mas\u001b[0m \u001b[0mpd\u001b[0m\u001b[1;33m\u001b[0m\u001b[1;33m\u001b[0m\u001b[0m\n",
      "\u001b[1;32m~\\miniconda3\\envs\\mimic4\\lib\\site-packages\\shap\\explainers\\_explainer.py\u001b[0m in \u001b[0;36m<module>\u001b[1;34m\u001b[0m\n\u001b[0;32m      6\u001b[0m \u001b[1;32mfrom\u001b[0m \u001b[1;33m.\u001b[0m\u001b[1;33m.\u001b[0m\u001b[0mutils\u001b[0m \u001b[1;32mimport\u001b[0m \u001b[0msafe_isinstance\u001b[0m\u001b[1;33m,\u001b[0m \u001b[0mshow_progress\u001b[0m\u001b[1;33m\u001b[0m\u001b[1;33m\u001b[0m\u001b[0m\n\u001b[0;32m      7\u001b[0m \u001b[1;32mfrom\u001b[0m \u001b[1;33m.\u001b[0m\u001b[1;33m.\u001b[0m\u001b[0mutils\u001b[0m\u001b[1;33m.\u001b[0m\u001b[0mtransformers\u001b[0m \u001b[1;32mimport\u001b[0m \u001b[0mMODELS_FOR_CAUSAL_LM\u001b[0m\u001b[1;33m,\u001b[0m \u001b[0mMODELS_FOR_SEQ_TO_SEQ_CAUSAL_LM\u001b[0m\u001b[1;33m\u001b[0m\u001b[1;33m\u001b[0m\u001b[0m\n\u001b[1;32m----> 8\u001b[1;33m \u001b[1;32mfrom\u001b[0m \u001b[1;33m.\u001b[0m\u001b[1;33m.\u001b[0m \u001b[1;32mimport\u001b[0m \u001b[0mmodels\u001b[0m\u001b[1;33m\u001b[0m\u001b[1;33m\u001b[0m\u001b[0m\n\u001b[0m\u001b[0;32m      9\u001b[0m \u001b[1;32mfrom\u001b[0m \u001b[1;33m.\u001b[0m\u001b[1;33m.\u001b[0m\u001b[0mmodels\u001b[0m \u001b[1;32mimport\u001b[0m \u001b[0mModel\u001b[0m\u001b[1;33m\u001b[0m\u001b[1;33m\u001b[0m\u001b[0m\n\u001b[0;32m     10\u001b[0m \u001b[1;32mfrom\u001b[0m \u001b[1;33m.\u001b[0m\u001b[1;33m.\u001b[0m\u001b[0mmaskers\u001b[0m \u001b[1;32mimport\u001b[0m \u001b[0mMasker\u001b[0m\u001b[1;33m\u001b[0m\u001b[1;33m\u001b[0m\u001b[0m\n",
      "\u001b[1;32m~\\miniconda3\\envs\\mimic4\\lib\\site-packages\\shap\\models\\__init__.py\u001b[0m in \u001b[0;36m<module>\u001b[1;34m\u001b[0m\n\u001b[0;32m      1\u001b[0m \u001b[1;32mfrom\u001b[0m \u001b[1;33m.\u001b[0m\u001b[0m_model\u001b[0m \u001b[1;32mimport\u001b[0m \u001b[0mModel\u001b[0m\u001b[1;33m\u001b[0m\u001b[1;33m\u001b[0m\u001b[0m\n\u001b[1;32m----> 2\u001b[1;33m \u001b[1;32mfrom\u001b[0m \u001b[1;33m.\u001b[0m\u001b[0m_teacher_forcing\u001b[0m \u001b[1;32mimport\u001b[0m \u001b[0mTeacherForcing\u001b[0m\u001b[1;33m\u001b[0m\u001b[1;33m\u001b[0m\u001b[0m\n\u001b[0m\u001b[0;32m      3\u001b[0m \u001b[1;32mfrom\u001b[0m \u001b[1;33m.\u001b[0m\u001b[0m_text_generation\u001b[0m \u001b[1;32mimport\u001b[0m \u001b[0mTextGeneration\u001b[0m\u001b[1;33m\u001b[0m\u001b[1;33m\u001b[0m\u001b[0m\n\u001b[0;32m      4\u001b[0m \u001b[1;32mfrom\u001b[0m \u001b[1;33m.\u001b[0m\u001b[0m_topk_lm\u001b[0m \u001b[1;32mimport\u001b[0m \u001b[0mTopKLM\u001b[0m\u001b[1;33m\u001b[0m\u001b[1;33m\u001b[0m\u001b[0m\n\u001b[0;32m      5\u001b[0m \u001b[1;32mfrom\u001b[0m \u001b[1;33m.\u001b[0m\u001b[0m_transformers_pipeline\u001b[0m \u001b[1;32mimport\u001b[0m \u001b[0mTransformersPipeline\u001b[0m\u001b[1;33m\u001b[0m\u001b[1;33m\u001b[0m\u001b[0m\n",
      "\u001b[1;32m~\\miniconda3\\envs\\mimic4\\lib\\site-packages\\shap\\models\\_teacher_forcing.py\u001b[0m in \u001b[0;36m<module>\u001b[1;34m\u001b[0m\n\u001b[0;32m     13\u001b[0m \u001b[1;33m\u001b[0m\u001b[0m\n\u001b[0;32m     14\u001b[0m \u001b[1;32mtry\u001b[0m\u001b[1;33m:\u001b[0m\u001b[1;33m\u001b[0m\u001b[1;33m\u001b[0m\u001b[0m\n\u001b[1;32m---> 15\u001b[1;33m     \u001b[1;32mimport\u001b[0m \u001b[0mtensorflow\u001b[0m \u001b[1;32mas\u001b[0m \u001b[0mtf\u001b[0m\u001b[1;33m\u001b[0m\u001b[1;33m\u001b[0m\u001b[0m\n\u001b[0m\u001b[0;32m     16\u001b[0m \u001b[1;32mexcept\u001b[0m \u001b[0mImportError\u001b[0m \u001b[1;32mas\u001b[0m \u001b[0me\u001b[0m\u001b[1;33m:\u001b[0m\u001b[1;33m\u001b[0m\u001b[1;33m\u001b[0m\u001b[0m\n\u001b[0;32m     17\u001b[0m     \u001b[0mrecord_import_error\u001b[0m\u001b[1;33m(\u001b[0m\u001b[1;34m\"tensorflow\"\u001b[0m\u001b[1;33m,\u001b[0m \u001b[1;34m\"TensorFlow could not be imported!\"\u001b[0m\u001b[1;33m,\u001b[0m \u001b[0me\u001b[0m\u001b[1;33m)\u001b[0m\u001b[1;33m\u001b[0m\u001b[1;33m\u001b[0m\u001b[0m\n",
      "\u001b[1;32m~\\miniconda3\\envs\\mimic4\\lib\\site-packages\\tensorflow\\__init__.py\u001b[0m in \u001b[0;36m<module>\u001b[1;34m\u001b[0m\n\u001b[0;32m     35\u001b[0m \u001b[1;32mimport\u001b[0m \u001b[0mtyping\u001b[0m \u001b[1;32mas\u001b[0m \u001b[0m_typing\u001b[0m\u001b[1;33m\u001b[0m\u001b[1;33m\u001b[0m\u001b[0m\n\u001b[0;32m     36\u001b[0m \u001b[1;33m\u001b[0m\u001b[0m\n\u001b[1;32m---> 37\u001b[1;33m \u001b[1;32mfrom\u001b[0m \u001b[0mtensorflow\u001b[0m\u001b[1;33m.\u001b[0m\u001b[0mpython\u001b[0m\u001b[1;33m.\u001b[0m\u001b[0mtools\u001b[0m \u001b[1;32mimport\u001b[0m \u001b[0mmodule_util\u001b[0m \u001b[1;32mas\u001b[0m \u001b[0m_module_util\u001b[0m\u001b[1;33m\u001b[0m\u001b[1;33m\u001b[0m\u001b[0m\n\u001b[0m\u001b[0;32m     38\u001b[0m \u001b[1;32mfrom\u001b[0m \u001b[0mtensorflow\u001b[0m\u001b[1;33m.\u001b[0m\u001b[0mpython\u001b[0m\u001b[1;33m.\u001b[0m\u001b[0mutil\u001b[0m\u001b[1;33m.\u001b[0m\u001b[0mlazy_loader\u001b[0m \u001b[1;32mimport\u001b[0m \u001b[0mLazyLoader\u001b[0m \u001b[1;32mas\u001b[0m \u001b[0m_LazyLoader\u001b[0m\u001b[1;33m\u001b[0m\u001b[1;33m\u001b[0m\u001b[0m\n\u001b[0;32m     39\u001b[0m \u001b[1;33m\u001b[0m\u001b[0m\n",
      "\u001b[1;32m~\\miniconda3\\envs\\mimic4\\lib\\site-packages\\tensorflow\\python\\__init__.py\u001b[0m in \u001b[0;36m<module>\u001b[1;34m\u001b[0m\n\u001b[0;32m     44\u001b[0m \u001b[1;33m\u001b[0m\u001b[0m\n\u001b[0;32m     45\u001b[0m \u001b[1;31m# Bring in subpackages.\u001b[0m\u001b[1;33m\u001b[0m\u001b[1;33m\u001b[0m\u001b[0m\n\u001b[1;32m---> 46\u001b[1;33m \u001b[1;32mfrom\u001b[0m \u001b[0mtensorflow\u001b[0m\u001b[1;33m.\u001b[0m\u001b[0mpython\u001b[0m \u001b[1;32mimport\u001b[0m \u001b[0mdata\u001b[0m\u001b[1;33m\u001b[0m\u001b[1;33m\u001b[0m\u001b[0m\n\u001b[0m\u001b[0;32m     47\u001b[0m \u001b[1;32mfrom\u001b[0m \u001b[0mtensorflow\u001b[0m\u001b[1;33m.\u001b[0m\u001b[0mpython\u001b[0m \u001b[1;32mimport\u001b[0m \u001b[0mdistribute\u001b[0m\u001b[1;33m\u001b[0m\u001b[1;33m\u001b[0m\u001b[0m\n\u001b[0;32m     48\u001b[0m \u001b[1;31m# from tensorflow.python import keras\u001b[0m\u001b[1;33m\u001b[0m\u001b[1;33m\u001b[0m\u001b[0m\n",
      "\u001b[1;32m~\\miniconda3\\envs\\mimic4\\lib\\site-packages\\tensorflow\\python\\data\\__init__.py\u001b[0m in \u001b[0;36m<module>\u001b[1;34m\u001b[0m\n\u001b[0;32m     23\u001b[0m \u001b[1;33m\u001b[0m\u001b[0m\n\u001b[0;32m     24\u001b[0m \u001b[1;31m# pylint: disable=unused-import\u001b[0m\u001b[1;33m\u001b[0m\u001b[1;33m\u001b[0m\u001b[0m\n\u001b[1;32m---> 25\u001b[1;33m \u001b[1;32mfrom\u001b[0m \u001b[0mtensorflow\u001b[0m\u001b[1;33m.\u001b[0m\u001b[0mpython\u001b[0m\u001b[1;33m.\u001b[0m\u001b[0mdata\u001b[0m \u001b[1;32mimport\u001b[0m \u001b[0mexperimental\u001b[0m\u001b[1;33m\u001b[0m\u001b[1;33m\u001b[0m\u001b[0m\n\u001b[0m\u001b[0;32m     26\u001b[0m \u001b[1;32mfrom\u001b[0m \u001b[0mtensorflow\u001b[0m\u001b[1;33m.\u001b[0m\u001b[0mpython\u001b[0m\u001b[1;33m.\u001b[0m\u001b[0mdata\u001b[0m\u001b[1;33m.\u001b[0m\u001b[0mops\u001b[0m\u001b[1;33m.\u001b[0m\u001b[0mdataset_ops\u001b[0m \u001b[1;32mimport\u001b[0m \u001b[0mAUTOTUNE\u001b[0m\u001b[1;33m\u001b[0m\u001b[1;33m\u001b[0m\u001b[0m\n\u001b[0;32m     27\u001b[0m \u001b[1;32mfrom\u001b[0m \u001b[0mtensorflow\u001b[0m\u001b[1;33m.\u001b[0m\u001b[0mpython\u001b[0m\u001b[1;33m.\u001b[0m\u001b[0mdata\u001b[0m\u001b[1;33m.\u001b[0m\u001b[0mops\u001b[0m\u001b[1;33m.\u001b[0m\u001b[0mdataset_ops\u001b[0m \u001b[1;32mimport\u001b[0m \u001b[0mDataset\u001b[0m\u001b[1;33m\u001b[0m\u001b[1;33m\u001b[0m\u001b[0m\n",
      "\u001b[1;32m~\\miniconda3\\envs\\mimic4\\lib\\site-packages\\tensorflow\\python\\data\\experimental\\__init__.py\u001b[0m in \u001b[0;36m<module>\u001b[1;34m\u001b[0m\n\u001b[0;32m    128\u001b[0m \u001b[1;32mfrom\u001b[0m \u001b[0mtensorflow\u001b[0m\u001b[1;33m.\u001b[0m\u001b[0mpython\u001b[0m\u001b[1;33m.\u001b[0m\u001b[0mdata\u001b[0m\u001b[1;33m.\u001b[0m\u001b[0mexperimental\u001b[0m\u001b[1;33m.\u001b[0m\u001b[0mops\u001b[0m\u001b[1;33m.\u001b[0m\u001b[0mlookup_ops\u001b[0m \u001b[1;32mimport\u001b[0m \u001b[0mtable_from_dataset\u001b[0m\u001b[1;33m\u001b[0m\u001b[1;33m\u001b[0m\u001b[0m\n\u001b[0;32m    129\u001b[0m \u001b[1;32mfrom\u001b[0m \u001b[0mtensorflow\u001b[0m\u001b[1;33m.\u001b[0m\u001b[0mpython\u001b[0m\u001b[1;33m.\u001b[0m\u001b[0mdata\u001b[0m\u001b[1;33m.\u001b[0m\u001b[0mexperimental\u001b[0m\u001b[1;33m.\u001b[0m\u001b[0mops\u001b[0m\u001b[1;33m.\u001b[0m\u001b[0moptimization_options\u001b[0m \u001b[1;32mimport\u001b[0m \u001b[0mOptimizationOptions\u001b[0m\u001b[1;33m\u001b[0m\u001b[1;33m\u001b[0m\u001b[0m\n\u001b[1;32m--> 130\u001b[1;33m \u001b[1;32mfrom\u001b[0m \u001b[0mtensorflow\u001b[0m\u001b[1;33m.\u001b[0m\u001b[0mpython\u001b[0m\u001b[1;33m.\u001b[0m\u001b[0mdata\u001b[0m\u001b[1;33m.\u001b[0m\u001b[0mexperimental\u001b[0m\u001b[1;33m.\u001b[0m\u001b[0mops\u001b[0m\u001b[1;33m.\u001b[0m\u001b[0mparsing_ops\u001b[0m \u001b[1;32mimport\u001b[0m \u001b[0mparse_example_dataset\u001b[0m\u001b[1;33m\u001b[0m\u001b[1;33m\u001b[0m\u001b[0m\n\u001b[0m\u001b[0;32m    131\u001b[0m \u001b[1;32mfrom\u001b[0m \u001b[0mtensorflow\u001b[0m\u001b[1;33m.\u001b[0m\u001b[0mpython\u001b[0m\u001b[1;33m.\u001b[0m\u001b[0mdata\u001b[0m\u001b[1;33m.\u001b[0m\u001b[0mexperimental\u001b[0m\u001b[1;33m.\u001b[0m\u001b[0mops\u001b[0m\u001b[1;33m.\u001b[0m\u001b[0mprefetching_ops\u001b[0m \u001b[1;32mimport\u001b[0m \u001b[0mcopy_to_device\u001b[0m\u001b[1;33m\u001b[0m\u001b[1;33m\u001b[0m\u001b[0m\n\u001b[0;32m    132\u001b[0m \u001b[1;32mfrom\u001b[0m \u001b[0mtensorflow\u001b[0m\u001b[1;33m.\u001b[0m\u001b[0mpython\u001b[0m\u001b[1;33m.\u001b[0m\u001b[0mdata\u001b[0m\u001b[1;33m.\u001b[0m\u001b[0mexperimental\u001b[0m\u001b[1;33m.\u001b[0m\u001b[0mops\u001b[0m\u001b[1;33m.\u001b[0m\u001b[0mprefetching_ops\u001b[0m \u001b[1;32mimport\u001b[0m \u001b[0mprefetch_to_device\u001b[0m\u001b[1;33m\u001b[0m\u001b[1;33m\u001b[0m\u001b[0m\n",
      "\u001b[1;32m~\\miniconda3\\envs\\mimic4\\lib\\site-packages\\tensorflow\\python\\data\\experimental\\ops\\parsing_ops.py\u001b[0m in \u001b[0;36m<module>\u001b[1;34m\u001b[0m\n\u001b[0;32m     24\u001b[0m \u001b[1;32mfrom\u001b[0m \u001b[0mtensorflow\u001b[0m\u001b[1;33m.\u001b[0m\u001b[0mpython\u001b[0m\u001b[1;33m.\u001b[0m\u001b[0mframework\u001b[0m \u001b[1;32mimport\u001b[0m \u001b[0mtensor_spec\u001b[0m\u001b[1;33m\u001b[0m\u001b[1;33m\u001b[0m\u001b[0m\n\u001b[0;32m     25\u001b[0m \u001b[1;32mfrom\u001b[0m \u001b[0mtensorflow\u001b[0m\u001b[1;33m.\u001b[0m\u001b[0mpython\u001b[0m\u001b[1;33m.\u001b[0m\u001b[0mops\u001b[0m \u001b[1;32mimport\u001b[0m \u001b[0mgen_experimental_dataset_ops\u001b[0m\u001b[1;33m\u001b[0m\u001b[1;33m\u001b[0m\u001b[0m\n\u001b[1;32m---> 26\u001b[1;33m \u001b[1;32mfrom\u001b[0m \u001b[0mtensorflow\u001b[0m\u001b[1;33m.\u001b[0m\u001b[0mpython\u001b[0m\u001b[1;33m.\u001b[0m\u001b[0mops\u001b[0m \u001b[1;32mimport\u001b[0m \u001b[0mparsing_ops\u001b[0m\u001b[1;33m\u001b[0m\u001b[1;33m\u001b[0m\u001b[0m\n\u001b[0m\u001b[0;32m     27\u001b[0m \u001b[1;32mfrom\u001b[0m \u001b[0mtensorflow\u001b[0m\u001b[1;33m.\u001b[0m\u001b[0mpython\u001b[0m\u001b[1;33m.\u001b[0m\u001b[0mops\u001b[0m\u001b[1;33m.\u001b[0m\u001b[0mragged\u001b[0m \u001b[1;32mimport\u001b[0m \u001b[0mragged_tensor\u001b[0m\u001b[1;33m\u001b[0m\u001b[1;33m\u001b[0m\u001b[0m\n\u001b[0;32m     28\u001b[0m \u001b[1;32mfrom\u001b[0m \u001b[0mtensorflow\u001b[0m\u001b[1;33m.\u001b[0m\u001b[0mpython\u001b[0m\u001b[1;33m.\u001b[0m\u001b[0mutil\u001b[0m\u001b[1;33m.\u001b[0m\u001b[0mtf_export\u001b[0m \u001b[1;32mimport\u001b[0m \u001b[0mtf_export\u001b[0m\u001b[1;33m\u001b[0m\u001b[1;33m\u001b[0m\u001b[0m\n",
      "\u001b[1;32m~\\miniconda3\\envs\\mimic4\\lib\\site-packages\\tensorflow\\python\\ops\\parsing_ops.py\u001b[0m in \u001b[0;36m<module>\u001b[1;34m\u001b[0m\n\u001b[0;32m     25\u001b[0m \u001b[1;32mfrom\u001b[0m \u001b[0mtensorflow\u001b[0m\u001b[1;33m.\u001b[0m\u001b[0mpython\u001b[0m\u001b[1;33m.\u001b[0m\u001b[0mops\u001b[0m \u001b[1;32mimport\u001b[0m \u001b[0mgen_parsing_ops\u001b[0m\u001b[1;33m\u001b[0m\u001b[1;33m\u001b[0m\u001b[0m\n\u001b[0;32m     26\u001b[0m \u001b[1;32mfrom\u001b[0m \u001b[0mtensorflow\u001b[0m\u001b[1;33m.\u001b[0m\u001b[0mpython\u001b[0m\u001b[1;33m.\u001b[0m\u001b[0mops\u001b[0m \u001b[1;32mimport\u001b[0m \u001b[0mmath_ops\u001b[0m\u001b[1;33m\u001b[0m\u001b[1;33m\u001b[0m\u001b[0m\n\u001b[1;32m---> 27\u001b[1;33m \u001b[1;32mfrom\u001b[0m \u001b[0mtensorflow\u001b[0m\u001b[1;33m.\u001b[0m\u001b[0mpython\u001b[0m\u001b[1;33m.\u001b[0m\u001b[0mops\u001b[0m \u001b[1;32mimport\u001b[0m \u001b[0mparsing_config\u001b[0m\u001b[1;33m\u001b[0m\u001b[1;33m\u001b[0m\u001b[0m\n\u001b[0m\u001b[0;32m     28\u001b[0m \u001b[1;31m# go/tf-wildcard-import\u001b[0m\u001b[1;33m\u001b[0m\u001b[1;33m\u001b[0m\u001b[0m\n\u001b[0;32m     29\u001b[0m \u001b[1;31m# pylint: disable=wildcard-import,undefined-variable\u001b[0m\u001b[1;33m\u001b[0m\u001b[1;33m\u001b[0m\u001b[0m\n",
      "\u001b[1;32m~\\miniconda3\\envs\\mimic4\\lib\\site-packages\\tensorflow\\python\\ops\\parsing_config.py\u001b[0m in \u001b[0;36m<module>\u001b[1;34m\u001b[0m\n\u001b[0;32m     29\u001b[0m \u001b[1;32mfrom\u001b[0m \u001b[0mtensorflow\u001b[0m\u001b[1;33m.\u001b[0m\u001b[0mpython\u001b[0m\u001b[1;33m.\u001b[0m\u001b[0mops\u001b[0m \u001b[1;32mimport\u001b[0m \u001b[0mcheck_ops\u001b[0m\u001b[1;33m\u001b[0m\u001b[1;33m\u001b[0m\u001b[0m\n\u001b[0;32m     30\u001b[0m \u001b[1;32mfrom\u001b[0m \u001b[0mtensorflow\u001b[0m\u001b[1;33m.\u001b[0m\u001b[0mpython\u001b[0m\u001b[1;33m.\u001b[0m\u001b[0mops\u001b[0m \u001b[1;32mimport\u001b[0m \u001b[0mmath_ops\u001b[0m\u001b[1;33m\u001b[0m\u001b[1;33m\u001b[0m\u001b[0m\n\u001b[1;32m---> 31\u001b[1;33m \u001b[1;32mfrom\u001b[0m \u001b[0mtensorflow\u001b[0m\u001b[1;33m.\u001b[0m\u001b[0mpython\u001b[0m\u001b[1;33m.\u001b[0m\u001b[0mops\u001b[0m \u001b[1;32mimport\u001b[0m \u001b[0msparse_ops\u001b[0m\u001b[1;33m\u001b[0m\u001b[1;33m\u001b[0m\u001b[0m\n\u001b[0m\u001b[0;32m     32\u001b[0m \u001b[1;32mfrom\u001b[0m \u001b[0mtensorflow\u001b[0m\u001b[1;33m.\u001b[0m\u001b[0mpython\u001b[0m\u001b[1;33m.\u001b[0m\u001b[0mops\u001b[0m\u001b[1;33m.\u001b[0m\u001b[0mragged\u001b[0m \u001b[1;32mimport\u001b[0m \u001b[0mragged_math_ops\u001b[0m\u001b[1;33m\u001b[0m\u001b[1;33m\u001b[0m\u001b[0m\n\u001b[0;32m     33\u001b[0m \u001b[1;32mfrom\u001b[0m \u001b[0mtensorflow\u001b[0m\u001b[1;33m.\u001b[0m\u001b[0mpython\u001b[0m\u001b[1;33m.\u001b[0m\u001b[0mops\u001b[0m\u001b[1;33m.\u001b[0m\u001b[0mragged\u001b[0m \u001b[1;32mimport\u001b[0m \u001b[0mragged_tensor\u001b[0m\u001b[1;33m\u001b[0m\u001b[1;33m\u001b[0m\u001b[0m\n",
      "\u001b[1;32m~\\miniconda3\\envs\\mimic4\\lib\\site-packages\\tensorflow\\python\\ops\\sparse_ops.py\u001b[0m in \u001b[0;36m<module>\u001b[1;34m\u001b[0m\n\u001b[0;32m     39\u001b[0m \u001b[1;32mfrom\u001b[0m \u001b[0mtensorflow\u001b[0m\u001b[1;33m.\u001b[0m\u001b[0mpython\u001b[0m\u001b[1;33m.\u001b[0m\u001b[0mops\u001b[0m \u001b[1;32mimport\u001b[0m \u001b[0mgen_sparse_ops\u001b[0m\u001b[1;33m\u001b[0m\u001b[1;33m\u001b[0m\u001b[0m\n\u001b[0;32m     40\u001b[0m \u001b[1;32mfrom\u001b[0m \u001b[0mtensorflow\u001b[0m\u001b[1;33m.\u001b[0m\u001b[0mpython\u001b[0m\u001b[1;33m.\u001b[0m\u001b[0mops\u001b[0m \u001b[1;32mimport\u001b[0m \u001b[0mmath_ops\u001b[0m\u001b[1;33m\u001b[0m\u001b[1;33m\u001b[0m\u001b[0m\n\u001b[1;32m---> 41\u001b[1;33m \u001b[1;32mfrom\u001b[0m \u001b[0mtensorflow\u001b[0m\u001b[1;33m.\u001b[0m\u001b[0mpython\u001b[0m\u001b[1;33m.\u001b[0m\u001b[0mops\u001b[0m \u001b[1;32mimport\u001b[0m \u001b[0mspecial_math_ops\u001b[0m\u001b[1;33m\u001b[0m\u001b[1;33m\u001b[0m\u001b[0m\n\u001b[0m\u001b[0;32m     42\u001b[0m \u001b[1;31m# go/tf-wildcard-import\u001b[0m\u001b[1;33m\u001b[0m\u001b[1;33m\u001b[0m\u001b[0m\n\u001b[0;32m     43\u001b[0m \u001b[1;31m# pylint: disable=wildcard-import\u001b[0m\u001b[1;33m\u001b[0m\u001b[1;33m\u001b[0m\u001b[0m\n",
      "\u001b[1;32m~\\miniconda3\\envs\\mimic4\\lib\\site-packages\\tensorflow\\python\\ops\\special_math_ops.py\u001b[0m in \u001b[0;36m<module>\u001b[1;34m\u001b[0m\n\u001b[0;32m     33\u001b[0m \u001b[1;32mfrom\u001b[0m \u001b[0msix\u001b[0m\u001b[1;33m.\u001b[0m\u001b[0mmoves\u001b[0m \u001b[1;32mimport\u001b[0m \u001b[0mxrange\u001b[0m  \u001b[1;31m# pylint: disable=redefined-builtin\u001b[0m\u001b[1;33m\u001b[0m\u001b[1;33m\u001b[0m\u001b[0m\n\u001b[0;32m     34\u001b[0m \u001b[1;33m\u001b[0m\u001b[0m\n\u001b[1;32m---> 35\u001b[1;33m \u001b[1;32mfrom\u001b[0m \u001b[0mtensorflow\u001b[0m\u001b[1;33m.\u001b[0m\u001b[0mcompiler\u001b[0m\u001b[1;33m.\u001b[0m\u001b[0mtf2xla\u001b[0m\u001b[1;33m.\u001b[0m\u001b[0mops\u001b[0m \u001b[1;32mimport\u001b[0m \u001b[0mgen_xla_ops\u001b[0m\u001b[1;33m\u001b[0m\u001b[1;33m\u001b[0m\u001b[0m\n\u001b[0m\u001b[0;32m     36\u001b[0m \u001b[1;32mfrom\u001b[0m \u001b[0mtensorflow\u001b[0m\u001b[1;33m.\u001b[0m\u001b[0mpython\u001b[0m\u001b[1;33m.\u001b[0m\u001b[0mframework\u001b[0m \u001b[1;32mimport\u001b[0m \u001b[0mops\u001b[0m\u001b[1;33m\u001b[0m\u001b[1;33m\u001b[0m\u001b[0m\n\u001b[0;32m     37\u001b[0m \u001b[1;32mfrom\u001b[0m \u001b[0mtensorflow\u001b[0m\u001b[1;33m.\u001b[0m\u001b[0mpython\u001b[0m\u001b[1;33m.\u001b[0m\u001b[0mframework\u001b[0m \u001b[1;32mimport\u001b[0m \u001b[0mtensor_shape\u001b[0m\u001b[1;33m\u001b[0m\u001b[1;33m\u001b[0m\u001b[0m\n",
      "\u001b[1;32m~\\miniconda3\\envs\\mimic4\\lib\\site-packages\\tensorflow\\compiler\\tf2xla\\ops\\gen_xla_ops.py\u001b[0m in \u001b[0;36m<module>\u001b[1;34m\u001b[0m\n\u001b[0;32m     21\u001b[0m \u001b[1;32mfrom\u001b[0m \u001b[0mtyping\u001b[0m \u001b[1;32mimport\u001b[0m \u001b[0mTypeVar\u001b[0m\u001b[1;33m\u001b[0m\u001b[1;33m\u001b[0m\u001b[0m\n\u001b[0;32m     22\u001b[0m \u001b[1;33m\u001b[0m\u001b[0m\n\u001b[1;32m---> 23\u001b[1;33m \u001b[1;33m@\u001b[0m\u001b[0m_dispatch\u001b[0m\u001b[1;33m.\u001b[0m\u001b[0madd_fallback_dispatch_list\u001b[0m\u001b[1;33m\u001b[0m\u001b[1;33m\u001b[0m\u001b[0m\n\u001b[0m\u001b[0;32m     24\u001b[0m \u001b[1;33m@\u001b[0m\u001b[0m_dispatch\u001b[0m\u001b[1;33m.\u001b[0m\u001b[0madd_type_based_api_dispatcher\u001b[0m\u001b[1;33m\u001b[0m\u001b[1;33m\u001b[0m\u001b[0m\n\u001b[0;32m     25\u001b[0m \u001b[1;33m@\u001b[0m\u001b[0mtf_export\u001b[0m\u001b[1;33m(\u001b[0m\u001b[1;34m'xla_all_reduce'\u001b[0m\u001b[1;33m)\u001b[0m\u001b[1;33m\u001b[0m\u001b[1;33m\u001b[0m\u001b[0m\n",
      "\u001b[1;31mAttributeError\u001b[0m: module 'tensorflow.python.util.dispatch' has no attribute 'add_fallback_dispatch_list'"
     ]
    }
   ],
   "source": [
    "import shap\n",
    "import matplotlib.pyplot as plt"
   ]
  },
  {
   "cell_type": "code",
   "execution_count": null,
   "metadata": {},
   "outputs": [
    {
     "data": {
      "text/plain": [
       "{'use_label_encoder': False,\n",
       " 'objective': 'binary:logistic',\n",
       " 'n_estimators': 370,\n",
       " 'min_child_weight': 5,\n",
       " 'learning_rate': 0.008,\n",
       " 'gamma': 9,\n",
       " 'booster': 'gbtree'}"
      ]
     },
     "execution_count": 70,
     "metadata": {},
     "output_type": "execute_result"
    }
   ],
   "source": [
    "RSCV_xgb.best_params_"
   ]
  },
  {
   "cell_type": "code",
   "execution_count": null,
   "metadata": {},
   "outputs": [
    {
     "name": "stderr",
     "output_type": "stream",
     "text": [
      "The use of label encoder in XGBClassifier is deprecated and will be removed in a future release. To remove this warning, do the following: 1) Pass option use_label_encoder=False when constructing XGBClassifier object; and 2) Encode your labels (y) as integers starting with 0, i.e. 0, 1, 2, ..., [num_class - 1].\n"
     ]
    }
   ],
   "source": [
    "xgb = XGBClassifier(objective='binary:logistic',\n",
    "n_estimators=390, learning_rate=0.006,\n",
    "min_child_weight=5, gamma=10,booster='gbtree').fit(x_train, y_train)"
   ]
  },
  {
   "cell_type": "code",
   "execution_count": null,
   "metadata": {},
   "outputs": [
    {
     "name": "stderr",
     "output_type": "stream",
     "text": [
      "ntree_limit is deprecated, use `iteration_range` or model slicing instead.\n"
     ]
    }
   ],
   "source": [
    "explainer_xgb = shap.Explainer(xgb)\n",
    "shapValues_xgb = explainer_xgb(x_test)\n",
    "explainer_lgbm = shap.Explainer(xgb)\n",
    "shapValues_lgbm = explainer_lgbm(x_test)"
   ]
  },
  {
   "cell_type": "code",
   "execution_count": null,
   "metadata": {},
   "outputs": [
    {
     "data": {
      "image/png": "[encoded data removed]",
      "text/plain": [
       "<Figure size 576x684 with 2 Axes>"
      ]
     },
     "metadata": {
      "needs_background": "light"
     },
     "output_type": "display_data"
    },
    {
     "data": {
      "image/png": "[encoded data removed]",
      "text/plain": [
       "<Figure size 576x684 with 2 Axes>"
      ]
     },
     "metadata": {
      "needs_background": "light"
     },
     "output_type": "display_data"
    }
   ],
   "source": [
    "xgb_shap = shap.summary_plot(shapValues_xgb, x_test)\n",
    "lgbm_shap = shap.summary_plot(shapValues_lgbm, x_test)\n"
   ]
  },
  {
   "cell_type": "code",
   "execution_count": 729,
   "metadata": {},
   "outputs": [],
   "source": [
    "df.to_csv('df_new.csv')"
   ]
  },
  {
   "cell_type": "code",
   "execution_count": null,
   "metadata": {},
   "outputs": [],
   "source": []
  }
 ],
 "metadata": {
  "interpreter": {
   "hash": "ec53bc8d97974e186cb8b5b1e54148bf5b5aa538e5a1357d0f5b6594cb5583da"
  },
  "kernelspec": {
   "display_name": "Python 3.9.7",
   "language": "python",
   "name": "python3"
  },
  "language_info": {
   "codemirror_mode": {
    "name": "ipython",
    "version": 3
   },
   "file_extension": ".py",
   "mimetype": "text/x-python",
   "name": "python",
   "nbconvert_exporter": "python",
   "pygments_lexer": "ipython3",
   "version": "3.9.7"
  },
  "orig_nbformat": 4
 },
 "nbformat": 4,
 "nbformat_minor": 2
}
