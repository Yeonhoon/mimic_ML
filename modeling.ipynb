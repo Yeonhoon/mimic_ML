{
 "cells": [
  {
   "cell_type": "markdown",
   "metadata": {},
   "source": [
    "### Import Packages"
   ]
  },
  {
   "cell_type": "code",
   "execution_count": 1,
   "metadata": {},
   "outputs": [],
   "source": [
    "from sklearn.preprocessing import MinMaxScaler, StandardScaler, OneHotEncoder\n",
    "from sklearn.metrics import accuracy_score, confusion_matrix, f1_score, recall_score, precision_score\n",
    "from sklearn.model_selection import train_test_split, cross_validate\n",
    "import numpy as np\n",
    "import pandas as pd\n",
    "import os, sys\n"
   ]
  },
  {
   "cell_type": "code",
   "execution_count": 2,
   "metadata": {},
   "outputs": [
    {
     "data": {
      "text/plain": [
       "'c:\\\\Users\\\\user\\\\mimic\\\\mimic-iv\\\\ml'"
      ]
     },
     "execution_count": 2,
     "metadata": {},
     "output_type": "execute_result"
    }
   ],
   "source": [
    "os.getcwd()"
   ]
  },
  {
   "cell_type": "code",
   "execution_count": 3,
   "metadata": {},
   "outputs": [],
   "source": [
    "df = pd.read_csv('C:/Users/user/mimic/Mimic-iv/csv/df.csv')"
   ]
  },
  {
   "cell_type": "code",
   "execution_count": 4,
   "metadata": {},
   "outputs": [
    {
     "data": {
      "text/plain": [
       "0    13397\n",
       "1     4595\n",
       "Name: afib_within_7days, dtype: int64"
      ]
     },
     "execution_count": 4,
     "metadata": {},
     "output_type": "execute_result"
    }
   ],
   "source": [
    "df['afib_within_7days'].value_counts()"
   ]
  },
  {
   "cell_type": "code",
   "execution_count": 5,
   "metadata": {},
   "outputs": [],
   "source": [
    "exclude_vars = ['time','_id','duration','death','dod',\n",
    "'cvicu','first_careunit',\n",
    "'inhos','90','t2e','ethnicity','gender','crrt_after_afib','ventil_usage_before_afib',\n",
    "'ventil_usage','ventil_usage_after_afib','afib_newonset','after_afib','exclusion','weight','height']\n",
    "expr = '|'.join(exclude_vars)\n",
    "\n",
    "mask= df.columns.str.contains(expr)==False\n",
    "df = df.iloc[:,mask]"
   ]
  },
  {
   "cell_type": "code",
   "execution_count": 6,
   "metadata": {},
   "outputs": [
    {
     "data": {
      "text/plain": [
       "0    14935\n",
       "1     3057\n",
       "Name: dex_usage, dtype: int64"
      ]
     },
     "execution_count": 6,
     "metadata": {},
     "output_type": "execute_result"
    }
   ],
   "source": [
    "df['dex_usage'].value_counts()"
   ]
  },
  {
   "cell_type": "markdown",
   "metadata": {},
   "source": [
    "### Preprocessing"
   ]
  },
  {
   "cell_type": "markdown",
   "metadata": {},
   "source": [
    "#### Outlier"
   ]
  },
  {
   "cell_type": "code",
   "execution_count": 7,
   "metadata": {},
   "outputs": [
    {
     "name": "stderr",
     "output_type": "stream",
     "text": [
      "C:\\Users\\user\\miniconda3\\envs\\mimic4\\lib\\site-packages\\pandas\\core\\indexing.py:1732: SettingWithCopyWarning: \n",
      "A value is trying to be set on a copy of a slice from a DataFrame\n",
      "\n",
      "See the caveats in the documentation: https://pandas.pydata.org/pandas-docs/stable/user_guide/indexing.html#returning-a-view-versus-a-copy\n",
      "  self._setitem_single_block(indexer, value, name)\n",
      "C:\\Users\\user\\AppData\\Local\\Temp/ipykernel_22064/1495625771.py:8: SettingWithCopyWarning: \n",
      "A value is trying to be set on a copy of a slice from a DataFrame\n",
      "\n",
      "See the caveats in the documentation: https://pandas.pydata.org/pandas-docs/stable/user_guide/indexing.html#returning-a-view-versus-a-copy\n",
      "  if (df[i][j] < minimum) | (df[i][j]>maximum): df[i][j] = np.nan\n"
     ]
    }
   ],
   "source": [
    "exception = ['afib_within_7days','dex_usage']\n",
    "for i in df.loc[:,df.dtypes!='object'].columns:\n",
    "    if i not in exception :\n",
    "        Q1, Q3 = df[i].quantile([0.25,0.75]).values\n",
    "        IQR = Q3 - Q1\n",
    "        minimum, maximum = (Q1-1.5*IQR), (Q3 + 1.5 * IQR)\n",
    "        for j in range(df[i].shape[0]):\n",
    "            if (df[i][j] < minimum) | (df[i][j]>maximum): df[i][j] = np.nan\n",
    "            "
   ]
  },
  {
   "cell_type": "code",
   "execution_count": 8,
   "metadata": {},
   "outputs": [
    {
     "data": {
      "text/plain": [
       "0    14935\n",
       "1     3057\n",
       "Name: dex_usage, dtype: int64"
      ]
     },
     "execution_count": 8,
     "metadata": {},
     "output_type": "execute_result"
    }
   ],
   "source": [
    "df['dex_usage'].value_counts()"
   ]
  },
  {
   "cell_type": "markdown",
   "metadata": {},
   "source": [
    "#### imputation"
   ]
  },
  {
   "cell_type": "code",
   "execution_count": 9,
   "metadata": {},
   "outputs": [
    {
     "data": {
      "text/plain": [
       "<AxesSubplot:xlabel='value', ylabel='count'>"
      ]
     },
     "execution_count": 9,
     "metadata": {},
     "output_type": "execute_result"
    },
    {
     "data": {
      "image/png": "[encoded data removed]",
      "text/plain": [
       "<Figure size 432x288 with 1 Axes>"
      ]
     },
     "metadata": {
      "needs_background": "light"
     },
     "output_type": "display_data"
    }
   ],
   "source": [
    "import seaborn as sns\n",
    "naDf = pd.DataFrame(df.isna().sum())\n",
    "naDf.index.name='value'\n",
    "naDf.rename(columns={0:'count'}, inplace=True)\n",
    "naDf.reset_index(inplace=True)\n",
    "naDf\n",
    "\n",
    "sns.barplot(data=naDf, x='value', y='count')"
   ]
  },
  {
   "cell_type": "code",
   "execution_count": 10,
   "metadata": {},
   "outputs": [
    {
     "name": "stderr",
     "output_type": "stream",
     "text": [
      "C:\\Users\\user\\AppData\\Local\\Temp/ipykernel_22064/3337489165.py:2: FutureWarning: Dropping of nuisance columns in DataFrame reductions (with 'numeric_only=None') is deprecated; in a future version this will raise TypeError.  Select only valid columns before calling the reduction.\n",
      "  df = df.fillna(df.median())\n"
     ]
    }
   ],
   "source": [
    "imputation_target = df.loc[:,df.isnull().sum()>0].columns\n",
    "df = df.fillna(df.median())"
   ]
  },
  {
   "cell_type": "markdown",
   "metadata": {},
   "source": [
    "\n",
    "#### Scaling\n",
    "- chr -> one-hot encoding\n",
    "- numeric -> standard scaler"
   ]
  },
  {
   "cell_type": "code",
   "execution_count": 11,
   "metadata": {},
   "outputs": [],
   "source": [
    "onehot_columns = df.loc[:,df.dtypes=='object'].columns\n",
    "\n",
    "for i in onehot_columns:\n",
    "    if i=='sex':\n",
    "        df[i] = np.where(df[i]=='Female',0,1)\n",
    "    elif len(df[i].unique())==2:\n",
    "        df[i] = np.where(df[i]=='Yes',1,0)\n",
    "    else:\n",
    "        pass\n"
   ]
  },
  {
   "cell_type": "code",
   "execution_count": 12,
   "metadata": {},
   "outputs": [
    {
     "data": {
      "text/plain": [
       "Index(['CCU', 'CVICU', 'ETC', 'MICU', 'SICU'], dtype='object')"
      ]
     },
     "execution_count": 12,
     "metadata": {},
     "output_type": "execute_result"
    }
   ],
   "source": [
    "onehot_encoder = OneHotEncoder()\n",
    "onehot_result = onehot_encoder.fit_transform(df[['icuunit']])\n",
    "\n",
    "# onehot_result\n",
    "onehot_result_df = pd.DataFrame(onehot_result.toarray(),columns=['CCU','CVICU','ETC','MICU','SICU'])\n",
    "onehot_result_df.columns"
   ]
  },
  {
   "cell_type": "code",
   "execution_count": 13,
   "metadata": {},
   "outputs": [],
   "source": [
    "df = df.drop('icuunit',axis=1)\n",
    "df = pd.concat([df, onehot_result_df],axis=1)"
   ]
  },
  {
   "cell_type": "markdown",
   "metadata": {},
   "source": [
    "#### CHECK VIF"
   ]
  },
  {
   "cell_type": "code",
   "execution_count": 14,
   "metadata": {},
   "outputs": [],
   "source": [
    "from statsmodels.stats.outliers_influence import variance_inflation_factor\n",
    "from patsy import dmatrices\n",
    "import statsmodels.api as sm"
   ]
  },
  {
   "cell_type": "code",
   "execution_count": 15,
   "metadata": {},
   "outputs": [
    {
     "name": "stderr",
     "output_type": "stream",
     "text": [
      "C:\\Users\\user\\miniconda3\\envs\\mimic4\\lib\\site-packages\\statsmodels\\regression\\linear_model.py:1715: RuntimeWarning: divide by zero encountered in double_scalars\n",
      "  return 1 - self.ssr/self.centered_tss\n",
      "C:\\Users\\user\\miniconda3\\envs\\mimic4\\lib\\site-packages\\statsmodels\\regression\\linear_model.py:1715: RuntimeWarning: invalid value encountered in double_scalars\n",
      "  return 1 - self.ssr/self.centered_tss\n",
      "C:\\Users\\user\\miniconda3\\envs\\mimic4\\lib\\site-packages\\statsmodels\\stats\\outliers_influence.py:193: RuntimeWarning: divide by zero encountered in double_scalars\n",
      "  vif = 1. / (1. - r_squared_i)\n"
     ]
    },
    {
     "data": {
      "text/html": [
       "<div>\n",
       "<style scoped>\n",
       "    .dataframe tbody tr th:only-of-type {\n",
       "        vertical-align: middle;\n",
       "    }\n",
       "\n",
       "    .dataframe tbody tr th {\n",
       "        vertical-align: top;\n",
       "    }\n",
       "\n",
       "    .dataframe thead th {\n",
       "        text-align: right;\n",
       "    }\n",
       "</style>\n",
       "<table border=\"1\" class=\"dataframe\">\n",
       "  <thead>\n",
       "    <tr style=\"text-align: right;\">\n",
       "      <th></th>\n",
       "      <th>VIF factor</th>\n",
       "      <th>features</th>\n",
       "    </tr>\n",
       "  </thead>\n",
       "  <tbody>\n",
       "    <tr>\n",
       "      <th>0</th>\n",
       "      <td>0.000000</td>\n",
       "      <td>Intercept</td>\n",
       "    </tr>\n",
       "    <tr>\n",
       "      <th>1</th>\n",
       "      <td>1.695913</td>\n",
       "      <td>age</td>\n",
       "    </tr>\n",
       "    <tr>\n",
       "      <th>2</th>\n",
       "      <td>1.175229</td>\n",
       "      <td>los_hospital</td>\n",
       "    </tr>\n",
       "    <tr>\n",
       "      <th>3</th>\n",
       "      <td>1.220383</td>\n",
       "      <td>los_icu</td>\n",
       "    </tr>\n",
       "    <tr>\n",
       "      <th>4</th>\n",
       "      <td>1.707748</td>\n",
       "      <td>cci</td>\n",
       "    </tr>\n",
       "    <tr>\n",
       "      <th>5</th>\n",
       "      <td>1.237711</td>\n",
       "      <td>hemoglobin</td>\n",
       "    </tr>\n",
       "    <tr>\n",
       "      <th>6</th>\n",
       "      <td>1.223837</td>\n",
       "      <td>platelet</td>\n",
       "    </tr>\n",
       "    <tr>\n",
       "      <th>7</th>\n",
       "      <td>1.134848</td>\n",
       "      <td>wbc</td>\n",
       "    </tr>\n",
       "    <tr>\n",
       "      <th>8</th>\n",
       "      <td>1.334389</td>\n",
       "      <td>bicarbonate</td>\n",
       "    </tr>\n",
       "    <tr>\n",
       "      <th>9</th>\n",
       "      <td>1.530515</td>\n",
       "      <td>bun</td>\n",
       "    </tr>\n",
       "    <tr>\n",
       "      <th>10</th>\n",
       "      <td>1.498828</td>\n",
       "      <td>creatinine</td>\n",
       "    </tr>\n",
       "    <tr>\n",
       "      <th>11</th>\n",
       "      <td>1.689687</td>\n",
       "      <td>sodium</td>\n",
       "    </tr>\n",
       "    <tr>\n",
       "      <th>12</th>\n",
       "      <td>1.242580</td>\n",
       "      <td>calcium</td>\n",
       "    </tr>\n",
       "    <tr>\n",
       "      <th>13</th>\n",
       "      <td>1.134772</td>\n",
       "      <td>potassium</td>\n",
       "    </tr>\n",
       "    <tr>\n",
       "      <th>14</th>\n",
       "      <td>1.148718</td>\n",
       "      <td>magnesium</td>\n",
       "    </tr>\n",
       "    <tr>\n",
       "      <th>15</th>\n",
       "      <td>2.065315</td>\n",
       "      <td>chloride</td>\n",
       "    </tr>\n",
       "    <tr>\n",
       "      <th>16</th>\n",
       "      <td>1.106069</td>\n",
       "      <td>lactate</td>\n",
       "    </tr>\n",
       "    <tr>\n",
       "      <th>17</th>\n",
       "      <td>1.116057</td>\n",
       "      <td>heart_rate</td>\n",
       "    </tr>\n",
       "    <tr>\n",
       "      <th>18</th>\n",
       "      <td>1.106943</td>\n",
       "      <td>resp_rate</td>\n",
       "    </tr>\n",
       "    <tr>\n",
       "      <th>19</th>\n",
       "      <td>1.011785</td>\n",
       "      <td>temperature</td>\n",
       "    </tr>\n",
       "    <tr>\n",
       "      <th>20</th>\n",
       "      <td>1.033143</td>\n",
       "      <td>spo2</td>\n",
       "    </tr>\n",
       "    <tr>\n",
       "      <th>21</th>\n",
       "      <td>1.089028</td>\n",
       "      <td>map</td>\n",
       "    </tr>\n",
       "    <tr>\n",
       "      <th>22</th>\n",
       "      <td>1.612434</td>\n",
       "      <td>sofa_score</td>\n",
       "    </tr>\n",
       "    <tr>\n",
       "      <th>23</th>\n",
       "      <td>1.234155</td>\n",
       "      <td>sepsis</td>\n",
       "    </tr>\n",
       "    <tr>\n",
       "      <th>24</th>\n",
       "      <td>1.132866</td>\n",
       "      <td>vis</td>\n",
       "    </tr>\n",
       "    <tr>\n",
       "      <th>25</th>\n",
       "      <td>1.103410</td>\n",
       "      <td>sex</td>\n",
       "    </tr>\n",
       "    <tr>\n",
       "      <th>26</th>\n",
       "      <td>1.100849</td>\n",
       "      <td>dex_usage</td>\n",
       "    </tr>\n",
       "    <tr>\n",
       "      <th>27</th>\n",
       "      <td>1.047201</td>\n",
       "      <td>crrt_before_afib</td>\n",
       "    </tr>\n",
       "    <tr>\n",
       "      <th>28</th>\n",
       "      <td>1.047995</td>\n",
       "      <td>crrt_usage</td>\n",
       "    </tr>\n",
       "    <tr>\n",
       "      <th>29</th>\n",
       "      <td>1.169936</td>\n",
       "      <td>ventilator</td>\n",
       "    </tr>\n",
       "    <tr>\n",
       "      <th>30</th>\n",
       "      <td>1.050965</td>\n",
       "      <td>bmi</td>\n",
       "    </tr>\n",
       "    <tr>\n",
       "      <th>31</th>\n",
       "      <td>NaN</td>\n",
       "      <td>race</td>\n",
       "    </tr>\n",
       "    <tr>\n",
       "      <th>32</th>\n",
       "      <td>1.089704</td>\n",
       "      <td>heart_surgery</td>\n",
       "    </tr>\n",
       "    <tr>\n",
       "      <th>33</th>\n",
       "      <td>1.101705</td>\n",
       "      <td>cardioversion</td>\n",
       "    </tr>\n",
       "    <tr>\n",
       "      <th>34</th>\n",
       "      <td>1.021585</td>\n",
       "      <td>brady_count</td>\n",
       "    </tr>\n",
       "    <tr>\n",
       "      <th>35</th>\n",
       "      <td>1.154109</td>\n",
       "      <td>hypo_count</td>\n",
       "    </tr>\n",
       "    <tr>\n",
       "      <th>36</th>\n",
       "      <td>inf</td>\n",
       "      <td>CCU</td>\n",
       "    </tr>\n",
       "    <tr>\n",
       "      <th>37</th>\n",
       "      <td>inf</td>\n",
       "      <td>CVICU</td>\n",
       "    </tr>\n",
       "    <tr>\n",
       "      <th>38</th>\n",
       "      <td>inf</td>\n",
       "      <td>ETC</td>\n",
       "    </tr>\n",
       "    <tr>\n",
       "      <th>39</th>\n",
       "      <td>inf</td>\n",
       "      <td>MICU</td>\n",
       "    </tr>\n",
       "    <tr>\n",
       "      <th>40</th>\n",
       "      <td>inf</td>\n",
       "      <td>SICU</td>\n",
       "    </tr>\n",
       "  </tbody>\n",
       "</table>\n",
       "</div>"
      ],
      "text/plain": [
       "    VIF factor          features\n",
       "0     0.000000         Intercept\n",
       "1     1.695913               age\n",
       "2     1.175229      los_hospital\n",
       "3     1.220383           los_icu\n",
       "4     1.707748               cci\n",
       "5     1.237711        hemoglobin\n",
       "6     1.223837          platelet\n",
       "7     1.134848               wbc\n",
       "8     1.334389       bicarbonate\n",
       "9     1.530515               bun\n",
       "10    1.498828        creatinine\n",
       "11    1.689687            sodium\n",
       "12    1.242580           calcium\n",
       "13    1.134772         potassium\n",
       "14    1.148718         magnesium\n",
       "15    2.065315          chloride\n",
       "16    1.106069           lactate\n",
       "17    1.116057        heart_rate\n",
       "18    1.106943         resp_rate\n",
       "19    1.011785       temperature\n",
       "20    1.033143              spo2\n",
       "21    1.089028               map\n",
       "22    1.612434        sofa_score\n",
       "23    1.234155            sepsis\n",
       "24    1.132866               vis\n",
       "25    1.103410               sex\n",
       "26    1.100849         dex_usage\n",
       "27    1.047201  crrt_before_afib\n",
       "28    1.047995        crrt_usage\n",
       "29    1.169936        ventilator\n",
       "30    1.050965               bmi\n",
       "31         NaN              race\n",
       "32    1.089704     heart_surgery\n",
       "33    1.101705     cardioversion\n",
       "34    1.021585       brady_count\n",
       "35    1.154109        hypo_count\n",
       "36         inf               CCU\n",
       "37         inf             CVICU\n",
       "38         inf               ETC\n",
       "39         inf              MICU\n",
       "40         inf              SICU"
      ]
     },
     "execution_count": 15,
     "metadata": {},
     "output_type": "execute_result"
    }
   ],
   "source": [
    "target = 'afib_within_7days'\n",
    "x= list(df.columns)\n",
    "x.remove('afib_within_7days')\n",
    "xs = \"+\".join(x)\n",
    "form = target + \"~\" + xs\n",
    "\n",
    "Y,X = dmatrices(form, df, return_type='dataframe')\n",
    "vif =pd.DataFrame()\n",
    "vif['VIF factor'] = [variance_inflation_factor(X.values,i) for i in range(X.shape[1])]\n",
    "vif['features'] = X.columns\n",
    "vif"
   ]
  },
  {
   "cell_type": "markdown",
   "metadata": {},
   "source": [
    "### Modeling"
   ]
  },
  {
   "cell_type": "code",
   "execution_count": 16,
   "metadata": {},
   "outputs": [],
   "source": [
    "\n",
    "y = df['afib_within_7days']\n",
    "x = df.iloc[:,df.columns != 'afib_within_7days']\n",
    "x_train, x_test, y_train, y_test = train_test_split(x,y, random_state=7795, test_size=0.3)\n"
   ]
  },
  {
   "cell_type": "code",
   "execution_count": 17,
   "metadata": {},
   "outputs": [
    {
     "name": "stderr",
     "output_type": "stream",
     "text": [
      "C:\\Users\\user\\miniconda3\\envs\\mimic4\\lib\\site-packages\\sklearn\\linear_model\\_logistic.py:763: ConvergenceWarning: lbfgs failed to converge (status=1):\n",
      "STOP: TOTAL NO. of ITERATIONS REACHED LIMIT.\n",
      "\n",
      "Increase the number of iterations (max_iter) or scale the data as shown in:\n",
      "    https://scikit-learn.org/stable/modules/preprocessing.html\n",
      "Please also refer to the documentation for alternative solver options:\n",
      "    https://scikit-learn.org/stable/modules/linear_model.html#logistic-regression\n",
      "  n_iter_i = _check_optimize_result(\n",
      "C:\\Users\\user\\miniconda3\\envs\\mimic4\\lib\\site-packages\\xgboost\\sklearn.py:1212: UserWarning: The use of label encoder in XGBClassifier is deprecated and will be removed in a future release. To remove this warning, do the following: 1) Pass option use_label_encoder=False when constructing XGBClassifier object; and 2) Encode your labels (y) as integers starting with 0, i.e. 0, 1, 2, ..., [num_class - 1].\n",
      "  warnings.warn(label_encoder_deprecation_msg, UserWarning)\n"
     ]
    },
    {
     "data": {
      "text/html": [
       "<div>\n",
       "<style scoped>\n",
       "    .dataframe tbody tr th:only-of-type {\n",
       "        vertical-align: middle;\n",
       "    }\n",
       "\n",
       "    .dataframe tbody tr th {\n",
       "        vertical-align: top;\n",
       "    }\n",
       "\n",
       "    .dataframe thead th {\n",
       "        text-align: right;\n",
       "    }\n",
       "</style>\n",
       "<table border=\"1\" class=\"dataframe\">\n",
       "  <thead>\n",
       "    <tr style=\"text-align: right;\">\n",
       "      <th></th>\n",
       "      <th>LR</th>\n",
       "      <th>RF</th>\n",
       "      <th>XGB</th>\n",
       "      <th>LGBM</th>\n",
       "      <th>MLP</th>\n",
       "    </tr>\n",
       "  </thead>\n",
       "  <tbody>\n",
       "    <tr>\n",
       "      <th>AUROC</th>\n",
       "      <td>0.924221</td>\n",
       "      <td>0.943241</td>\n",
       "      <td>0.946567</td>\n",
       "      <td>0.952370</td>\n",
       "      <td>0.950716</td>\n",
       "    </tr>\n",
       "    <tr>\n",
       "      <th>AUPRC</th>\n",
       "      <td>0.884409</td>\n",
       "      <td>0.911743</td>\n",
       "      <td>0.911976</td>\n",
       "      <td>0.918682</td>\n",
       "      <td>0.916623</td>\n",
       "    </tr>\n",
       "    <tr>\n",
       "      <th>F1</th>\n",
       "      <td>0.810539</td>\n",
       "      <td>0.836303</td>\n",
       "      <td>0.837115</td>\n",
       "      <td>0.838421</td>\n",
       "      <td>0.835747</td>\n",
       "    </tr>\n",
       "  </tbody>\n",
       "</table>\n",
       "</div>"
      ],
      "text/plain": [
       "             LR        RF       XGB      LGBM       MLP\n",
       "AUROC  0.924221  0.943241  0.946567  0.952370  0.950716\n",
       "AUPRC  0.884409  0.911743  0.911976  0.918682  0.916623\n",
       "F1     0.810539  0.836303  0.837115  0.838421  0.835747"
      ]
     },
     "execution_count": 17,
     "metadata": {},
     "output_type": "execute_result"
    }
   ],
   "source": [
    "from sklearn.linear_model import LogisticRegression\n",
    "from sklearn.ensemble import RandomForestClassifier\n",
    "from xgboost import XGBClassifier\n",
    "from lightgbm import LGBMClassifier\n",
    "from sklearn.neural_network import MLPClassifier\n",
    "from sklearn.metrics import roc_auc_score, precision_recall_curve, auc, f1_score\n",
    "\n",
    "lr = LogisticRegression().fit(x_train,y_train)\n",
    "rf = RandomForestClassifier().fit(x_train,y_train)\n",
    "xgb = XGBClassifier().fit(x_train, y_train)\n",
    "lgbm = LGBMClassifier().fit(x_train,y_train)\n",
    "mlp = MLPClassifier().fit(x_train,y_train)\n",
    "\n",
    "lr_pred = lr.predict_proba(x_test)[:,1]\n",
    "rf_pred = rf.predict_proba(x_test)[:,1]\n",
    "xgb_pred = xgb.predict_proba(x_test)[:,1]\n",
    "lgbm_pred = lgbm.predict_proba(x_test)[:,1]\n",
    "mlp_pred = mlp.predict_proba(x_test)[:,1]\n",
    "\n",
    "lr_pred_exact = lr.predict(x_test)\n",
    "rf_pred_exact = rf.predict(x_test)\n",
    "xgb_pred_exact = xgb.predict(x_test)\n",
    "lgbm_pred_exact = lgbm.predict(x_test)\n",
    "mlp_pred_exact = mlp.predict(x_test)\n",
    "\n",
    "lr_f1 = f1_score(y_test, lr_pred_exact)\n",
    "rf_f1 = f1_score(y_test, rf_pred_exact)\n",
    "xgb_f1 = f1_score(y_test, xgb_pred_exact)\n",
    "lgbm_f1 = f1_score(y_test, lgbm_pred_exact)\n",
    "mlp_f1 = f1_score(y_test, mlp_pred_exact)\n",
    "\n",
    "\n",
    "precision, recall, th, = precision_recall_curve(y_test, rf_pred)\n",
    "rf_auprc = auc(recall, precision)\n",
    "\n",
    "precision, recall, th, = precision_recall_curve(y_test, lr_pred)\n",
    "lr_auprc = auc(recall, precision)\n",
    "\n",
    "precision, recall, th, = precision_recall_curve(y_test, xgb_pred)\n",
    "xgb_auprc = auc(recall, precision)\n",
    "\n",
    "precision, recall, th, = precision_recall_curve(y_test, lgbm_pred)\n",
    "lgbm_auprc = auc(recall, precision)\n",
    "\n",
    "precision, recall, th, = precision_recall_curve(y_test, mlp_pred)\n",
    "mlp_auprc = auc(recall, precision)\n",
    "\n",
    "\n",
    "\n",
    "lr_roc = roc_auc_score(y_test, lr_pred)\n",
    "rf_roc = roc_auc_score(y_test, rf_pred)\n",
    "xgb_roc = roc_auc_score(y_test,xgb_pred)\n",
    "lgbm_roc = roc_auc_score(y_test, lgbm_pred)\n",
    "mlp_roc = roc_auc_score(y_test, mlp_pred)\n",
    "\n",
    "\n",
    "\n"
   ]
  },
  {
   "cell_type": "code",
   "execution_count": 34,
   "metadata": {},
   "outputs": [],
   "source": [
    "from sklearn.metrics import confusion_matrix\n",
    "\n",
    "def calc_ppv_npv (y_true, y_predict):\n",
    "    tn, fp, fn, tp = confusion_matrix(y_true, y_predict).ravel()\n",
    "    \n",
    "    result = {}\n",
    "    result['PPV'] = tp / (tp + fp)\n",
    "    result['NPV'] = tn / (tn + fn)\n",
    "    result['sensitivity'] = tp / (tp + fn)\n",
    "    result['specificity'] = tn / (tn + fp)\n",
    "\n",
    "    return result\n",
    "\n",
    "lr_ppv, lr_npv, lr_sensitivity, lr_specificity = calc_ppv_npv(y_test, lr_pred_exact).values()\n",
    "rf_ppv, rf_npv, rf_sensitivity, rf_specificity = calc_ppv_npv(y_test, rf_pred_exact).values()\n",
    "xgb_ppv, xgb_npv, xgb_sensitivity, xgb_specificity = calc_ppv_npv(y_test, xgb_pred_exact).values()\n",
    "lgbm_ppv, lgbm_npv, lgbm_sensitivity, lgbm_specificity = calc_ppv_npv(y_test, lgbm_pred_exact).values()\n",
    "mlp_ppv, mlp_npv, mlp_sensitivity, mlp_specificity = calc_ppv_npv(y_test, mlp_pred_exact).values()\n",
    "\n"
   ]
  },
  {
   "cell_type": "code",
   "execution_count": 37,
   "metadata": {},
   "outputs": [
    {
     "data": {
      "text/html": [
       "<div>\n",
       "<style scoped>\n",
       "    .dataframe tbody tr th:only-of-type {\n",
       "        vertical-align: middle;\n",
       "    }\n",
       "\n",
       "    .dataframe tbody tr th {\n",
       "        vertical-align: top;\n",
       "    }\n",
       "\n",
       "    .dataframe thead th {\n",
       "        text-align: right;\n",
       "    }\n",
       "</style>\n",
       "<table border=\"1\" class=\"dataframe\">\n",
       "  <thead>\n",
       "    <tr style=\"text-align: right;\">\n",
       "      <th></th>\n",
       "      <th>AUROC</th>\n",
       "      <th>AUPRC</th>\n",
       "      <th>Sensitivity</th>\n",
       "      <th>Specificity</th>\n",
       "      <th>PPV</th>\n",
       "      <th>NPV</th>\n",
       "      <th>F1</th>\n",
       "    </tr>\n",
       "  </thead>\n",
       "  <tbody>\n",
       "    <tr>\n",
       "      <th>LR</th>\n",
       "      <td>0.924221</td>\n",
       "      <td>0.884409</td>\n",
       "      <td>0.752518</td>\n",
       "      <td>0.963822</td>\n",
       "      <td>0.878254</td>\n",
       "      <td>0.918232</td>\n",
       "      <td>0.810539</td>\n",
       "    </tr>\n",
       "    <tr>\n",
       "      <th>RF</th>\n",
       "      <td>0.943241</td>\n",
       "      <td>0.911743</td>\n",
       "      <td>0.725899</td>\n",
       "      <td>0.996507</td>\n",
       "      <td>0.986315</td>\n",
       "      <td>0.912914</td>\n",
       "      <td>0.836303</td>\n",
       "    </tr>\n",
       "    <tr>\n",
       "      <th>XGB</th>\n",
       "      <td>0.946567</td>\n",
       "      <td>0.911976</td>\n",
       "      <td>0.743165</td>\n",
       "      <td>0.988772</td>\n",
       "      <td>0.958256</td>\n",
       "      <td>0.917361</td>\n",
       "      <td>0.837115</td>\n",
       "    </tr>\n",
       "    <tr>\n",
       "      <th>LGBM</th>\n",
       "      <td>0.952370</td>\n",
       "      <td>0.918682</td>\n",
       "      <td>0.741007</td>\n",
       "      <td>0.990768</td>\n",
       "      <td>0.965323</td>\n",
       "      <td>0.916878</td>\n",
       "      <td>0.838421</td>\n",
       "    </tr>\n",
       "    <tr>\n",
       "      <th>MLP</th>\n",
       "      <td>0.950716</td>\n",
       "      <td>0.916623</td>\n",
       "      <td>0.726619</td>\n",
       "      <td>0.995758</td>\n",
       "      <td>0.983447</td>\n",
       "      <td>0.913063</td>\n",
       "      <td>0.835747</td>\n",
       "    </tr>\n",
       "  </tbody>\n",
       "</table>\n",
       "</div>"
      ],
      "text/plain": [
       "         AUROC     AUPRC  Sensitivity  Specificity       PPV       NPV  \\\n",
       "LR    0.924221  0.884409     0.752518     0.963822  0.878254  0.918232   \n",
       "RF    0.943241  0.911743     0.725899     0.996507  0.986315  0.912914   \n",
       "XGB   0.946567  0.911976     0.743165     0.988772  0.958256  0.917361   \n",
       "LGBM  0.952370  0.918682     0.741007     0.990768  0.965323  0.916878   \n",
       "MLP   0.950716  0.916623     0.726619     0.995758  0.983447  0.913063   \n",
       "\n",
       "            F1  \n",
       "LR    0.810539  \n",
       "RF    0.836303  \n",
       "XGB   0.837115  \n",
       "LGBM  0.838421  \n",
       "MLP   0.835747  "
      ]
     },
     "execution_count": 37,
     "metadata": {},
     "output_type": "execute_result"
    }
   ],
   "source": [
    "auroc_list = [lr_roc, rf_roc, xgb_roc, lgbm_roc, mlp_roc]\n",
    "auprc_list = [lr_auprc, rf_auprc, xgb_auprc, lgbm_auprc, mlp_auprc]\n",
    "f1_list = [lr_f1, rf_f1, xgb_f1, lgbm_f1, mlp_f1]\n",
    "ppv_list = [lr_ppv, rf_ppv, xgb_ppv, lgbm_ppv, mlp_ppv]\n",
    "npv_list = [lr_npv, rf_npv, xgb_npv, lgbm_npv, mlp_npv]\n",
    "sensitivity_list = [lr_sensitivity, rf_sensitivity, xgb_sensitivity, lgbm_sensitivity, mlp_sensitivity]\n",
    "specificity_list = [lr_specificity, rf_specificity, xgb_specificity, lgbm_specificity, mlp_specificity]\n",
    "\n",
    "\n",
    "result = pd.DataFrame([auroc_list, auprc_list, sensitivity_list, specificity_list, ppv_list, npv_list, f1_list], \n",
    "                    index=['AUROC','AUPRC','Sensitivity','Specificity','PPV','NPV', 'F1'], \n",
    "                                columns=['LR','RF','XGB','LGBM','MLP']).T\n",
    "result"
   ]
  },
  {
   "cell_type": "markdown",
   "metadata": {},
   "source": [
    "### Cross Validation with Parameter Tuning"
   ]
  },
  {
   "cell_type": "markdown",
   "metadata": {},
   "source": [
    "#### 1. Logistic Regression"
   ]
  },
  {
   "cell_type": "code",
   "execution_count": 38,
   "metadata": {},
   "outputs": [],
   "source": [
    "from sklearn.model_selection import KFold, RandomizedSearchCV\n",
    "kf = KFold(random_state=7795, n_splits=5, shuffle=True)"
   ]
  },
  {
   "cell_type": "code",
   "execution_count": 39,
   "metadata": {},
   "outputs": [
    {
     "name": "stderr",
     "output_type": "stream",
     "text": [
      "C:\\Users\\user\\miniconda3\\envs\\mimic4\\lib\\site-packages\\sklearn\\model_selection\\_search.py:922: UserWarning: One or more of the test scores are non-finite: [0.93219062        nan 0.93234938 0.91869225        nan        nan\n",
      " 0.88145257 0.92814101 0.91877165        nan]\n",
      "  warnings.warn(\n"
     ]
    },
    {
     "name": "stdout",
     "output_type": "stream",
     "text": [
      "AUPRC of LR: 0.9173453253458751\n",
      "AUROC of LR: 0.9511873734545297\n",
      "F1 Score of LR: 0.8378043747420553\n",
      "{'tol': 0.0007000000000000001, 'solver': 'liblinear', 'penalty': 'l1', 'multi_class': 'auto', 'max_iter': 400, 'C': 4.33}\n"
     ]
    }
   ],
   "source": [
    "lr = LogisticRegression()\n",
    "lr_params = {\n",
    "    'penalty':['l1','l2','elasticnet','none'],\n",
    "    'C':np.arange(0, 5 ,0.01),\n",
    "    'max_iter': np.arange(100,500, 100),\n",
    "    'multi_class':['auto','ovr','multinomial'],\n",
    "    'solver':['newton-cg','lbfgs','liblinear','sag','saga'],\n",
    "    'tol': np.arange(1e-4, 1e-3, 0.0001)\n",
    "}\n",
    "\n",
    "from sklearn.metrics import plot_roc_curve, plot_precision_recall_curve, roc_curve\n",
    "RSCV_lr = RandomizedSearchCV(lr, lr_params, cv=kf, n_jobs=-1, random_state=7795).fit(x_train,y_train)\n",
    "RSCV_lr_pred = RSCV_lr.predict_proba(x_test)[:,1]\n",
    "RSCV_lr_pred_exac = RSCV_lr.predict(x_test)\n",
    "fpr_lr, tpr_lr, t = roc_curve(y_true=y_test, y_score = RSCV_lr_pred)\n",
    "precision_lr, recall_lr, th, = precision_recall_curve(y_true=y_test, probas_pred=RSCV_lr_pred)\n",
    "RSCV_lr_auprc = auc(recall_lr, precision_lr)\n",
    "RSCV_lr_auroc = roc_auc_score(y_test, RSCV_lr_pred)\n",
    "RSCV_lr_f1 = f1_score(y_test, RSCV_lr_pred_exac)\n",
    "print(f\"AUPRC of LR: {RSCV_lr_auprc}\")\n",
    "print(f\"AUROC of LR: {RSCV_lr_auroc}\")\n",
    "print(f\"F1 Score of LR: {RSCV_lr_f1}\")\n",
    "print(RSCV_lr.best_params_)"
   ]
  },
  {
   "cell_type": "markdown",
   "metadata": {},
   "source": [
    "#### Support Vector Machine"
   ]
  },
  {
   "cell_type": "code",
   "execution_count": 21,
   "metadata": {},
   "outputs": [
    {
     "data": {
      "text/plain": [
       "{'C': 1.0,\n",
       " 'break_ties': False,\n",
       " 'cache_size': 200,\n",
       " 'class_weight': None,\n",
       " 'coef0': 0.0,\n",
       " 'decision_function_shape': 'ovr',\n",
       " 'degree': 3,\n",
       " 'gamma': 'scale',\n",
       " 'kernel': 'linear',\n",
       " 'max_iter': -1,\n",
       " 'probability': False,\n",
       " 'random_state': None,\n",
       " 'shrinking': True,\n",
       " 'tol': 0.001,\n",
       " 'verbose': False}"
      ]
     },
     "execution_count": 21,
     "metadata": {},
     "output_type": "execute_result"
    }
   ],
   "source": [
    "from sklearn.svm import SVC\n",
    "svm = SVC(kernel='linear')\n",
    "svm.get_params()\n"
   ]
  },
  {
   "cell_type": "code",
   "execution_count": 22,
   "metadata": {},
   "outputs": [],
   "source": [
    "svm_params = {\n",
    "    'C':np.arange(0.0, 3.0 ,0.5),\n",
    "    'kernel' : ['linear','poly','rbf','sigmoid'],\n",
    "    'gamma' : ['sclae','auto'],\n",
    "    'decision_function_shape': ['ovo','ovr']\n",
    "}\n",
    "from sklearn.metrics import plot_roc_curve, plot_precision_recall_curve, roc_curve\n",
    "RSCV_svm = RandomizedSearchCV(svm, svm_params, cv=kf, n_jobs=-1, random_state=7795).fit(x_train,y_train)\n",
    "RSCV_svm_pred = RSCV_svm.predict_proba(x_test)[:,1]\n",
    "RSCV_svm_pred_exac = RSCV_svm.predict(x_test)\n",
    "fpr_svm, tpr_svm, t = roc_curve(y_true=y_test, y_score = RSCV_svm_pred)\n",
    "precision_svm, recall_svm, th, = precision_recall_curve(y_true=y_test, probas_pred=RSCV_svm_pred)\n",
    "RSCV_svm_auprc = auc(recall_svm, precision_svm)\n",
    "RSCV_svm_auroc = roc_auc_score(y_test, RSCV_svm_pred)\n",
    "RSCV_svm_f1 = f1_score(y_test, RSCV_svm_pred_exac)\n",
    "print(f\"AUPRC of svm: {RSCV_svm_auprc}\")\n",
    "print(f\"AUROC of svm: {RSCV_svm_auroc}\")\n",
    "print(f\"F1 Score of svm: {RSCV_svm_f1}\")\n",
    "print(RSCV_svm.best_params_)"
   ]
  },
  {
   "cell_type": "markdown",
   "metadata": {},
   "source": [
    "#### 2. Random Forest"
   ]
  },
  {
   "cell_type": "code",
   "execution_count": 40,
   "metadata": {},
   "outputs": [
    {
     "name": "stdout",
     "output_type": "stream",
     "text": [
      "AUPRC of RF: 0.9163004825244929\n",
      "AUROC of RF: 0.9481754117663952\n",
      "F1 score of RF: 0.8352013283520133\n"
     ]
    }
   ],
   "source": [
    "rf = RandomForestClassifier()\n",
    "rf_params = {\n",
    "    'n_estimators': np.arange(10,100,10),\n",
    "    'criterion':['gini','entropy'],\n",
    "    'max_depth':np.arange(10,100,10),\n",
    "    'min_samples_leaf': np.arange(1,10,1),\n",
    "    'min_samples_split': np.arange(2,10,2),\n",
    "    'max_features':['auto','sqrt','log2'],\n",
    "    # 'min_impurity_decrease':np.arange(-1,1,0.1),\n",
    "    # 'class_weight':['balanced','balanced_subsample'],\n",
    "    # 'ccp_alpha':np.arange(0,1,0.1),\n",
    "    # 'min_weight_fraction_leaf':np.arange(0,1,0.1)\n",
    "}\n",
    "\n",
    "RSCV_rf = RandomizedSearchCV(rf, rf_params, cv=kf, n_jobs=-1, random_state=7795).fit(x_train,y_train)\n",
    "RSCV_rf_pred = RSCV_rf.predict_proba(x_test)[:,1]\n",
    "RSCV_rf_pred_exac = RSCV_rf.predict(x_test)\n",
    "fpr_rf, tpr_rf, th = roc_curve(y_test ,RSCV_rf_pred)\n",
    "precision_rf, recall_rf, th, = precision_recall_curve(y_test, RSCV_rf_pred)\n",
    "\n",
    "\n",
    "RSCV_rf_auprc = auc(recall_rf, precision_rf)\n",
    "RSCV_rf_auroc = roc_auc_score(y_test, RSCV_rf_pred)\n",
    "RSCV_rf_f1 = f1_score(y_test ,RSCV_rf_pred_exac)\n",
    "\n",
    "print(f\"AUPRC of RF: {RSCV_rf_auprc}\")\n",
    "print(f\"AUROC of RF: {RSCV_rf_auroc}\")\n",
    "print(f\"F1 score of RF: {RSCV_rf_f1}\")"
   ]
  },
  {
   "cell_type": "markdown",
   "metadata": {},
   "source": [
    "#### 3. XGBoost"
   ]
  },
  {
   "cell_type": "code",
   "execution_count": 41,
   "metadata": {},
   "outputs": [
    {
     "name": "stdout",
     "output_type": "stream",
     "text": [
      "AUPRC of XGB: 0.919208632953823\n",
      "AUROC of XGB: 0.9514226941799855\n",
      "F1 Score of XGB: 0.8322981366459627\n"
     ]
    }
   ],
   "source": [
    "xgb = XGBClassifier()\n",
    "xgb_params = {\n",
    "    'booster':['gbtree'],\n",
    "    'n_estimators': np.arange(10,500,20),\n",
    "    'learning_rate': np.arange(1e-3,1e-2,1e-3),\n",
    "    'gamma':[0,1,2,3,4,5,6,7,8,9,10],\n",
    "    'min_child_weight':np.arange(5,20,5),\n",
    "    'objective':['binary:logistic'],\n",
    "    # 'max_depth': np.arange(10,100,10),\n",
    "    # 'booster':['gbtree','gblinear','dart'],\n",
    "    # 'tree_method':['gpu_hist','auto','exact','approx','hist'],\n",
    "    'use_label_encoder':[False],\n",
    "    # 'sampling_method':['uniform','gradient_based']\n",
    "}\n",
    "\n",
    "RSCV_xgb = RandomizedSearchCV(xgb, xgb_params, cv=kf, n_jobs=-1, random_state=7795).fit(x_train,y_train)\n",
    "RSCV_xgb_pred = RSCV_xgb.predict_proba(x_test)[:,1]\n",
    "RSCV_xgb_pred_exac = RSCV_xgb.predict(x_test)\n",
    "fpr_xgb, tpr_xgb, th = roc_curve(y_test ,RSCV_xgb_pred)\n",
    "precision_xgb, recall_xgb, th, = precision_recall_curve(y_test, RSCV_xgb_pred)\n",
    "\n",
    "\n",
    "RSCV_xgb_auprc = auc(recall_xgb, precision_xgb)\n",
    "RSCV_xgb_auroc = roc_auc_score(y_test, RSCV_xgb_pred)\n",
    "RSCV_xgb_f1 = f1_score(y_test, RSCV_xgb_pred_exac)\n",
    "\n",
    "print(f\"AUPRC of XGB: {RSCV_xgb_auprc}\")\n",
    "print(f\"AUROC of XGB: {RSCV_xgb_auroc}\")\n",
    "print(f\"F1 Score of XGB: {RSCV_xgb_f1}\")"
   ]
  },
  {
   "cell_type": "markdown",
   "metadata": {},
   "source": [
    "#### 4. LightGBM"
   ]
  },
  {
   "cell_type": "code",
   "execution_count": 42,
   "metadata": {},
   "outputs": [
    {
     "data": {
      "text/plain": [
       "{'boosting_type': 'gbdt',\n",
       " 'class_weight': None,\n",
       " 'colsample_bytree': 1.0,\n",
       " 'importance_type': 'split',\n",
       " 'learning_rate': 0.1,\n",
       " 'max_depth': -1,\n",
       " 'min_child_samples': 20,\n",
       " 'min_child_weight': 0.001,\n",
       " 'min_split_gain': 0.0,\n",
       " 'n_estimators': 100,\n",
       " 'n_jobs': -1,\n",
       " 'num_leaves': 31,\n",
       " 'objective': None,\n",
       " 'random_state': None,\n",
       " 'reg_alpha': 0.0,\n",
       " 'reg_lambda': 0.0,\n",
       " 'silent': 'warn',\n",
       " 'subsample': 1.0,\n",
       " 'subsample_for_bin': 200000,\n",
       " 'subsample_freq': 0}"
      ]
     },
     "execution_count": 42,
     "metadata": {},
     "output_type": "execute_result"
    }
   ],
   "source": [
    "lgbm.get_params()"
   ]
  },
  {
   "cell_type": "code",
   "execution_count": 43,
   "metadata": {},
   "outputs": [
    {
     "name": "stderr",
     "output_type": "stream",
     "text": [
      "C:\\Users\\user\\miniconda3\\envs\\mimic4\\lib\\site-packages\\sklearn\\model_selection\\_search.py:922: UserWarning: One or more of the test scores are non-finite: [0.92305913 0.91956505 0.92631467 0.92393252 0.93171417 0.93060234\n",
      "        nan        nan        nan 0.82714824]\n",
      "  warnings.warn(\n"
     ]
    },
    {
     "name": "stdout",
     "output_type": "stream",
     "text": [
      "[LightGBM] [Warning] min_data_in_leaf is set=50, min_child_samples=20 will be ignored. Current value: min_data_in_leaf=50\n",
      "AUPRC of LGBM: 0.9206730853299951\n",
      "AUROC of LGBM: 0.9540061962406122\n",
      "F1 Score of LGBM: 0.8351738241308794\n",
      "{'num_leaves': 110, 'n_estimators': 290, 'min_data_in_leaf': 50, 'min_child_weight': 0.006, 'metric': 'binary_logloss', 'max_depth': 10, 'learning_rate': 0.022, 'boosting_type': 'goss'}\n"
     ]
    }
   ],
   "source": [
    "lgbm = LGBMClassifier()\n",
    "lgbm_params = {\n",
    "    'boosting_type':['gbdt','rf','goss'],\n",
    "    'learning_rate':np.arange(0.0,1, 0.002),\n",
    "    'n_estimators': np.arange(10,300,20),\n",
    "    'min_child_weight': np.arange(0.001,0.01, 0.001),\n",
    "    # 'min_child_samples': np.arange(10,100,10),\n",
    "    'num_leaves': np.arange(10,200,10),\n",
    "    'max_depth': np.append(np.arange(10,100,10),-1),\n",
    "    'metric':['binary_logloss'],\n",
    "    'min_data_in_leaf':[20,50,100,150,200],\n",
    "    'num_leaves': np.arange(10,200,10),\n",
    "    # 'early_stopping_round': [30],\n",
    "    # 'num_iterations': [500]\n",
    "}\n",
    "\n",
    "\n",
    "RSCV_lgbm = RandomizedSearchCV(lgbm, lgbm_params, cv=kf, n_jobs=-1, random_state=7795).fit(x_train,y_train)\n",
    "RSCV_lgbm_pred = RSCV_lgbm.predict_proba(x_test)[:,1]\n",
    "RSCV_lgbm_pred_exac = RSCV_lgbm.predict(x_test)\n",
    "fpr_lgbm, tpr_lgbm, th = roc_curve(y_test ,RSCV_lgbm_pred)\n",
    "precision_lgbm, recall_lgbm, th, = precision_recall_curve(y_test, RSCV_lgbm_pred)\n",
    "RSCV_lgbm_auprc = auc(recall_lgbm, precision_lgbm)\n",
    "RSCV_lgbm_auroc = roc_auc_score(y_test, RSCV_lgbm_pred)\n",
    "RSCV_lgbm_f1 = f1_score(y_test, RSCV_lgbm_pred_exac)\n",
    "\n",
    "print(f\"AUPRC of LGBM: {RSCV_lgbm_auprc}\")\n",
    "print(f\"AUROC of LGBM: {RSCV_lgbm_auroc}\")\n",
    "print(f\"F1 Score of LGBM: {RSCV_lgbm_f1}\")\n",
    "print(RSCV_lgbm.best_params_)"
   ]
  },
  {
   "cell_type": "markdown",
   "metadata": {},
   "source": [
    "#### 5. MLPClassifier"
   ]
  },
  {
   "cell_type": "code",
   "execution_count": 44,
   "metadata": {},
   "outputs": [
    {
     "name": "stdout",
     "output_type": "stream",
     "text": [
      "AUPRC of mlp: 0.8973094705133369\n",
      "AUROC of mlp: 0.9317008070190554\n",
      "F1 Score of mlp: 0.8275862068965517\n",
      "{'solver': 'lbfgs', 'n_iter_no_change': 20, 'momentum': 0.7, 'max_iter': 400, 'learning_rate_init': 1e-05, 'learning_rate': 'adaptive', 'hidden_layer_sizes': (100, 50, 50), 'early_stopping': True, 'batch_size': 100, 'alpha': 0.00016, 'activation': 'relu'}\n"
     ]
    },
    {
     "name": "stderr",
     "output_type": "stream",
     "text": [
      "C:\\Users\\user\\miniconda3\\envs\\mimic4\\lib\\site-packages\\sklearn\\neural_network\\_multilayer_perceptron.py:500: ConvergenceWarning: lbfgs failed to converge (status=1):\n",
      "STOP: TOTAL NO. of ITERATIONS REACHED LIMIT.\n",
      "\n",
      "Increase the number of iterations (max_iter) or scale the data as shown in:\n",
      "    https://scikit-learn.org/stable/modules/preprocessing.html\n",
      "  self.n_iter_ = _check_optimize_result(\"lbfgs\", opt_res, self.max_iter)\n"
     ]
    }
   ],
   "source": [
    "from sklearn.neural_network import MLPClassifier\n",
    "MLPClassifier._get_param_names()\n",
    "\n",
    "mlp = MLPClassifier()\n",
    "mlp_params = {\n",
    "    'hidden_layer_sizes':[(100,50,30),(100,50,50),(100,100,30),(100,100,50),(100,100,100)],\n",
    "    'activation':['identity','logistic','tanh','relu'],\n",
    "    'solver' : ['lbfgs','sgd','adam'],\n",
    "    'alpha': np.arange(1e-5, 1e-3, 5e-5),\n",
    "    'batch_size':np.arange(50,300, 50),\n",
    "    'learning_rate' : ['constant','invscaling','adaptive'],\n",
    "    'learning_rate_init':np.arange(1e-5, 1e-4,1e-1),\n",
    "    'momentum' : np.arange(0.5,0.9,0.1),\n",
    "    'early_stopping': [True],\n",
    "    'n_iter_no_change': [20],\n",
    "    'max_iter':np.arange(100,500,100)\n",
    "}\n",
    "\n",
    "\n",
    "RSCV_mlp = RandomizedSearchCV(mlp, mlp_params, cv=kf, n_jobs=-1, random_state=7795).fit(x_train,y_train)\n",
    "RSCV_mlp_pred = RSCV_mlp.predict_proba(x_test)[:,1]\n",
    "RSCV_mlp_pred_exac = RSCV_mlp.predict(x_test)\n",
    "fpr_mlp, tpr_mlp, th = roc_curve(y_test ,RSCV_mlp_pred)\n",
    "precision_mlp, recall_mlp, th, = precision_recall_curve(y_test, RSCV_mlp_pred)\n",
    "RSCV_mlp_auprc = auc(recall_mlp, precision_mlp)\n",
    "RSCV_mlp_auroc = roc_auc_score(y_test, RSCV_mlp_pred)\n",
    "RSCV_mlp_f1 = f1_score(y_test, RSCV_mlp_pred_exac)\n",
    "\n",
    "print(f\"AUPRC of mlp: {RSCV_mlp_auprc}\")\n",
    "print(f\"AUROC of mlp: {RSCV_mlp_auroc}\")\n",
    "print(f\"F1 Score of mlp: {RSCV_mlp_f1}\")\n",
    "print(RSCV_mlp.best_params_)\n"
   ]
  },
  {
   "cell_type": "markdown",
   "metadata": {},
   "source": [
    "### Performance scores"
   ]
  },
  {
   "cell_type": "code",
   "execution_count": 49,
   "metadata": {},
   "outputs": [
    {
     "data": {
      "text/html": [
       "<div>\n",
       "<style scoped>\n",
       "    .dataframe tbody tr th:only-of-type {\n",
       "        vertical-align: middle;\n",
       "    }\n",
       "\n",
       "    .dataframe tbody tr th {\n",
       "        vertical-align: top;\n",
       "    }\n",
       "\n",
       "    .dataframe thead th {\n",
       "        text-align: right;\n",
       "    }\n",
       "</style>\n",
       "<table border=\"1\" class=\"dataframe\">\n",
       "  <thead>\n",
       "    <tr style=\"text-align: right;\">\n",
       "      <th></th>\n",
       "      <th>AUROC</th>\n",
       "      <th>AUPRC</th>\n",
       "      <th>Sensitivity</th>\n",
       "      <th>Specificity</th>\n",
       "      <th>PPV</th>\n",
       "      <th>NPV</th>\n",
       "      <th>F1</th>\n",
       "    </tr>\n",
       "  </thead>\n",
       "  <tbody>\n",
       "    <tr>\n",
       "      <th>LR</th>\n",
       "      <td>0.924221</td>\n",
       "      <td>0.884409</td>\n",
       "      <td>0.752518</td>\n",
       "      <td>0.963822</td>\n",
       "      <td>0.878254</td>\n",
       "      <td>0.918232</td>\n",
       "      <td>0.810539</td>\n",
       "    </tr>\n",
       "    <tr>\n",
       "      <th>RF</th>\n",
       "      <td>0.943241</td>\n",
       "      <td>0.911743</td>\n",
       "      <td>0.725899</td>\n",
       "      <td>0.996507</td>\n",
       "      <td>0.986315</td>\n",
       "      <td>0.912914</td>\n",
       "      <td>0.836303</td>\n",
       "    </tr>\n",
       "    <tr>\n",
       "      <th>XGB</th>\n",
       "      <td>0.946567</td>\n",
       "      <td>0.911976</td>\n",
       "      <td>0.743165</td>\n",
       "      <td>0.988772</td>\n",
       "      <td>0.958256</td>\n",
       "      <td>0.917361</td>\n",
       "      <td>0.837115</td>\n",
       "    </tr>\n",
       "    <tr>\n",
       "      <th>LGBM</th>\n",
       "      <td>0.952370</td>\n",
       "      <td>0.918682</td>\n",
       "      <td>0.741007</td>\n",
       "      <td>0.990768</td>\n",
       "      <td>0.965323</td>\n",
       "      <td>0.916878</td>\n",
       "      <td>0.838421</td>\n",
       "    </tr>\n",
       "    <tr>\n",
       "      <th>MLP</th>\n",
       "      <td>0.950716</td>\n",
       "      <td>0.916623</td>\n",
       "      <td>0.726619</td>\n",
       "      <td>0.995758</td>\n",
       "      <td>0.983447</td>\n",
       "      <td>0.913063</td>\n",
       "      <td>0.835747</td>\n",
       "    </tr>\n",
       "  </tbody>\n",
       "</table>\n",
       "</div>"
      ],
      "text/plain": [
       "         AUROC     AUPRC  Sensitivity  Specificity       PPV       NPV  \\\n",
       "LR    0.924221  0.884409     0.752518     0.963822  0.878254  0.918232   \n",
       "RF    0.943241  0.911743     0.725899     0.996507  0.986315  0.912914   \n",
       "XGB   0.946567  0.911976     0.743165     0.988772  0.958256  0.917361   \n",
       "LGBM  0.952370  0.918682     0.741007     0.990768  0.965323  0.916878   \n",
       "MLP   0.950716  0.916623     0.726619     0.995758  0.983447  0.913063   \n",
       "\n",
       "            F1  \n",
       "LR    0.810539  \n",
       "RF    0.836303  \n",
       "XGB   0.837115  \n",
       "LGBM  0.838421  \n",
       "MLP   0.835747  "
      ]
     },
     "execution_count": 49,
     "metadata": {},
     "output_type": "execute_result"
    }
   ],
   "source": [
    "lr_ppv, lr_npv, lr_sensitivity, lr_specificity = calc_ppv_npv(y_test, RSCV_lr_pred_exac).values()\n",
    "rf_ppv, rf_npv, rf_sensitivity, rf_specificity = calc_ppv_npv(y_test, RSCV_rf_pred_exac).values()\n",
    "xgb_ppv, xgb_npv, xgb_sensitivity, xgb_specificity = calc_ppv_npv(y_test, RSCV_xgb_pred_exac).values()\n",
    "lgbm_ppv, lgbm_npv, lgbm_sensitivity, lgbm_specificity = calc_ppv_npv(y_test, RSCV_lgbm_pred_exac).values()\n",
    "mlp_ppv, mlp_npv, mlp_sensitivity, mlp_specificity = calc_ppv_npv(y_test, RSCV_mlp_pred_exac).values()\n",
    "\n",
    "auprc = [RSCV_lr_auprc, RSCV_rf_auprc, RSCV_xgb_auprc, RSCV_lgbm_auprc,RSCV_mlp_auprc]\n",
    "auroc = [RSCV_lr_auroc, RSCV_rf_auroc, RSCV_xgb_auroc, RSCV_lgbm_auroc, RSCV_mlp_auroc]\n",
    "f1 = [RSCV_lr_f1, RSCV_rf_f1, RSCV_xgb_f1, RSCV_lgbm_f1, RSCV_mlp_f1]\n",
    "ppv = [lr_ppv, rf_ppv, xgb_ppv, lgbm_ppv, mlp_ppv]\n",
    "npv = [lr_npv, rf_npv, xgb_npv, lgbm_npv, mlp_npv]\n",
    "sensitivity = [lr_sensitivity, rf_sensitivity, xgb_sensitivity, lgbm_sensitivity, mlp_sensitivity]\n",
    "specificity = [lr_specificity, rf_specificity, xgb_specificity, lgbm_specificity, mlp_specificity]\n",
    "\n",
    "\n",
    "result_rscv = pd.DataFrame([auroc, auprc, sensitivity, specificity, ppv, npv, f1], \n",
    "                    index=['AUROC','AUPRC','Sensitivity','Specificity','PPV','NPV', 'F1'], \n",
    "                                columns=['LR','RF','XGB','LGBM','MLP']).T\n",
    "\n",
    "\n",
    "result\n",
    "\n"
   ]
  },
  {
   "cell_type": "code",
   "execution_count": 50,
   "metadata": {},
   "outputs": [
    {
     "data": {
      "text/html": [
       "<div>\n",
       "<style scoped>\n",
       "    .dataframe tbody tr th:only-of-type {\n",
       "        vertical-align: middle;\n",
       "    }\n",
       "\n",
       "    .dataframe tbody tr th {\n",
       "        vertical-align: top;\n",
       "    }\n",
       "\n",
       "    .dataframe thead th {\n",
       "        text-align: right;\n",
       "    }\n",
       "</style>\n",
       "<table border=\"1\" class=\"dataframe\">\n",
       "  <thead>\n",
       "    <tr style=\"text-align: right;\">\n",
       "      <th></th>\n",
       "      <th>AUROC</th>\n",
       "      <th>AUPRC</th>\n",
       "      <th>Sensitivity</th>\n",
       "      <th>Specificity</th>\n",
       "      <th>PPV</th>\n",
       "      <th>NPV</th>\n",
       "      <th>F1</th>\n",
       "    </tr>\n",
       "  </thead>\n",
       "  <tbody>\n",
       "    <tr>\n",
       "      <th>LR</th>\n",
       "      <td>0.951187</td>\n",
       "      <td>0.917345</td>\n",
       "      <td>0.730216</td>\n",
       "      <td>0.995509</td>\n",
       "      <td>0.982575</td>\n",
       "      <td>0.914089</td>\n",
       "      <td>0.837804</td>\n",
       "    </tr>\n",
       "    <tr>\n",
       "      <th>RF</th>\n",
       "      <td>0.948175</td>\n",
       "      <td>0.916300</td>\n",
       "      <td>0.723741</td>\n",
       "      <td>0.996756</td>\n",
       "      <td>0.987242</td>\n",
       "      <td>0.912309</td>\n",
       "      <td>0.835201</td>\n",
       "    </tr>\n",
       "    <tr>\n",
       "      <th>XGB</th>\n",
       "      <td>0.951423</td>\n",
       "      <td>0.919209</td>\n",
       "      <td>0.723022</td>\n",
       "      <td>0.995010</td>\n",
       "      <td>0.980488</td>\n",
       "      <td>0.911960</td>\n",
       "      <td>0.832298</td>\n",
       "    </tr>\n",
       "    <tr>\n",
       "      <th>LGBM</th>\n",
       "      <td>0.954006</td>\n",
       "      <td>0.920673</td>\n",
       "      <td>0.734532</td>\n",
       "      <td>0.991517</td>\n",
       "      <td>0.967773</td>\n",
       "      <td>0.915036</td>\n",
       "      <td>0.835174</td>\n",
       "    </tr>\n",
       "    <tr>\n",
       "      <th>MLP</th>\n",
       "      <td>0.931701</td>\n",
       "      <td>0.897309</td>\n",
       "      <td>0.733813</td>\n",
       "      <td>0.986277</td>\n",
       "      <td>0.948837</td>\n",
       "      <td>0.914411</td>\n",
       "      <td>0.827586</td>\n",
       "    </tr>\n",
       "  </tbody>\n",
       "</table>\n",
       "</div>"
      ],
      "text/plain": [
       "         AUROC     AUPRC  Sensitivity  Specificity       PPV       NPV  \\\n",
       "LR    0.951187  0.917345     0.730216     0.995509  0.982575  0.914089   \n",
       "RF    0.948175  0.916300     0.723741     0.996756  0.987242  0.912309   \n",
       "XGB   0.951423  0.919209     0.723022     0.995010  0.980488  0.911960   \n",
       "LGBM  0.954006  0.920673     0.734532     0.991517  0.967773  0.915036   \n",
       "MLP   0.931701  0.897309     0.733813     0.986277  0.948837  0.914411   \n",
       "\n",
       "            F1  \n",
       "LR    0.837804  \n",
       "RF    0.835201  \n",
       "XGB   0.832298  \n",
       "LGBM  0.835174  \n",
       "MLP   0.827586  "
      ]
     },
     "execution_count": 50,
     "metadata": {},
     "output_type": "execute_result"
    }
   ],
   "source": [
    "result_rscv"
   ]
  },
  {
   "cell_type": "markdown",
   "metadata": {},
   "source": [
    "### ROC Curve"
   ]
  },
  {
   "cell_type": "code",
   "execution_count": 52,
   "metadata": {},
   "outputs": [
    {
     "data": {
      "image/png": "[encoded data removed]",
      "text/plain": [
       "<Figure size 432x288 with 1 Axes>"
      ]
     },
     "metadata": {
      "needs_background": "light"
     },
     "output_type": "display_data"
    }
   ],
   "source": [
    "import matplotlib.pyplot as plt\n",
    "\n",
    "# fig, ax = plt.subplots()\n",
    "# line = mlines.Line2D([0,1],[0,1], color='black', linestyle='--')\n",
    "\n",
    "# plt.plot(precision, recall)\n",
    "plt.plot(fpr_lr, tpr_lr, color='red', label='Logistic Regression')\n",
    "plt.plot(fpr_rf, tpr_rf, color='blue',label='Random Forest')\n",
    "plt.plot(fpr_xgb, tpr_xgb, color='green',label='XGBoost')\n",
    "plt.plot(fpr_lgbm, tpr_lgbm, color='orange',label='LightGBM')\n",
    "plt.plot(fpr_mlp, tpr_mlp, color='pink',label='MLP')\n",
    "plt.plot([0,1],[0,1], color='k',linestyle='--')\n",
    "plt.legend()\n",
    "plt.show()\n",
    "# plot_precision_recall_curve(RSCV_lr, x_test, y_test)\n",
    "\n"
   ]
  },
  {
   "cell_type": "markdown",
   "metadata": {},
   "source": [
    "### PRC Curve"
   ]
  },
  {
   "cell_type": "code",
   "execution_count": 53,
   "metadata": {},
   "outputs": [
    {
     "data": {
      "image/png": "[encoded data removed]",
      "text/plain": [
       "<Figure size 432x288 with 1 Axes>"
      ]
     },
     "metadata": {
      "needs_background": "light"
     },
     "output_type": "display_data"
    }
   ],
   "source": [
    "plt.plot(recall_lr, precision_lr, color='red', label='Logistic Regression')\n",
    "plt.plot(recall_rf, precision_rf, color='blue',label='RandomForest')\n",
    "plt.plot(recall_xgb, precision_xgb, color='green',label='XGBoost')\n",
    "plt.plot(recall_lgbm, precision_lgbm, color='orange',label='LightGBM')\n",
    "plt.plot(recall_mlp, precision_mlp, color='pink',label='MLP')\n",
    "no_skill = len(y_test[y_test==1]) / len(y_test)\n",
    "plt.plot([0,1],[no_skill,no_skill], linestyle='--')\n",
    "plt.xlabel('Recall')\n",
    "plt.ylabel('Precision')\n",
    "plt.legend()\n",
    "plt.show()"
   ]
  },
  {
   "cell_type": "code",
   "execution_count": 359,
   "metadata": {},
   "outputs": [
    {
     "data": {
      "text/html": [
       "<div>\n",
       "<style scoped>\n",
       "    .dataframe tbody tr th:only-of-type {\n",
       "        vertical-align: middle;\n",
       "    }\n",
       "\n",
       "    .dataframe tbody tr th {\n",
       "        vertical-align: top;\n",
       "    }\n",
       "\n",
       "    .dataframe thead th {\n",
       "        text-align: right;\n",
       "    }\n",
       "</style>\n",
       "<table border=\"1\" class=\"dataframe\">\n",
       "  <thead>\n",
       "    <tr style=\"text-align: right;\">\n",
       "      <th></th>\n",
       "      <th>mean_fit_time</th>\n",
       "      <th>std_fit_time</th>\n",
       "      <th>mean_score_time</th>\n",
       "      <th>std_score_time</th>\n",
       "      <th>param_tol</th>\n",
       "      <th>param_solver</th>\n",
       "      <th>param_penalty</th>\n",
       "      <th>param_multi_class</th>\n",
       "      <th>param_max_iter</th>\n",
       "      <th>param_C</th>\n",
       "      <th>params</th>\n",
       "      <th>split0_test_score</th>\n",
       "      <th>split1_test_score</th>\n",
       "      <th>split2_test_score</th>\n",
       "      <th>split3_test_score</th>\n",
       "      <th>split4_test_score</th>\n",
       "      <th>mean_test_score</th>\n",
       "      <th>std_test_score</th>\n",
       "      <th>rank_test_score</th>\n",
       "    </tr>\n",
       "  </thead>\n",
       "  <tbody>\n",
       "    <tr>\n",
       "      <th>0</th>\n",
       "      <td>0.002603</td>\n",
       "      <td>0.000491</td>\n",
       "      <td>0.000000</td>\n",
       "      <td>0.000000</td>\n",
       "      <td>0.0006</td>\n",
       "      <td>liblinear</td>\n",
       "      <td>none</td>\n",
       "      <td>ovr</td>\n",
       "      <td>100</td>\n",
       "      <td>0.9</td>\n",
       "      <td>{'tol': 0.0006000000000000001, 'solver': 'libl...</td>\n",
       "      <td>NaN</td>\n",
       "      <td>NaN</td>\n",
       "      <td>NaN</td>\n",
       "      <td>NaN</td>\n",
       "      <td>NaN</td>\n",
       "      <td>NaN</td>\n",
       "      <td>NaN</td>\n",
       "      <td>7</td>\n",
       "    </tr>\n",
       "    <tr>\n",
       "      <th>1</th>\n",
       "      <td>2.611623</td>\n",
       "      <td>0.265417</td>\n",
       "      <td>0.001400</td>\n",
       "      <td>0.000490</td>\n",
       "      <td>0.0002</td>\n",
       "      <td>newton-cg</td>\n",
       "      <td>none</td>\n",
       "      <td>ovr</td>\n",
       "      <td>200</td>\n",
       "      <td>0.0</td>\n",
       "      <td>{'tol': 0.0002, 'solver': 'newton-cg', 'penalt...</td>\n",
       "      <td>0.925367</td>\n",
       "      <td>0.930528</td>\n",
       "      <td>0.933307</td>\n",
       "      <td>0.930925</td>\n",
       "      <td>0.940429</td>\n",
       "      <td>0.932111</td>\n",
       "      <td>0.004899</td>\n",
       "      <td>2</td>\n",
       "    </tr>\n",
       "    <tr>\n",
       "      <th>2</th>\n",
       "      <td>0.005799</td>\n",
       "      <td>0.000979</td>\n",
       "      <td>0.000000</td>\n",
       "      <td>0.000000</td>\n",
       "      <td>0.0001</td>\n",
       "      <td>newton-cg</td>\n",
       "      <td>l1</td>\n",
       "      <td>auto</td>\n",
       "      <td>200</td>\n",
       "      <td>0.9</td>\n",
       "      <td>{'tol': 0.0001, 'solver': 'newton-cg', 'penalt...</td>\n",
       "      <td>NaN</td>\n",
       "      <td>NaN</td>\n",
       "      <td>NaN</td>\n",
       "      <td>NaN</td>\n",
       "      <td>NaN</td>\n",
       "      <td>NaN</td>\n",
       "      <td>NaN</td>\n",
       "      <td>8</td>\n",
       "    </tr>\n",
       "    <tr>\n",
       "      <th>3</th>\n",
       "      <td>0.801317</td>\n",
       "      <td>0.023296</td>\n",
       "      <td>0.002399</td>\n",
       "      <td>0.000488</td>\n",
       "      <td>0.0003</td>\n",
       "      <td>saga</td>\n",
       "      <td>none</td>\n",
       "      <td>ovr</td>\n",
       "      <td>100</td>\n",
       "      <td>0.2</td>\n",
       "      <td>{'tol': 0.00030000000000000003, 'solver': 'sag...</td>\n",
       "      <td>0.741961</td>\n",
       "      <td>0.755062</td>\n",
       "      <td>0.764192</td>\n",
       "      <td>0.747122</td>\n",
       "      <td>0.768864</td>\n",
       "      <td>0.755440</td>\n",
       "      <td>0.010078</td>\n",
       "      <td>5</td>\n",
       "    </tr>\n",
       "    <tr>\n",
       "      <th>4</th>\n",
       "      <td>0.007600</td>\n",
       "      <td>0.002416</td>\n",
       "      <td>0.000000</td>\n",
       "      <td>0.000000</td>\n",
       "      <td>0.0007</td>\n",
       "      <td>sag</td>\n",
       "      <td>elasticnet</td>\n",
       "      <td>auto</td>\n",
       "      <td>200</td>\n",
       "      <td>0.8</td>\n",
       "      <td>{'tol': 0.0007000000000000001, 'solver': 'sag'...</td>\n",
       "      <td>NaN</td>\n",
       "      <td>NaN</td>\n",
       "      <td>NaN</td>\n",
       "      <td>NaN</td>\n",
       "      <td>NaN</td>\n",
       "      <td>NaN</td>\n",
       "      <td>NaN</td>\n",
       "      <td>9</td>\n",
       "    </tr>\n",
       "    <tr>\n",
       "      <th>5</th>\n",
       "      <td>0.005799</td>\n",
       "      <td>0.000980</td>\n",
       "      <td>0.000000</td>\n",
       "      <td>0.000000</td>\n",
       "      <td>0.0002</td>\n",
       "      <td>newton-cg</td>\n",
       "      <td>elasticnet</td>\n",
       "      <td>ovr</td>\n",
       "      <td>400</td>\n",
       "      <td>0.1</td>\n",
       "      <td>{'tol': 0.0002, 'solver': 'newton-cg', 'penalt...</td>\n",
       "      <td>NaN</td>\n",
       "      <td>NaN</td>\n",
       "      <td>NaN</td>\n",
       "      <td>NaN</td>\n",
       "      <td>NaN</td>\n",
       "      <td>NaN</td>\n",
       "      <td>NaN</td>\n",
       "      <td>10</td>\n",
       "    </tr>\n",
       "    <tr>\n",
       "      <th>6</th>\n",
       "      <td>0.494732</td>\n",
       "      <td>0.326272</td>\n",
       "      <td>0.002798</td>\n",
       "      <td>0.000399</td>\n",
       "      <td>0.0007</td>\n",
       "      <td>liblinear</td>\n",
       "      <td>l1</td>\n",
       "      <td>ovr</td>\n",
       "      <td>400</td>\n",
       "      <td>0.5</td>\n",
       "      <td>{'tol': 0.0007000000000000001, 'solver': 'libl...</td>\n",
       "      <td>0.926558</td>\n",
       "      <td>0.930131</td>\n",
       "      <td>0.933704</td>\n",
       "      <td>0.930925</td>\n",
       "      <td>0.941223</td>\n",
       "      <td>0.932508</td>\n",
       "      <td>0.004918</td>\n",
       "      <td>1</td>\n",
       "    </tr>\n",
       "    <tr>\n",
       "      <th>7</th>\n",
       "      <td>2.159988</td>\n",
       "      <td>0.039577</td>\n",
       "      <td>0.002000</td>\n",
       "      <td>0.000633</td>\n",
       "      <td>0.0009</td>\n",
       "      <td>sag</td>\n",
       "      <td>l2</td>\n",
       "      <td>auto</td>\n",
       "      <td>400</td>\n",
       "      <td>0.6</td>\n",
       "      <td>{'tol': 0.0009000000000000001, 'solver': 'sag'...</td>\n",
       "      <td>0.770544</td>\n",
       "      <td>0.776896</td>\n",
       "      <td>0.783247</td>\n",
       "      <td>0.774117</td>\n",
       "      <td>0.830024</td>\n",
       "      <td>0.786965</td>\n",
       "      <td>0.021927</td>\n",
       "      <td>3</td>\n",
       "    </tr>\n",
       "    <tr>\n",
       "      <th>8</th>\n",
       "      <td>0.034006</td>\n",
       "      <td>0.002098</td>\n",
       "      <td>0.002802</td>\n",
       "      <td>0.000743</td>\n",
       "      <td>0.0007</td>\n",
       "      <td>saga</td>\n",
       "      <td>l1</td>\n",
       "      <td>multinomial</td>\n",
       "      <td>300</td>\n",
       "      <td>0.0</td>\n",
       "      <td>{'tol': 0.0007000000000000001, 'solver': 'saga...</td>\n",
       "      <td>0.737594</td>\n",
       "      <td>0.743946</td>\n",
       "      <td>0.755855</td>\n",
       "      <td>0.734418</td>\n",
       "      <td>0.755759</td>\n",
       "      <td>0.745515</td>\n",
       "      <td>0.008946</td>\n",
       "      <td>6</td>\n",
       "    </tr>\n",
       "    <tr>\n",
       "      <th>9</th>\n",
       "      <td>2.297581</td>\n",
       "      <td>0.070180</td>\n",
       "      <td>0.001600</td>\n",
       "      <td>0.000490</td>\n",
       "      <td>0.0003</td>\n",
       "      <td>saga</td>\n",
       "      <td>l1</td>\n",
       "      <td>auto</td>\n",
       "      <td>300</td>\n",
       "      <td>0.9</td>\n",
       "      <td>{'tol': 0.00030000000000000003, 'solver': 'sag...</td>\n",
       "      <td>0.750695</td>\n",
       "      <td>0.760222</td>\n",
       "      <td>0.765780</td>\n",
       "      <td>0.754665</td>\n",
       "      <td>0.785941</td>\n",
       "      <td>0.763461</td>\n",
       "      <td>0.012342</td>\n",
       "      <td>4</td>\n",
       "    </tr>\n",
       "  </tbody>\n",
       "</table>\n",
       "</div>"
      ],
      "text/plain": [
       "   mean_fit_time  std_fit_time  mean_score_time  std_score_time param_tol  \\\n",
       "0       0.002603      0.000491         0.000000        0.000000    0.0006   \n",
       "1       2.611623      0.265417         0.001400        0.000490    0.0002   \n",
       "2       0.005799      0.000979         0.000000        0.000000    0.0001   \n",
       "3       0.801317      0.023296         0.002399        0.000488    0.0003   \n",
       "4       0.007600      0.002416         0.000000        0.000000    0.0007   \n",
       "5       0.005799      0.000980         0.000000        0.000000    0.0002   \n",
       "6       0.494732      0.326272         0.002798        0.000399    0.0007   \n",
       "7       2.159988      0.039577         0.002000        0.000633    0.0009   \n",
       "8       0.034006      0.002098         0.002802        0.000743    0.0007   \n",
       "9       2.297581      0.070180         0.001600        0.000490    0.0003   \n",
       "\n",
       "  param_solver param_penalty param_multi_class param_max_iter param_C  \\\n",
       "0    liblinear          none               ovr            100     0.9   \n",
       "1    newton-cg          none               ovr            200     0.0   \n",
       "2    newton-cg            l1              auto            200     0.9   \n",
       "3         saga          none               ovr            100     0.2   \n",
       "4          sag    elasticnet              auto            200     0.8   \n",
       "5    newton-cg    elasticnet               ovr            400     0.1   \n",
       "6    liblinear            l1               ovr            400     0.5   \n",
       "7          sag            l2              auto            400     0.6   \n",
       "8         saga            l1       multinomial            300     0.0   \n",
       "9         saga            l1              auto            300     0.9   \n",
       "\n",
       "                                              params  split0_test_score  \\\n",
       "0  {'tol': 0.0006000000000000001, 'solver': 'libl...                NaN   \n",
       "1  {'tol': 0.0002, 'solver': 'newton-cg', 'penalt...           0.925367   \n",
       "2  {'tol': 0.0001, 'solver': 'newton-cg', 'penalt...                NaN   \n",
       "3  {'tol': 0.00030000000000000003, 'solver': 'sag...           0.741961   \n",
       "4  {'tol': 0.0007000000000000001, 'solver': 'sag'...                NaN   \n",
       "5  {'tol': 0.0002, 'solver': 'newton-cg', 'penalt...                NaN   \n",
       "6  {'tol': 0.0007000000000000001, 'solver': 'libl...           0.926558   \n",
       "7  {'tol': 0.0009000000000000001, 'solver': 'sag'...           0.770544   \n",
       "8  {'tol': 0.0007000000000000001, 'solver': 'saga...           0.737594   \n",
       "9  {'tol': 0.00030000000000000003, 'solver': 'sag...           0.750695   \n",
       "\n",
       "   split1_test_score  split2_test_score  split3_test_score  split4_test_score  \\\n",
       "0                NaN                NaN                NaN                NaN   \n",
       "1           0.930528           0.933307           0.930925           0.940429   \n",
       "2                NaN                NaN                NaN                NaN   \n",
       "3           0.755062           0.764192           0.747122           0.768864   \n",
       "4                NaN                NaN                NaN                NaN   \n",
       "5                NaN                NaN                NaN                NaN   \n",
       "6           0.930131           0.933704           0.930925           0.941223   \n",
       "7           0.776896           0.783247           0.774117           0.830024   \n",
       "8           0.743946           0.755855           0.734418           0.755759   \n",
       "9           0.760222           0.765780           0.754665           0.785941   \n",
       "\n",
       "   mean_test_score  std_test_score  rank_test_score  \n",
       "0              NaN             NaN                7  \n",
       "1         0.932111        0.004899                2  \n",
       "2              NaN             NaN                8  \n",
       "3         0.755440        0.010078                5  \n",
       "4              NaN             NaN                9  \n",
       "5              NaN             NaN               10  \n",
       "6         0.932508        0.004918                1  \n",
       "7         0.786965        0.021927                3  \n",
       "8         0.745515        0.008946                6  \n",
       "9         0.763461        0.012342                4  "
      ]
     },
     "execution_count": 359,
     "metadata": {},
     "output_type": "execute_result"
    }
   ],
   "source": [
    "# pd.DataFrame(RSCV_lr.cv_results_)"
   ]
  },
  {
   "cell_type": "markdown",
   "metadata": {},
   "source": [
    "### Confusion Matrix"
   ]
  },
  {
   "cell_type": "code",
   "execution_count": 333,
   "metadata": {},
   "outputs": [],
   "source": [
    "lr_pred_exact = np.argmax(lr.predict_proba(x_test),axis=1)\n",
    "rf_pred_exact = np.argmax(rf.predict_proba(x_test),axis=1)\n",
    "xgb_pred_exact= np.argmax(xgb.predict_proba(x_test),axis=1)\n",
    "lgbm_pred_exact = np.argmax(lgbm.predict_proba(x_test),axis=1)"
   ]
  },
  {
   "cell_type": "code",
   "execution_count": 342,
   "metadata": {},
   "outputs": [
    {
     "data": {
      "text/plain": [
       "<sklearn.metrics._plot.confusion_matrix.ConfusionMatrixDisplay at 0x19c2da824c0>"
      ]
     },
     "execution_count": 342,
     "metadata": {},
     "output_type": "execute_result"
    },
    {
     "data": {
      "image/png": "[encoded data removed]",
      "text/plain": [
       "<Figure size 432x288 with 2 Axes>"
      ]
     },
     "metadata": {
      "needs_background": "light"
     },
     "output_type": "display_data"
    },
    {
     "data": {
      "image/png": "[encoded data removed]",
      "text/plain": [
       "<Figure size 432x288 with 2 Axes>"
      ]
     },
     "metadata": {
      "needs_background": "light"
     },
     "output_type": "display_data"
    },
    {
     "data": {
      "image/png": "[encoded data removed]",
      "text/plain": [
       "<Figure size 432x288 with 2 Axes>"
      ]
     },
     "metadata": {
      "needs_background": "light"
     },
     "output_type": "display_data"
    },
    {
     "data": {
      "image/png": "[encoded data removed]",
      "text/plain": [
       "<Figure size 432x288 with 2 Axes>"
      ]
     },
     "metadata": {
      "needs_background": "light"
     },
     "output_type": "display_data"
    }
   ],
   "source": [
    "from sklearn.metrics import ConfusionMatrixDisplay, confusion_matrix\n",
    "import matplotlib.pyplot as plt\n",
    "\n",
    "label = ['Non-AF','AF']\n",
    "cm_lr = confusion_matrix(lr_pred_exact, y_test)\n",
    "cmd_lr = ConfusionMatrixDisplay(cm_lr, display_labels=label)\n",
    "cmd_lr.plot(cmap='Blues')\n",
    "\n",
    "\n",
    "cm_rf = confusion_matrix(rf_pred_exact, y_test)\n",
    "cmd_rf = ConfusionMatrixDisplay(cm_rf, display_labels=label)\n",
    "cmd_rf.plot(cmap='Blues')\n",
    "\n",
    "cm_xgb = confusion_matrix(xgb_pred_exact, y_test)\n",
    "cmd_xgb = ConfusionMatrixDisplay(cm_xgb, display_labels=label)\n",
    "cmd_xgb.plot(cmap='Blues')\n",
    "\n",
    "cm_lgbm = confusion_matrix(lgbm_pred_exact, y_test)\n",
    "cmd_lgbm = ConfusionMatrixDisplay(cm_lgbm, display_labels=label)\n",
    "cmd_lgbm.plot(cmap='Blues')"
   ]
  },
  {
   "cell_type": "markdown",
   "metadata": {},
   "source": [
    "### Calibration plot"
   ]
  },
  {
   "cell_type": "code",
   "execution_count": 54,
   "metadata": {},
   "outputs": [],
   "source": [
    "from sklearn.calibration import calibration_curve\n",
    "\n",
    "lr_y, lr_x = calibration_curve(y_test, RSCV_lr_pred, n_bins=10)\n",
    "rf_y, rf_x = calibration_curve(y_test, RSCV_rf_pred, n_bins=10)\n",
    "xgb_y, xgb_x = calibration_curve(y_test, RSCV_xgb_pred, n_bins=10, strategy='quantile')\n",
    "lgbm_y, lgbm_x = calibration_curve(y_test, RSCV_lgbm_pred, n_bins=10)\n",
    "mlp_y, mlp_x = calibration_curve(y_test, RSCV_mlp_pred, n_bins=10)"
   ]
  },
  {
   "cell_type": "code",
   "execution_count": 55,
   "metadata": {},
   "outputs": [
    {
     "data": {
      "image/png": "[encoded data removed]",
      "text/plain": [
       "<Figure size 432x288 with 1 Axes>"
      ]
     },
     "metadata": {
      "needs_background": "light"
     },
     "output_type": "display_data"
    }
   ],
   "source": [
    "import matplotlib.pyplot as plt\n",
    "import matplotlib.lines as mlines\n",
    "import matplotlib.transforms as mtransforms\n",
    "\n",
    "fig, ax = plt.subplots()\n",
    "plt.plot(lr_x, lr_y, marker ='o', linewidth=1, label='LR')\n",
    "plt.plot(rf_x, rf_y, marker ='o', linewidth=1, label='RF')\n",
    "plt.plot(lgbm_x, lgbm_y, marker ='o', linewidth=1, label='LGBM')\n",
    "plt.plot(xgb_x, xgb_y, marker ='o', linewidth=1, label='XGB')\n",
    "plt.plot(mlp_x, mlp_y, marker ='o', linewidth=1, label='MLP')\n",
    "\n",
    "\n",
    "line = mlines.Line2D([0,1],[0,1], color='black')\n",
    "transform = ax.transAxes\n",
    "line.set_transform(transform)\n",
    "ax.add_line(line)\n",
    "ax.set_xlabel('Predicted probability')\n",
    "ax.set_ylabel('True probability in each bin')\n",
    "fig.suptitle('Calibration plot for MIMIC-AF data')\n",
    "\n",
    "plt.legend()\n",
    "plt.show()"
   ]
  },
  {
   "cell_type": "markdown",
   "metadata": {},
   "source": [
    "### SHAP plot"
   ]
  },
  {
   "cell_type": "code",
   "execution_count": 69,
   "metadata": {},
   "outputs": [],
   "source": [
    "import shap\n",
    "import matplotlib.pyplot as plt"
   ]
  },
  {
   "cell_type": "code",
   "execution_count": 70,
   "metadata": {},
   "outputs": [
    {
     "data": {
      "text/plain": [
       "{'use_label_encoder': False,\n",
       " 'objective': 'binary:logistic',\n",
       " 'n_estimators': 370,\n",
       " 'min_child_weight': 5,\n",
       " 'learning_rate': 0.008,\n",
       " 'gamma': 9,\n",
       " 'booster': 'gbtree'}"
      ]
     },
     "execution_count": 70,
     "metadata": {},
     "output_type": "execute_result"
    }
   ],
   "source": [
    "RSCV_xgb.best_params_"
   ]
  },
  {
   "cell_type": "code",
   "execution_count": 71,
   "metadata": {},
   "outputs": [
    {
     "name": "stderr",
     "output_type": "stream",
     "text": [
      "The use of label encoder in XGBClassifier is deprecated and will be removed in a future release. To remove this warning, do the following: 1) Pass option use_label_encoder=False when constructing XGBClassifier object; and 2) Encode your labels (y) as integers starting with 0, i.e. 0, 1, 2, ..., [num_class - 1].\n"
     ]
    }
   ],
   "source": [
    "xgb = XGBClassifier(objective='binary:logistic',\n",
    "n_estimators=390, learning_rate=0.006,\n",
    "min_child_weight=5, gamma=10,booster='gbtree').fit(x_train, y_train)"
   ]
  },
  {
   "cell_type": "code",
   "execution_count": 72,
   "metadata": {},
   "outputs": [
    {
     "name": "stderr",
     "output_type": "stream",
     "text": [
      "ntree_limit is deprecated, use `iteration_range` or model slicing instead.\n"
     ]
    }
   ],
   "source": [
    "explainer_xgb = shap.Explainer(xgb)\n",
    "shapValues_xgb = explainer_xgb(x_test)\n",
    "explainer_lgbm = shap.Explainer(xgb)\n",
    "shapValues_lgbm = explainer_lgbm(x_test)"
   ]
  },
  {
   "cell_type": "code",
   "execution_count": 83,
   "metadata": {},
   "outputs": [
    {
     "data": {
      "image/png": "[encoded data removed]",
      "text/plain": [
       "<Figure size 576x684 with 2 Axes>"
      ]
     },
     "metadata": {
      "needs_background": "light"
     },
     "output_type": "display_data"
    },
    {
     "data": {
      "image/png": "[encoded data removed]",
      "text/plain": [
       "<Figure size 576x684 with 2 Axes>"
      ]
     },
     "metadata": {
      "needs_background": "light"
     },
     "output_type": "display_data"
    }
   ],
   "source": [
    "xgb_shap = shap.summary_plot(shapValues_xgb, x_test)\n",
    "lgbm_shap = shap.summary_plot(shapValues_lgbm, x_test)\n"
   ]
  },
  {
   "cell_type": "code",
   "execution_count": 84,
   "metadata": {},
   "outputs": [
    {
     "data": {
      "text/plain": [
       "<Figure size 432x288 with 0 Axes>"
      ]
     },
     "execution_count": 84,
     "metadata": {},
     "output_type": "execute_result"
    },
    {
     "data": {
      "text/plain": [
       "<Figure size 432x288 with 0 Axes>"
      ]
     },
     "metadata": {},
     "output_type": "display_data"
    }
   ],
   "source": [
    "\n",
    "plt.gcf()\n"
   ]
  },
  {
   "cell_type": "code",
   "execution_count": 729,
   "metadata": {},
   "outputs": [],
   "source": [
    "df.to_csv('df_new.csv')"
   ]
  },
  {
   "cell_type": "code",
   "execution_count": null,
   "metadata": {},
   "outputs": [],
   "source": []
  }
 ],
 "metadata": {
  "interpreter": {
   "hash": "ec53bc8d97974e186cb8b5b1e54148bf5b5aa538e5a1357d0f5b6594cb5583da"
  },
  "kernelspec": {
   "display_name": "Python 3.9.7",
   "language": "python",
   "name": "python3"
  },
  "language_info": {
   "codemirror_mode": {
    "name": "ipython",
    "version": 3
   },
   "file_extension": ".py",
   "mimetype": "text/x-python",
   "name": "python",
   "nbconvert_exporter": "python",
   "pygments_lexer": "ipython3",
   "version": "3.9.7"
  },
  "orig_nbformat": 4
 },
 "nbformat": 4,
 "nbformat_minor": 2
}
